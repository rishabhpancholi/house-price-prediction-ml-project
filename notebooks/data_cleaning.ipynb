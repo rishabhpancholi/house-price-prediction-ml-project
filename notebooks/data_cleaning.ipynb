{
 "cells": [
  {
   "cell_type": "markdown",
   "id": "28c83529-c236-403c-9925-e5a68705487b",
   "metadata": {},
   "source": [
    "## 1. Importing Libraries"
   ]
  },
  {
   "cell_type": "code",
   "execution_count": 1,
   "id": "b4fec457-b8f5-4e04-9e39-05cee7d5342c",
   "metadata": {},
   "outputs": [],
   "source": [
    "from pathlib import Path\n",
    "\n",
    "import numpy as np\n",
    "import pandas as pd\n",
    "\n",
    "from sklearn.model_selection import train_test_split\n",
    "\n",
    "import warnings\n",
    "warnings.filterwarnings('ignore')\n",
    "\n",
    "pd.set_option('display.max_columns',None)"
   ]
  },
  {
   "cell_type": "markdown",
   "id": "31dfcc23-7825-40c3-bcc2-10d4f7b73d4c",
   "metadata": {},
   "source": [
    "## 2. Reading the Data"
   ]
  },
  {
   "cell_type": "code",
   "execution_count": 3,
   "id": "86ac6537-3130-4e10-939a-43db3db220a8",
   "metadata": {},
   "outputs": [],
   "source": [
    "PROJECT_DIR = Path(r\"F:\\Rishabh\\House-Price-Prediction-MLOps-Project\")\n",
    "DATA_DIR = \"data\""
   ]
  },
  {
   "cell_type": "code",
   "execution_count": 7,
   "id": "14a17eac-a543-4111-a080-8fb5883bcde2",
   "metadata": {},
   "outputs": [],
   "source": [
    "def read_data(name):\n",
    "    file_name = f\"{name}.csv\"\n",
    "    file_path = PROJECT_DIR/DATA_DIR/file_name\n",
    "\n",
    "    return pd.read_csv(file_path)"
   ]
  },
  {
   "cell_type": "code",
   "execution_count": 9,
   "id": "4188af45-f142-40b0-adf7-e7450b538afb",
   "metadata": {},
   "outputs": [],
   "source": [
    "houses = read_data(\"houses\")"
   ]
  },
  {
   "cell_type": "code",
   "execution_count": 11,
   "id": "b4ddae11-ea05-413e-af98-27251dc89c60",
   "metadata": {},
   "outputs": [
    {
     "data": {
      "text/html": [
       "<div>\n",
       "<style scoped>\n",
       "    .dataframe tbody tr th:only-of-type {\n",
       "        vertical-align: middle;\n",
       "    }\n",
       "\n",
       "    .dataframe tbody tr th {\n",
       "        vertical-align: top;\n",
       "    }\n",
       "\n",
       "    .dataframe thead th {\n",
       "        text-align: right;\n",
       "    }\n",
       "</style>\n",
       "<table border=\"1\" class=\"dataframe\">\n",
       "  <thead>\n",
       "    <tr style=\"text-align: right;\">\n",
       "      <th></th>\n",
       "      <th>Index</th>\n",
       "      <th>Title</th>\n",
       "      <th>Description</th>\n",
       "      <th>Amount(in rupees)</th>\n",
       "      <th>Price (in rupees)</th>\n",
       "      <th>location</th>\n",
       "      <th>Carpet Area</th>\n",
       "      <th>Status</th>\n",
       "      <th>Floor</th>\n",
       "      <th>Transaction</th>\n",
       "      <th>Furnishing</th>\n",
       "      <th>facing</th>\n",
       "      <th>overlooking</th>\n",
       "      <th>Society</th>\n",
       "      <th>Bathroom</th>\n",
       "      <th>Balcony</th>\n",
       "      <th>Car Parking</th>\n",
       "      <th>Ownership</th>\n",
       "      <th>Super Area</th>\n",
       "      <th>Dimensions</th>\n",
       "      <th>Plot Area</th>\n",
       "    </tr>\n",
       "  </thead>\n",
       "  <tbody>\n",
       "    <tr>\n",
       "      <th>0</th>\n",
       "      <td>0</td>\n",
       "      <td>1 BHK Ready to Occupy Flat for sale in Srushti...</td>\n",
       "      <td>Bhiwandi, Thane has an attractive 1 BHK Flat f...</td>\n",
       "      <td>42 Lac</td>\n",
       "      <td>6000.0</td>\n",
       "      <td>thane</td>\n",
       "      <td>500 sqft</td>\n",
       "      <td>Ready to Move</td>\n",
       "      <td>10 out of 11</td>\n",
       "      <td>Resale</td>\n",
       "      <td>Unfurnished</td>\n",
       "      <td>NaN</td>\n",
       "      <td>NaN</td>\n",
       "      <td>Srushti Siddhi Mangal Murti Complex</td>\n",
       "      <td>1</td>\n",
       "      <td>2</td>\n",
       "      <td>NaN</td>\n",
       "      <td>NaN</td>\n",
       "      <td>NaN</td>\n",
       "      <td>NaN</td>\n",
       "      <td>NaN</td>\n",
       "    </tr>\n",
       "    <tr>\n",
       "      <th>1</th>\n",
       "      <td>1</td>\n",
       "      <td>2 BHK Ready to Occupy Flat for sale in Dosti V...</td>\n",
       "      <td>One can find this stunning 2 BHK flat for sale...</td>\n",
       "      <td>98 Lac</td>\n",
       "      <td>13799.0</td>\n",
       "      <td>thane</td>\n",
       "      <td>473 sqft</td>\n",
       "      <td>Ready to Move</td>\n",
       "      <td>3 out of 22</td>\n",
       "      <td>Resale</td>\n",
       "      <td>Semi-Furnished</td>\n",
       "      <td>East</td>\n",
       "      <td>Garden/Park</td>\n",
       "      <td>Dosti Vihar</td>\n",
       "      <td>2</td>\n",
       "      <td>NaN</td>\n",
       "      <td>1 Open</td>\n",
       "      <td>Freehold</td>\n",
       "      <td>NaN</td>\n",
       "      <td>NaN</td>\n",
       "      <td>NaN</td>\n",
       "    </tr>\n",
       "    <tr>\n",
       "      <th>2</th>\n",
       "      <td>2</td>\n",
       "      <td>2 BHK Ready to Occupy Flat for sale in Sunrise...</td>\n",
       "      <td>Up for immediate sale is a 2 BHK apartment in ...</td>\n",
       "      <td>1.40 Cr</td>\n",
       "      <td>17500.0</td>\n",
       "      <td>thane</td>\n",
       "      <td>779 sqft</td>\n",
       "      <td>Ready to Move</td>\n",
       "      <td>10 out of 29</td>\n",
       "      <td>Resale</td>\n",
       "      <td>Unfurnished</td>\n",
       "      <td>East</td>\n",
       "      <td>Garden/Park</td>\n",
       "      <td>Sunrise by Kalpataru</td>\n",
       "      <td>2</td>\n",
       "      <td>NaN</td>\n",
       "      <td>1 Covered</td>\n",
       "      <td>Freehold</td>\n",
       "      <td>NaN</td>\n",
       "      <td>NaN</td>\n",
       "      <td>NaN</td>\n",
       "    </tr>\n",
       "    <tr>\n",
       "      <th>3</th>\n",
       "      <td>3</td>\n",
       "      <td>1 BHK Ready to Occupy Flat for sale Kasheli</td>\n",
       "      <td>This beautiful 1 BHK Flat is available for sal...</td>\n",
       "      <td>25 Lac</td>\n",
       "      <td>NaN</td>\n",
       "      <td>thane</td>\n",
       "      <td>530 sqft</td>\n",
       "      <td>Ready to Move</td>\n",
       "      <td>1 out of 3</td>\n",
       "      <td>Resale</td>\n",
       "      <td>Unfurnished</td>\n",
       "      <td>NaN</td>\n",
       "      <td>NaN</td>\n",
       "      <td>NaN</td>\n",
       "      <td>1</td>\n",
       "      <td>1</td>\n",
       "      <td>NaN</td>\n",
       "      <td>NaN</td>\n",
       "      <td>NaN</td>\n",
       "      <td>NaN</td>\n",
       "      <td>NaN</td>\n",
       "    </tr>\n",
       "    <tr>\n",
       "      <th>4</th>\n",
       "      <td>4</td>\n",
       "      <td>2 BHK Ready to Occupy Flat for sale in TenX Ha...</td>\n",
       "      <td>This lovely 2 BHK Flat in Pokhran Road, Thane ...</td>\n",
       "      <td>1.60 Cr</td>\n",
       "      <td>18824.0</td>\n",
       "      <td>thane</td>\n",
       "      <td>635 sqft</td>\n",
       "      <td>Ready to Move</td>\n",
       "      <td>20 out of 42</td>\n",
       "      <td>Resale</td>\n",
       "      <td>Unfurnished</td>\n",
       "      <td>West</td>\n",
       "      <td>Garden/Park, Main Road</td>\n",
       "      <td>TenX Habitat Raymond Realty</td>\n",
       "      <td>2</td>\n",
       "      <td>NaN</td>\n",
       "      <td>1 Covered</td>\n",
       "      <td>Co-operative Society</td>\n",
       "      <td>NaN</td>\n",
       "      <td>NaN</td>\n",
       "      <td>NaN</td>\n",
       "    </tr>\n",
       "    <tr>\n",
       "      <th>...</th>\n",
       "      <td>...</td>\n",
       "      <td>...</td>\n",
       "      <td>...</td>\n",
       "      <td>...</td>\n",
       "      <td>...</td>\n",
       "      <td>...</td>\n",
       "      <td>...</td>\n",
       "      <td>...</td>\n",
       "      <td>...</td>\n",
       "      <td>...</td>\n",
       "      <td>...</td>\n",
       "      <td>...</td>\n",
       "      <td>...</td>\n",
       "      <td>...</td>\n",
       "      <td>...</td>\n",
       "      <td>...</td>\n",
       "      <td>...</td>\n",
       "      <td>...</td>\n",
       "      <td>...</td>\n",
       "      <td>...</td>\n",
       "      <td>...</td>\n",
       "    </tr>\n",
       "    <tr>\n",
       "      <th>187526</th>\n",
       "      <td>187526</td>\n",
       "      <td>3 BHK Ready to Occupy Flat for sale in Bollywo...</td>\n",
       "      <td>This magnificent 3 BHK Flat is available for s...</td>\n",
       "      <td>63 Lac</td>\n",
       "      <td>3225.0</td>\n",
       "      <td>zirakpur</td>\n",
       "      <td>NaN</td>\n",
       "      <td>Ready to Move</td>\n",
       "      <td>2 out of 4</td>\n",
       "      <td>New Property</td>\n",
       "      <td>Semi-Furnished</td>\n",
       "      <td>East</td>\n",
       "      <td>Garden/Park</td>\n",
       "      <td>Bollywood Esencia</td>\n",
       "      <td>3</td>\n",
       "      <td>3</td>\n",
       "      <td>1 Covered</td>\n",
       "      <td>Freehold</td>\n",
       "      <td>1953 sqft</td>\n",
       "      <td>NaN</td>\n",
       "      <td>NaN</td>\n",
       "    </tr>\n",
       "    <tr>\n",
       "      <th>187527</th>\n",
       "      <td>187527</td>\n",
       "      <td>3 BHK Ready to Occupy Flat for sale in Sushma ...</td>\n",
       "      <td>Have a look at this immaculate 3 BHK flat for ...</td>\n",
       "      <td>55 Lac</td>\n",
       "      <td>3274.0</td>\n",
       "      <td>zirakpur</td>\n",
       "      <td>NaN</td>\n",
       "      <td>Ready to Move</td>\n",
       "      <td>4 out of 6</td>\n",
       "      <td>Resale</td>\n",
       "      <td>Unfurnished</td>\n",
       "      <td>North - East</td>\n",
       "      <td>Garden/Park, Main Road</td>\n",
       "      <td>Sushma Urban Views</td>\n",
       "      <td>3</td>\n",
       "      <td>NaN</td>\n",
       "      <td>1 Covered</td>\n",
       "      <td>NaN</td>\n",
       "      <td>1680 sqft</td>\n",
       "      <td>NaN</td>\n",
       "      <td>NaN</td>\n",
       "    </tr>\n",
       "    <tr>\n",
       "      <th>187528</th>\n",
       "      <td>187528</td>\n",
       "      <td>3 BHK Ready to Occupy Flat for sale in Bollywo...</td>\n",
       "      <td>Gazipur, Zirakpur has an appealing 3 BHK flat ...</td>\n",
       "      <td>76 Lac</td>\n",
       "      <td>4343.0</td>\n",
       "      <td>zirakpur</td>\n",
       "      <td>1250 sqft</td>\n",
       "      <td>Ready to Move</td>\n",
       "      <td>1 out of 3</td>\n",
       "      <td>Resale</td>\n",
       "      <td>Furnished</td>\n",
       "      <td>East</td>\n",
       "      <td>Garden/Park, Main Road</td>\n",
       "      <td>Bollywood Esencia</td>\n",
       "      <td>3</td>\n",
       "      <td>2</td>\n",
       "      <td>1 Covered,</td>\n",
       "      <td>Freehold</td>\n",
       "      <td>NaN</td>\n",
       "      <td>NaN</td>\n",
       "      <td>NaN</td>\n",
       "    </tr>\n",
       "    <tr>\n",
       "      <th>187529</th>\n",
       "      <td>187529</td>\n",
       "      <td>2 BHK Ready to Occupy Flat for sale in Friends...</td>\n",
       "      <td>Up for immediate sale is a 2 BHK apartment in ...</td>\n",
       "      <td>30 Lac</td>\n",
       "      <td>4231.0</td>\n",
       "      <td>zirakpur</td>\n",
       "      <td>NaN</td>\n",
       "      <td>Ready to Move</td>\n",
       "      <td>2 out of 2</td>\n",
       "      <td>Resale</td>\n",
       "      <td>Semi-Furnished</td>\n",
       "      <td>NaN</td>\n",
       "      <td>Main Road</td>\n",
       "      <td>Friends Enclave</td>\n",
       "      <td>2</td>\n",
       "      <td>NaN</td>\n",
       "      <td>NaN</td>\n",
       "      <td>NaN</td>\n",
       "      <td>709 sqft</td>\n",
       "      <td>NaN</td>\n",
       "      <td>NaN</td>\n",
       "    </tr>\n",
       "    <tr>\n",
       "      <th>187530</th>\n",
       "      <td>187530</td>\n",
       "      <td>3 BHK Ready to Occupy Flat for sale in Affinit...</td>\n",
       "      <td>This exquisite 3 BHK Flat is offered for sale ...</td>\n",
       "      <td>1.18 Cr</td>\n",
       "      <td>6162.0</td>\n",
       "      <td>zirakpur</td>\n",
       "      <td>NaN</td>\n",
       "      <td>Ready to Move</td>\n",
       "      <td>5 out of 13</td>\n",
       "      <td>Resale</td>\n",
       "      <td>Semi-Furnished</td>\n",
       "      <td>North - East</td>\n",
       "      <td>Garden/Park, Pool</td>\n",
       "      <td>Affinity Greens</td>\n",
       "      <td>4</td>\n",
       "      <td>4</td>\n",
       "      <td>1 Covered</td>\n",
       "      <td>Freehold</td>\n",
       "      <td>1915 sqft</td>\n",
       "      <td>NaN</td>\n",
       "      <td>NaN</td>\n",
       "    </tr>\n",
       "  </tbody>\n",
       "</table>\n",
       "<p>187531 rows × 21 columns</p>\n",
       "</div>"
      ],
      "text/plain": [
       "         Index                                              Title  \\\n",
       "0            0  1 BHK Ready to Occupy Flat for sale in Srushti...   \n",
       "1            1  2 BHK Ready to Occupy Flat for sale in Dosti V...   \n",
       "2            2  2 BHK Ready to Occupy Flat for sale in Sunrise...   \n",
       "3            3        1 BHK Ready to Occupy Flat for sale Kasheli   \n",
       "4            4  2 BHK Ready to Occupy Flat for sale in TenX Ha...   \n",
       "...        ...                                                ...   \n",
       "187526  187526  3 BHK Ready to Occupy Flat for sale in Bollywo...   \n",
       "187527  187527  3 BHK Ready to Occupy Flat for sale in Sushma ...   \n",
       "187528  187528  3 BHK Ready to Occupy Flat for sale in Bollywo...   \n",
       "187529  187529  2 BHK Ready to Occupy Flat for sale in Friends...   \n",
       "187530  187530  3 BHK Ready to Occupy Flat for sale in Affinit...   \n",
       "\n",
       "                                              Description Amount(in rupees)  \\\n",
       "0       Bhiwandi, Thane has an attractive 1 BHK Flat f...           42 Lac    \n",
       "1       One can find this stunning 2 BHK flat for sale...           98 Lac    \n",
       "2       Up for immediate sale is a 2 BHK apartment in ...          1.40 Cr    \n",
       "3       This beautiful 1 BHK Flat is available for sal...           25 Lac    \n",
       "4       This lovely 2 BHK Flat in Pokhran Road, Thane ...          1.60 Cr    \n",
       "...                                                   ...               ...   \n",
       "187526  This magnificent 3 BHK Flat is available for s...           63 Lac    \n",
       "187527  Have a look at this immaculate 3 BHK flat for ...           55 Lac    \n",
       "187528  Gazipur, Zirakpur has an appealing 3 BHK flat ...           76 Lac    \n",
       "187529  Up for immediate sale is a 2 BHK apartment in ...           30 Lac    \n",
       "187530  This exquisite 3 BHK Flat is offered for sale ...          1.18 Cr    \n",
       "\n",
       "        Price (in rupees)  location Carpet Area         Status         Floor  \\\n",
       "0                  6000.0     thane    500 sqft  Ready to Move  10 out of 11   \n",
       "1                 13799.0     thane    473 sqft  Ready to Move   3 out of 22   \n",
       "2                 17500.0     thane    779 sqft  Ready to Move  10 out of 29   \n",
       "3                     NaN     thane    530 sqft  Ready to Move    1 out of 3   \n",
       "4                 18824.0     thane    635 sqft  Ready to Move  20 out of 42   \n",
       "...                   ...       ...         ...            ...           ...   \n",
       "187526             3225.0  zirakpur         NaN  Ready to Move    2 out of 4   \n",
       "187527             3274.0  zirakpur         NaN  Ready to Move    4 out of 6   \n",
       "187528             4343.0  zirakpur   1250 sqft  Ready to Move    1 out of 3   \n",
       "187529             4231.0  zirakpur         NaN  Ready to Move    2 out of 2   \n",
       "187530             6162.0  zirakpur         NaN  Ready to Move   5 out of 13   \n",
       "\n",
       "         Transaction      Furnishing        facing             overlooking  \\\n",
       "0             Resale     Unfurnished           NaN                     NaN   \n",
       "1             Resale  Semi-Furnished          East             Garden/Park   \n",
       "2             Resale     Unfurnished          East             Garden/Park   \n",
       "3             Resale     Unfurnished           NaN                     NaN   \n",
       "4             Resale     Unfurnished          West  Garden/Park, Main Road   \n",
       "...              ...             ...           ...                     ...   \n",
       "187526  New Property  Semi-Furnished          East             Garden/Park   \n",
       "187527        Resale     Unfurnished  North - East  Garden/Park, Main Road   \n",
       "187528        Resale       Furnished          East  Garden/Park, Main Road   \n",
       "187529        Resale  Semi-Furnished           NaN               Main Road   \n",
       "187530        Resale  Semi-Furnished  North - East       Garden/Park, Pool   \n",
       "\n",
       "                                    Society Bathroom Balcony Car Parking  \\\n",
       "0       Srushti Siddhi Mangal Murti Complex        1       2         NaN   \n",
       "1                               Dosti Vihar        2     NaN      1 Open   \n",
       "2                      Sunrise by Kalpataru        2     NaN   1 Covered   \n",
       "3                                       NaN        1       1         NaN   \n",
       "4               TenX Habitat Raymond Realty        2     NaN   1 Covered   \n",
       "...                                     ...      ...     ...         ...   \n",
       "187526                    Bollywood Esencia        3       3   1 Covered   \n",
       "187527                   Sushma Urban Views        3     NaN   1 Covered   \n",
       "187528                    Bollywood Esencia        3       2  1 Covered,   \n",
       "187529                      Friends Enclave        2     NaN         NaN   \n",
       "187530                      Affinity Greens        4       4   1 Covered   \n",
       "\n",
       "                   Ownership Super Area  Dimensions  Plot Area  \n",
       "0                        NaN        NaN         NaN        NaN  \n",
       "1                   Freehold        NaN         NaN        NaN  \n",
       "2                   Freehold        NaN         NaN        NaN  \n",
       "3                        NaN        NaN         NaN        NaN  \n",
       "4       Co-operative Society        NaN         NaN        NaN  \n",
       "...                      ...        ...         ...        ...  \n",
       "187526              Freehold  1953 sqft         NaN        NaN  \n",
       "187527                   NaN  1680 sqft         NaN        NaN  \n",
       "187528              Freehold        NaN         NaN        NaN  \n",
       "187529                   NaN   709 sqft         NaN        NaN  \n",
       "187530              Freehold  1915 sqft         NaN        NaN  \n",
       "\n",
       "[187531 rows x 21 columns]"
      ]
     },
     "execution_count": 11,
     "metadata": {},
     "output_type": "execute_result"
    }
   ],
   "source": [
    "houses"
   ]
  },
  {
   "cell_type": "markdown",
   "id": "85a26b77-c0d0-4f87-a6da-706b6e8035e5",
   "metadata": {},
   "source": [
    "## 3. Preliminary Analysis"
   ]
  },
  {
   "cell_type": "code",
   "execution_count": 13,
   "id": "b836d5d9-e381-403b-99fc-7488489570eb",
   "metadata": {},
   "outputs": [
    {
     "name": "stdout",
     "output_type": "stream",
     "text": [
      "<class 'pandas.core.frame.DataFrame'>\n",
      "RangeIndex: 187531 entries, 0 to 187530\n",
      "Data columns (total 21 columns):\n",
      " #   Column             Non-Null Count   Dtype  \n",
      "---  ------             --------------   -----  \n",
      " 0   Index              187531 non-null  int64  \n",
      " 1   Title              187531 non-null  object \n",
      " 2   Description        184508 non-null  object \n",
      " 3   Amount(in rupees)  187531 non-null  object \n",
      " 4   Price (in rupees)  169866 non-null  float64\n",
      " 5   location           187531 non-null  object \n",
      " 6   Carpet Area        106858 non-null  object \n",
      " 7   Status             186916 non-null  object \n",
      " 8   Floor              180454 non-null  object \n",
      " 9   Transaction        187448 non-null  object \n",
      " 10  Furnishing         184634 non-null  object \n",
      " 11  facing             117298 non-null  object \n",
      " 12  overlooking        106095 non-null  object \n",
      " 13  Society            77853 non-null   object \n",
      " 14  Bathroom           186703 non-null  object \n",
      " 15  Balcony            138596 non-null  object \n",
      " 16  Car Parking        84174 non-null   object \n",
      " 17  Ownership          122014 non-null  object \n",
      " 18  Super Area         79846 non-null   object \n",
      " 19  Dimensions         0 non-null       float64\n",
      " 20  Plot Area          0 non-null       float64\n",
      "dtypes: float64(3), int64(1), object(17)\n",
      "memory usage: 30.0+ MB\n"
     ]
    }
   ],
   "source": [
    "houses.info()"
   ]
  },
  {
   "cell_type": "markdown",
   "id": "b86f7432-40e3-4ce6-bc17-6162e7b1ef7d",
   "metadata": {},
   "source": [
    "### 3.1 Checking for data types"
   ]
  },
  {
   "cell_type": "code",
   "execution_count": 15,
   "id": "ce036e4b-3a5a-4f6a-9a35-bf6ed9151d50",
   "metadata": {},
   "outputs": [
    {
     "data": {
      "text/plain": [
       "Index                  int64\n",
       "Title                 object\n",
       "Description           object\n",
       "Amount(in rupees)     object\n",
       "Price (in rupees)    float64\n",
       "location              object\n",
       "Carpet Area           object\n",
       "Status                object\n",
       "Floor                 object\n",
       "Transaction           object\n",
       "Furnishing            object\n",
       "facing                object\n",
       "overlooking           object\n",
       "Society               object\n",
       "Bathroom              object\n",
       "Balcony               object\n",
       "Car Parking           object\n",
       "Ownership             object\n",
       "Super Area            object\n",
       "Dimensions           float64\n",
       "Plot Area            float64\n",
       "dtype: object"
      ]
     },
     "execution_count": 15,
     "metadata": {},
     "output_type": "execute_result"
    }
   ],
   "source": [
    "houses.dtypes"
   ]
  },
  {
   "cell_type": "markdown",
   "id": "bbaa1342-899e-42db-b44f-5c85b044b698",
   "metadata": {},
   "source": [
    "**Observations**  \n",
    "- data types of some columns are not appropriate\n",
    "- there are missing values in many columns"
   ]
  },
  {
   "cell_type": "markdown",
   "id": "2a542265-4513-4945-ae55-26f195031136",
   "metadata": {},
   "source": [
    "### 3.2 Checking duplicates"
   ]
  },
  {
   "cell_type": "code",
   "execution_count": 17,
   "id": "0db3abc7-0516-4042-95ea-58d6997dfaa2",
   "metadata": {},
   "outputs": [
    {
     "data": {
      "text/plain": [
       "0"
      ]
     },
     "execution_count": 17,
     "metadata": {},
     "output_type": "execute_result"
    }
   ],
   "source": [
    "(\n",
    "    houses\n",
    "    .duplicated()\n",
    "    .sum()\n",
    ")"
   ]
  },
  {
   "cell_type": "markdown",
   "id": "5509b013-36e0-49f8-bdcb-4508f333274b",
   "metadata": {},
   "source": [
    "- there are no duplicate rows in this dataset"
   ]
  },
  {
   "cell_type": "markdown",
   "id": "d6875536-c451-4b24-b895-5e8d56c49b2e",
   "metadata": {},
   "source": [
    "## 4. Detailed Analysis"
   ]
  },
  {
   "cell_type": "markdown",
   "id": "af71f12f-8f08-4e85-ab82-18d302ec8f5f",
   "metadata": {},
   "source": [
    "### 4.1 `Title`"
   ]
  },
  {
   "cell_type": "code",
   "execution_count": 19,
   "id": "38af0d7b-e5c3-4411-8dec-e9d8145b8dc1",
   "metadata": {},
   "outputs": [
    {
     "data": {
      "text/plain": [
       "0         1 BHK Ready to Occupy Flat for sale in Srushti...\n",
       "1         2 BHK Ready to Occupy Flat for sale in Dosti V...\n",
       "2         2 BHK Ready to Occupy Flat for sale in Sunrise...\n",
       "3               1 BHK Ready to Occupy Flat for sale Kasheli\n",
       "4         2 BHK Ready to Occupy Flat for sale in TenX Ha...\n",
       "                                ...                        \n",
       "187526    3 BHK Ready to Occupy Flat for sale in Bollywo...\n",
       "187527    3 BHK Ready to Occupy Flat for sale in Sushma ...\n",
       "187528    3 BHK Ready to Occupy Flat for sale in Bollywo...\n",
       "187529    2 BHK Ready to Occupy Flat for sale in Friends...\n",
       "187530    3 BHK Ready to Occupy Flat for sale in Affinit...\n",
       "Name: Title, Length: 187531, dtype: object"
      ]
     },
     "execution_count": 19,
     "metadata": {},
     "output_type": "execute_result"
    }
   ],
   "source": [
    "houses.Title"
   ]
  },
  {
   "cell_type": "code",
   "execution_count": 21,
   "id": "2e6c751a-b14e-4044-bc50-f51a7a263f26",
   "metadata": {},
   "outputs": [
    {
     "data": {
      "text/plain": [
       "0"
      ]
     },
     "execution_count": 21,
     "metadata": {},
     "output_type": "execute_result"
    }
   ],
   "source": [
    "(\n",
    "    houses\n",
    "    .Title\n",
    "    .isnull()\n",
    "    .sum()\n",
    ")"
   ]
  },
  {
   "cell_type": "code",
   "execution_count": 23,
   "id": "635d7460-f279-4774-9205-dd186928ad6c",
   "metadata": {},
   "outputs": [
    {
     "data": {
      "text/plain": [
       "115                 Studio Apartment for sale Dombivli East\n",
       "149                  Studio Apartment for sale Vartak Nagar\n",
       "150        Studio Apartment for sale in Lok Nagari Phase...\n",
       "278                      Studio Apartment for sale Asangaon\n",
       "293                          Apartment for sale Kisan Nagar\n",
       "                                ...                        \n",
       "186480     Studio Apartment for sale in Royale High Stre...\n",
       "187052                    Studio Apartment for sale Gazipur\n",
       "187182     Studio Apartment for sale in Royale High Stre...\n",
       "187377                    Studio Apartment for sale Dhakoli\n",
       "187466                   Studio Apartment for sale VIP Road\n",
       "Name: Title, Length: 921, dtype: object"
      ]
     },
     "execution_count": 23,
     "metadata": {},
     "output_type": "execute_result"
    }
   ],
   "source": [
    "(\n",
    "    houses\n",
    "    .Title\n",
    "    .loc[lambda ser: ~ser.str.contains(\"BHK\")]\n",
    ")"
   ]
  },
  {
   "cell_type": "code",
   "execution_count": 12,
   "id": "4f73a1df-a8cb-4435-b253-f6552179bc8b",
   "metadata": {},
   "outputs": [
    {
     "data": {
      "text/plain": [
       "115                 Studio Apartment for sale Dombivli East\n",
       "149                  Studio Apartment for sale Vartak Nagar\n",
       "150        Studio Apartment for sale in Lok Nagari Phase...\n",
       "278                      Studio Apartment for sale Asangaon\n",
       "293                          Apartment for sale Kisan Nagar\n",
       "                                ...                        \n",
       "186480     Studio Apartment for sale in Royale High Stre...\n",
       "187052                    Studio Apartment for sale Gazipur\n",
       "187182     Studio Apartment for sale in Royale High Stre...\n",
       "187377                    Studio Apartment for sale Dhakoli\n",
       "187466                   Studio Apartment for sale VIP Road\n",
       "Name: Title, Length: 921, dtype: object"
      ]
     },
     "execution_count": 12,
     "metadata": {},
     "output_type": "execute_result"
    }
   ],
   "source": [
    "(\n",
    "    houses\n",
    "    .Title\n",
    "    .loc[lambda ser: ~ser.str.contains(\"Flat\")]\n",
    ")"
   ]
  },
  {
   "cell_type": "markdown",
   "id": "e144a7ab-8f7a-4e20-9879-2b669780cbdf",
   "metadata": {},
   "source": [
    "### 4.2 `Description`"
   ]
  },
  {
   "cell_type": "code",
   "execution_count": 13,
   "id": "d2e956ff-b9dc-4a5f-a8cc-b1ed751486e9",
   "metadata": {},
   "outputs": [
    {
     "data": {
      "text/plain": [
       "0         Bhiwandi, Thane has an attractive 1 BHK Flat f...\n",
       "1         One can find this stunning 2 BHK flat for sale...\n",
       "2         Up for immediate sale is a 2 BHK apartment in ...\n",
       "3         This beautiful 1 BHK Flat is available for sal...\n",
       "4         This lovely 2 BHK Flat in Pokhran Road, Thane ...\n",
       "                                ...                        \n",
       "187526    This magnificent 3 BHK Flat is available for s...\n",
       "187527    Have a look at this immaculate 3 BHK flat for ...\n",
       "187528    Gazipur, Zirakpur has an appealing 3 BHK flat ...\n",
       "187529    Up for immediate sale is a 2 BHK apartment in ...\n",
       "187530    This exquisite 3 BHK Flat is offered for sale ...\n",
       "Name: Description, Length: 187531, dtype: object"
      ]
     },
     "execution_count": 13,
     "metadata": {},
     "output_type": "execute_result"
    }
   ],
   "source": [
    "houses.Description"
   ]
  },
  {
   "cell_type": "markdown",
   "id": "db5be1a8-25b1-4215-b1d4-7f29b1e4b377",
   "metadata": {},
   "source": [
    "- this column should be dropped"
   ]
  },
  {
   "cell_type": "markdown",
   "id": "4a89a165-140a-4cf7-a67b-924e5c5372ea",
   "metadata": {},
   "source": [
    "### 4.3 `Amount(in rupees)`"
   ]
  },
  {
   "cell_type": "code",
   "execution_count": 14,
   "id": "afbb2ac3-3579-428b-9f3a-55e10dfeafd0",
   "metadata": {},
   "outputs": [
    {
     "data": {
      "text/plain": [
       "0          42 Lac \n",
       "1          98 Lac \n",
       "2         1.40 Cr \n",
       "3          25 Lac \n",
       "4         1.60 Cr \n",
       "            ...   \n",
       "187526     63 Lac \n",
       "187527     55 Lac \n",
       "187528     76 Lac \n",
       "187529     30 Lac \n",
       "187530    1.18 Cr \n",
       "Name: Amount(in rupees), Length: 187531, dtype: object"
      ]
     },
     "execution_count": 14,
     "metadata": {},
     "output_type": "execute_result"
    }
   ],
   "source": [
    "houses[\"Amount(in rupees)\"] "
   ]
  },
  {
   "cell_type": "code",
   "execution_count": 15,
   "id": "2aff3f68-1d9d-4575-82c1-354d5c25f747",
   "metadata": {},
   "outputs": [
    {
     "data": {
      "text/plain": [
       "24        Call for Price\n",
       "37        Call for Price\n",
       "83        Call for Price\n",
       "131       Call for Price\n",
       "177       Call for Price\n",
       "               ...      \n",
       "187404    Call for Price\n",
       "187442    Call for Price\n",
       "187503    Call for Price\n",
       "187506    Call for Price\n",
       "187513    Call for Price\n",
       "Name: Amount(in rupees), Length: 9684, dtype: object"
      ]
     },
     "execution_count": 15,
     "metadata": {},
     "output_type": "execute_result"
    }
   ],
   "source": [
    "(\n",
    "    houses[\"Amount(in rupees)\"]\n",
    "    .loc[lambda ser: ~ser.str.contains(\"Lac\")]\n",
    "    .loc[lambda ser: ~ser.str.contains(\"Cr\")]\n",
    ")"
   ]
  },
  {
   "cell_type": "markdown",
   "id": "c146cbae-1609-4f20-8e7a-11a64c4fca78",
   "metadata": {},
   "source": [
    "- There are 9684 rows which has no price so these has to be dropped"
   ]
  },
  {
   "cell_type": "markdown",
   "id": "b63873c7-8638-4e11-8c78-808ad2fc381b",
   "metadata": {},
   "source": [
    "### 4.4 `Carpet Area`"
   ]
  },
  {
   "cell_type": "code",
   "execution_count": 16,
   "id": "fb8ce027-71a9-46fc-88f3-45ff3a1b3c64",
   "metadata": {},
   "outputs": [
    {
     "data": {
      "text/plain": [
       "0          500 sqft\n",
       "1          473 sqft\n",
       "2          779 sqft\n",
       "3          530 sqft\n",
       "4          635 sqft\n",
       "            ...    \n",
       "187526          NaN\n",
       "187527          NaN\n",
       "187528    1250 sqft\n",
       "187529          NaN\n",
       "187530          NaN\n",
       "Name: Carpet Area, Length: 187531, dtype: object"
      ]
     },
     "execution_count": 16,
     "metadata": {},
     "output_type": "execute_result"
    }
   ],
   "source": [
    "houses[\"Carpet Area\"]"
   ]
  },
  {
   "cell_type": "code",
   "execution_count": 17,
   "id": "b09059ce-660a-4ace-be18-91efa61852dc",
   "metadata": {},
   "outputs": [
    {
     "data": {
      "text/plain": [
       "93644      1500 acre\n",
       "113787        2 acre\n",
       "147912      3 ground\n",
       "152383        3 cent\n",
       "162057    1607 bigha\n",
       "173555      14 marla\n",
       "173633       1 kanal\n",
       "173685      14 marla\n",
       "173757       1 kanal\n",
       "173796      10 marla\n",
       "Name: Carpet Area, dtype: object"
      ]
     },
     "execution_count": 17,
     "metadata": {},
     "output_type": "execute_result"
    }
   ],
   "source": [
    "(\n",
    "    houses[\"Carpet Area\"]\n",
    "    .loc[lambda ser: ~ser.isnull()]\n",
    "    .loc[lambda ser: ~ser.str.contains(\"sqft\")]\n",
    "    .loc[lambda ser: ~ser.str.contains(\"sqm\")]\n",
    "    .loc[lambda ser: ~ser.str.contains(\"sqyrd\")]\n",
    ")"
   ]
  },
  {
   "cell_type": "markdown",
   "id": "639591f9-d4bb-4039-9877-784e41b41d1c",
   "metadata": {},
   "source": [
    "- there are so many different units in this column\n",
    "- all the units should be the same"
   ]
  },
  {
   "cell_type": "markdown",
   "id": "669e7ab7-0c90-4eaf-b967-80e5bd653fd9",
   "metadata": {},
   "source": [
    "### 4.5 `Status`"
   ]
  },
  {
   "cell_type": "code",
   "execution_count": 18,
   "id": "3905cc10-3789-4abb-8ac6-35e225967bad",
   "metadata": {},
   "outputs": [
    {
     "data": {
      "text/plain": [
       "0         Ready to Move\n",
       "1         Ready to Move\n",
       "2         Ready to Move\n",
       "3         Ready to Move\n",
       "4         Ready to Move\n",
       "              ...      \n",
       "187526    Ready to Move\n",
       "187527    Ready to Move\n",
       "187528    Ready to Move\n",
       "187529    Ready to Move\n",
       "187530    Ready to Move\n",
       "Name: Status, Length: 187531, dtype: object"
      ]
     },
     "execution_count": 18,
     "metadata": {},
     "output_type": "execute_result"
    }
   ],
   "source": [
    "houses.Status"
   ]
  },
  {
   "cell_type": "code",
   "execution_count": 19,
   "id": "34388bb7-56d6-43a8-9dad-6f4d6dbbead1",
   "metadata": {},
   "outputs": [
    {
     "data": {
      "text/plain": [
       "Status\n",
       "Ready to Move    186916\n",
       "Name: count, dtype: int64"
      ]
     },
     "execution_count": 19,
     "metadata": {},
     "output_type": "execute_result"
    }
   ],
   "source": [
    "(\n",
    "    houses\n",
    "    .Status\n",
    "    .value_counts()\n",
    ")"
   ]
  },
  {
   "cell_type": "markdown",
   "id": "fa8d62ed-601a-4511-bacb-cdb85e08f746",
   "metadata": {},
   "source": [
    "- this column has only 1 category and it has to be dropped"
   ]
  },
  {
   "cell_type": "markdown",
   "id": "2012386d-c6f0-4c63-8c1f-d9583485a92c",
   "metadata": {},
   "source": [
    "### 4.6 `Floor`"
   ]
  },
  {
   "cell_type": "code",
   "execution_count": 20,
   "id": "1e34dfbe-0c0d-4123-aac2-2fbfc9817fb1",
   "metadata": {},
   "outputs": [
    {
     "data": {
      "text/plain": [
       "0         10 out of 11\n",
       "1          3 out of 22\n",
       "2         10 out of 29\n",
       "3           1 out of 3\n",
       "4         20 out of 42\n",
       "              ...     \n",
       "187526      2 out of 4\n",
       "187527      4 out of 6\n",
       "187528      1 out of 3\n",
       "187529      2 out of 2\n",
       "187530     5 out of 13\n",
       "Name: Floor, Length: 187531, dtype: object"
      ]
     },
     "execution_count": 20,
     "metadata": {},
     "output_type": "execute_result"
    }
   ],
   "source": [
    "houses.Floor"
   ]
  },
  {
   "cell_type": "code",
   "execution_count": 21,
   "id": "349a0826-695b-458f-8c72-8ba99138319e",
   "metadata": {},
   "outputs": [
    {
     "data": {
      "text/plain": [
       "1295                   2\n",
       "4584                   2\n",
       "4890              Ground\n",
       "16292                  4\n",
       "40127                  1\n",
       "40225                  4\n",
       "41375                  3\n",
       "51034             Ground\n",
       "71650                  4\n",
       "85054                  3\n",
       "91040             Ground\n",
       "92171                  2\n",
       "115431                 2\n",
       "118002                 2\n",
       "144943                 3\n",
       "148741                 6\n",
       "150784                 2\n",
       "151091                 6\n",
       "152995                 2\n",
       "155281                13\n",
       "156322                 3\n",
       "159037                 2\n",
       "159038                 1\n",
       "159039                 2\n",
       "159040                 2\n",
       "159041                 1\n",
       "159042                 2\n",
       "159047                 1\n",
       "159048                 1\n",
       "159049                 2\n",
       "160226                 3\n",
       "160888                12\n",
       "161281                 2\n",
       "162016                20\n",
       "166332                 5\n",
       "166428            Ground\n",
       "168325                 3\n",
       "169890                 1\n",
       "173153                 4\n",
       "174757                 3\n",
       "175518                 1\n",
       "175704                 1\n",
       "175705                 1\n",
       "175706                 1\n",
       "176240                 1\n",
       "176241                 1\n",
       "176242                 1\n",
       "177462    Lower Basement\n",
       "180229                 5\n",
       "Name: Floor, dtype: object"
      ]
     },
     "execution_count": 21,
     "metadata": {},
     "output_type": "execute_result"
    }
   ],
   "source": [
    "(\n",
    "    houses\n",
    "    .Floor\n",
    "    .loc[lambda ser: ~ser.isnull()]\n",
    "    .loc[lambda ser: ~ser.str.contains(\"out of\")]\n",
    ")"
   ]
  },
  {
   "cell_type": "markdown",
   "id": "f28dce81-8408-4a85-bdb6-140228910945",
   "metadata": {},
   "source": [
    "- there are a lot of mixed values in this column"
   ]
  },
  {
   "cell_type": "markdown",
   "id": "891928be-be59-41a3-9d4a-f6700afeaefe",
   "metadata": {},
   "source": [
    "### 4.7 `Transaction`"
   ]
  },
  {
   "cell_type": "code",
   "execution_count": 22,
   "id": "b924fc33-f59c-4bf7-a668-79bc6ff85338",
   "metadata": {},
   "outputs": [
    {
     "data": {
      "text/plain": [
       "0               Resale\n",
       "1               Resale\n",
       "2               Resale\n",
       "3               Resale\n",
       "4               Resale\n",
       "              ...     \n",
       "187526    New Property\n",
       "187527          Resale\n",
       "187528          Resale\n",
       "187529          Resale\n",
       "187530          Resale\n",
       "Name: Transaction, Length: 187531, dtype: object"
      ]
     },
     "execution_count": 22,
     "metadata": {},
     "output_type": "execute_result"
    }
   ],
   "source": [
    "houses.Transaction"
   ]
  },
  {
   "cell_type": "code",
   "execution_count": 23,
   "id": "facf919a-39de-4a34-ad73-81563569a14e",
   "metadata": {},
   "outputs": [
    {
     "data": {
      "text/plain": [
       "Transaction\n",
       "Resale          144172\n",
       "New Property     42565\n",
       "Other              709\n",
       "Rent/Lease           2\n",
       "Name: count, dtype: int64"
      ]
     },
     "execution_count": 23,
     "metadata": {},
     "output_type": "execute_result"
    }
   ],
   "source": [
    "(\n",
    "    houses\n",
    "    .Transaction\n",
    "    .value_counts()\n",
    ")"
   ]
  },
  {
   "cell_type": "markdown",
   "id": "8dc234c4-515a-49cf-b2ed-e99740e15070",
   "metadata": {},
   "source": [
    "### 4.8 `Furnishing`"
   ]
  },
  {
   "cell_type": "code",
   "execution_count": 24,
   "id": "d2a15c7d-88b2-423c-8925-b6c5b7004910",
   "metadata": {},
   "outputs": [
    {
     "data": {
      "text/plain": [
       "0            Unfurnished\n",
       "1         Semi-Furnished\n",
       "2            Unfurnished\n",
       "3            Unfurnished\n",
       "4            Unfurnished\n",
       "               ...      \n",
       "187526    Semi-Furnished\n",
       "187527       Unfurnished\n",
       "187528         Furnished\n",
       "187529    Semi-Furnished\n",
       "187530    Semi-Furnished\n",
       "Name: Furnishing, Length: 187531, dtype: object"
      ]
     },
     "execution_count": 24,
     "metadata": {},
     "output_type": "execute_result"
    }
   ],
   "source": [
    "houses.Furnishing"
   ]
  },
  {
   "cell_type": "code",
   "execution_count": 25,
   "id": "258e4c28-2ec7-453c-bd4b-2a23e3894c2f",
   "metadata": {},
   "outputs": [
    {
     "data": {
      "text/plain": [
       "Furnishing\n",
       "Semi-Furnished    88318\n",
       "Unfurnished       76154\n",
       "Furnished         20162\n",
       "Name: count, dtype: int64"
      ]
     },
     "execution_count": 25,
     "metadata": {},
     "output_type": "execute_result"
    }
   ],
   "source": [
    "(\n",
    "    houses\n",
    "    .Furnishing\n",
    "    .value_counts()\n",
    ")"
   ]
  },
  {
   "cell_type": "markdown",
   "id": "a57ef806-def8-486b-a6a0-1b915963628b",
   "metadata": {},
   "source": [
    "### 4.9 `facing`"
   ]
  },
  {
   "cell_type": "code",
   "execution_count": 26,
   "id": "d4920861-f86e-43bb-a8eb-f8467d8270e1",
   "metadata": {},
   "outputs": [
    {
     "data": {
      "text/plain": [
       "0                  NaN\n",
       "1                 East\n",
       "2                 East\n",
       "3                  NaN\n",
       "4                 West\n",
       "              ...     \n",
       "187526            East\n",
       "187527    North - East\n",
       "187528            East\n",
       "187529             NaN\n",
       "187530    North - East\n",
       "Name: facing, Length: 187531, dtype: object"
      ]
     },
     "execution_count": 26,
     "metadata": {},
     "output_type": "execute_result"
    }
   ],
   "source": [
    "houses.facing"
   ]
  },
  {
   "cell_type": "code",
   "execution_count": 27,
   "id": "db78be34-026c-4b33-9264-2b5fb38f788f",
   "metadata": {},
   "outputs": [
    {
     "data": {
      "text/plain": [
       "facing\n",
       "East            54741\n",
       "North - East    24220\n",
       "North           16533\n",
       "West             8574\n",
       "South            4694\n",
       "North - West     3843\n",
       "South - East     2622\n",
       "South -West      2071\n",
       "Name: count, dtype: int64"
      ]
     },
     "execution_count": 27,
     "metadata": {},
     "output_type": "execute_result"
    }
   ],
   "source": [
    "(\n",
    "    houses\n",
    "    .facing\n",
    "    .value_counts()\n",
    ")"
   ]
  },
  {
   "cell_type": "markdown",
   "id": "069451d3-7f02-4a60-b0f2-37aa38b7a768",
   "metadata": {},
   "source": [
    "### 4.10 `overlooking`"
   ]
  },
  {
   "cell_type": "code",
   "execution_count": 28,
   "id": "988d1cee-c98f-4fec-b3bb-5c2a3fbb3418",
   "metadata": {},
   "outputs": [
    {
     "data": {
      "text/plain": [
       "0                            NaN\n",
       "1                    Garden/Park\n",
       "2                    Garden/Park\n",
       "3                            NaN\n",
       "4         Garden/Park, Main Road\n",
       "                   ...          \n",
       "187526               Garden/Park\n",
       "187527    Garden/Park, Main Road\n",
       "187528    Garden/Park, Main Road\n",
       "187529                 Main Road\n",
       "187530         Garden/Park, Pool\n",
       "Name: overlooking, Length: 187531, dtype: object"
      ]
     },
     "execution_count": 28,
     "metadata": {},
     "output_type": "execute_result"
    }
   ],
   "source": [
    "houses.overlooking"
   ]
  },
  {
   "cell_type": "code",
   "execution_count": 29,
   "id": "2435fa1d-71ac-4aa7-9446-855be8e7a3bc",
   "metadata": {},
   "outputs": [
    {
     "data": {
      "text/plain": [
       "overlooking\n",
       "Main Road                                      32193\n",
       "Garden/Park, Main Road                         27238\n",
       "Garden/Park                                    23077\n",
       "Garden/Park, Pool, Main Road                   12413\n",
       "Pool, Garden/Park, Main Road                    3615\n",
       "Garden/Park, Pool                               2880\n",
       "Main Road, Garden/Park, Pool                    1359\n",
       "Pool, Main Road                                 1136\n",
       "Pool                                            1012\n",
       "Main Road, Garden/Park                           666\n",
       "Pool, Garden/Park                                435\n",
       "Garden/Park, Main Road, Pool                      39\n",
       "Main Road, Pool                                   11\n",
       "Main Road, Pool, Garden/Park                       8\n",
       "Pool, Main Road, Garden/Park                       6\n",
       "Main Road, Not Available                           4\n",
       "Garden/Park, Pool, Main Road, Not Available        1\n",
       "Garden/Park, Not Available                         1\n",
       "Pool, Main Road, Not Available                     1\n",
       "Name: count, dtype: int64"
      ]
     },
     "execution_count": 29,
     "metadata": {},
     "output_type": "execute_result"
    }
   ],
   "source": [
    "(\n",
    "    houses\n",
    "    .overlooking\n",
    "    .value_counts()\n",
    ")"
   ]
  },
  {
   "cell_type": "markdown",
   "id": "56bb376a-6b58-4b92-abc9-8bf39d796f26",
   "metadata": {},
   "source": [
    "### 4.11 `Society`"
   ]
  },
  {
   "cell_type": "code",
   "execution_count": 30,
   "id": "dea8d39e-1083-47ec-823b-4236b00a6a09",
   "metadata": {},
   "outputs": [
    {
     "data": {
      "text/plain": [
       "0         Srushti Siddhi Mangal Murti Complex\n",
       "1                                 Dosti Vihar\n",
       "2                        Sunrise by Kalpataru\n",
       "3                                         NaN\n",
       "4                 TenX Habitat Raymond Realty\n",
       "                         ...                 \n",
       "187526                      Bollywood Esencia\n",
       "187527                     Sushma Urban Views\n",
       "187528                      Bollywood Esencia\n",
       "187529                        Friends Enclave\n",
       "187530                        Affinity Greens\n",
       "Name: Society, Length: 187531, dtype: object"
      ]
     },
     "execution_count": 30,
     "metadata": {},
     "output_type": "execute_result"
    }
   ],
   "source": [
    "houses.Society"
   ]
  },
  {
   "cell_type": "code",
   "execution_count": 31,
   "id": "f9459628-2402-474b-9c6c-ab5f5efbd702",
   "metadata": {},
   "outputs": [
    {
     "data": {
      "text/plain": [
       "Society\n",
       "Hamdam Apartment           1648\n",
       "Malibu Town                1158\n",
       "Shree Vardhman Victoria    1154\n",
       "DLF Skycourt               1153\n",
       "Nebula Tower                982\n",
       "                           ... \n",
       "Kumar Princeville             1\n",
       "Nyati Equatorial              1\n",
       "Sentosa Serene                1\n",
       "Shubhankar Durvaa             1\n",
       "Dreams Estate                 1\n",
       "Name: count, Length: 10376, dtype: int64"
      ]
     },
     "execution_count": 31,
     "metadata": {},
     "output_type": "execute_result"
    }
   ],
   "source": [
    "(\n",
    "    houses\n",
    "    .Society\n",
    "    .value_counts()\n",
    ")"
   ]
  },
  {
   "cell_type": "markdown",
   "id": "beb8d2b6-3013-4e61-8d8d-0386609ddf59",
   "metadata": {},
   "source": [
    "- this column should be dropped"
   ]
  },
  {
   "cell_type": "markdown",
   "id": "a221bb5d-3684-46c8-832b-f1b06dfcd79f",
   "metadata": {},
   "source": [
    "### 4.12 `Bathroom`"
   ]
  },
  {
   "cell_type": "code",
   "execution_count": 32,
   "id": "b9e32011-eca3-42b8-a249-43bc76ddf7b0",
   "metadata": {},
   "outputs": [
    {
     "data": {
      "text/plain": [
       "0         1\n",
       "1         2\n",
       "2         2\n",
       "3         1\n",
       "4         2\n",
       "         ..\n",
       "187526    3\n",
       "187527    3\n",
       "187528    3\n",
       "187529    2\n",
       "187530    4\n",
       "Name: Bathroom, Length: 187531, dtype: object"
      ]
     },
     "execution_count": 32,
     "metadata": {},
     "output_type": "execute_result"
    }
   ],
   "source": [
    "houses.Bathroom"
   ]
  },
  {
   "cell_type": "code",
   "execution_count": 33,
   "id": "81166fc1-a7de-41bc-a45d-d93b8c9b06a0",
   "metadata": {},
   "outputs": [
    {
     "data": {
      "text/plain": [
       "Bathroom\n",
       "2       93007\n",
       "3       55781\n",
       "1       18654\n",
       "4       15600\n",
       "5        3343\n",
       "6         209\n",
       "7          35\n",
       "> 10       35\n",
       "10         14\n",
       "8          14\n",
       "9          11\n",
       "Name: count, dtype: int64"
      ]
     },
     "execution_count": 33,
     "metadata": {},
     "output_type": "execute_result"
    }
   ],
   "source": [
    "(\n",
    "    houses\n",
    "    .Bathroom\n",
    "    .value_counts()\n",
    ")"
   ]
  },
  {
   "cell_type": "markdown",
   "id": "dc312705-23cb-4eaa-a812-7ec767680c2f",
   "metadata": {},
   "source": [
    "### 4.13 `Balcony`"
   ]
  },
  {
   "cell_type": "code",
   "execution_count": 34,
   "id": "a855ff0d-819b-4be4-af27-42d55ea77ba2",
   "metadata": {},
   "outputs": [
    {
     "data": {
      "text/plain": [
       "0           2\n",
       "1         NaN\n",
       "2         NaN\n",
       "3           1\n",
       "4         NaN\n",
       "         ... \n",
       "187526      3\n",
       "187527    NaN\n",
       "187528      2\n",
       "187529    NaN\n",
       "187530      4\n",
       "Name: Balcony, Length: 187531, dtype: object"
      ]
     },
     "execution_count": 34,
     "metadata": {},
     "output_type": "execute_result"
    }
   ],
   "source": [
    "houses.Balcony"
   ]
  },
  {
   "cell_type": "code",
   "execution_count": 35,
   "id": "7cbcf4ba-aa4f-4c45-962b-910baca64751",
   "metadata": {},
   "outputs": [
    {
     "data": {
      "text/plain": [
       "Balcony\n",
       "2       51809\n",
       "1       49219\n",
       "3       27111\n",
       "4        9420\n",
       "5         841\n",
       "6         132\n",
       "> 10       22\n",
       "7          14\n",
       "10         13\n",
       "8          13\n",
       "9           2\n",
       "Name: count, dtype: int64"
      ]
     },
     "execution_count": 35,
     "metadata": {},
     "output_type": "execute_result"
    }
   ],
   "source": [
    "(\n",
    "    houses\n",
    "    .Balcony\n",
    "    .value_counts()\n",
    ")"
   ]
  },
  {
   "cell_type": "markdown",
   "id": "e295a6f7-cd07-4105-b8ec-3db05f9e2a69",
   "metadata": {},
   "source": [
    "### 4.14 `Car Parking`"
   ]
  },
  {
   "cell_type": "code",
   "execution_count": 36,
   "id": "d77c45c0-2d80-4c98-a96a-8a6d2f93c0e3",
   "metadata": {},
   "outputs": [
    {
     "data": {
      "text/plain": [
       "0                NaN\n",
       "1             1 Open\n",
       "2          1 Covered\n",
       "3                NaN\n",
       "4          1 Covered\n",
       "             ...    \n",
       "187526     1 Covered\n",
       "187527     1 Covered\n",
       "187528    1 Covered,\n",
       "187529           NaN\n",
       "187530     1 Covered\n",
       "Name: Car Parking, Length: 187531, dtype: object"
      ]
     },
     "execution_count": 36,
     "metadata": {},
     "output_type": "execute_result"
    }
   ],
   "source": [
    "houses[\"Car Parking\"]"
   ]
  },
  {
   "cell_type": "code",
   "execution_count": 37,
   "id": "bb6197d9-3c2f-49aa-ab37-583a03428ae3",
   "metadata": {},
   "outputs": [
    {
     "data": {
      "text/plain": [
       "Car Parking\n",
       "1 Covered      38754\n",
       "1 Covered,     16991\n",
       "2 Covered      10691\n",
       "1 Open          7873\n",
       "2 Covered,      3978\n",
       "               ...  \n",
       "206 Covered        1\n",
       "205 Covered        1\n",
       "11 Covered,        1\n",
       "403 Covered        1\n",
       "702 Open           1\n",
       "Name: count, Length: 229, dtype: int64"
      ]
     },
     "execution_count": 37,
     "metadata": {},
     "output_type": "execute_result"
    }
   ],
   "source": [
    "(\n",
    "    houses[\"Car Parking\"]\n",
    "    .value_counts()\n",
    ")"
   ]
  },
  {
   "cell_type": "code",
   "execution_count": 38,
   "id": "fadfd034-9946-4a0f-84af-15877fd57a50",
   "metadata": {},
   "outputs": [
    {
     "data": {
      "text/plain": [
       "Series([], Name: Car Parking, dtype: object)"
      ]
     },
     "execution_count": 38,
     "metadata": {},
     "output_type": "execute_result"
    }
   ],
   "source": [
    "(\n",
    "    houses[\"Car Parking\"]\n",
    "    .loc[lambda ser: ~ser.isnull()]\n",
    "    .loc[lambda ser: ~ser.str.contains(\"Open\")]\n",
    "    .loc[lambda ser: ~ser.str.contains(\"Covered\")]\n",
    ")"
   ]
  },
  {
   "cell_type": "markdown",
   "id": "b697096b-0807-45f9-82c6-fe20777d3585",
   "metadata": {},
   "source": [
    "### 4.15 `Ownership`"
   ]
  },
  {
   "cell_type": "code",
   "execution_count": 39,
   "id": "f2b072ab-9dac-4fba-b146-06be56add176",
   "metadata": {},
   "outputs": [
    {
     "data": {
      "text/plain": [
       "0                          NaN\n",
       "1                     Freehold\n",
       "2                     Freehold\n",
       "3                          NaN\n",
       "4         Co-operative Society\n",
       "                  ...         \n",
       "187526                Freehold\n",
       "187527                     NaN\n",
       "187528                Freehold\n",
       "187529                     NaN\n",
       "187530                Freehold\n",
       "Name: Ownership, Length: 187531, dtype: object"
      ]
     },
     "execution_count": 39,
     "metadata": {},
     "output_type": "execute_result"
    }
   ],
   "source": [
    "houses.Ownership"
   ]
  },
  {
   "cell_type": "code",
   "execution_count": 40,
   "id": "def73b38-2204-40f5-8305-468dd30bd52e",
   "metadata": {},
   "outputs": [
    {
     "data": {
      "text/plain": [
       "Ownership\n",
       "Freehold                112229\n",
       "Leasehold                 5285\n",
       "Co-operative Society      3431\n",
       "Power Of Attorney         1069\n",
       "Name: count, dtype: int64"
      ]
     },
     "execution_count": 40,
     "metadata": {},
     "output_type": "execute_result"
    }
   ],
   "source": [
    "(\n",
    "    houses\n",
    "    .Ownership\n",
    "    .value_counts()\n",
    ")"
   ]
  },
  {
   "cell_type": "markdown",
   "id": "fa8b916b-87da-4453-871d-6edfc59f4474",
   "metadata": {},
   "source": [
    "### 4.16 `Super Area`"
   ]
  },
  {
   "cell_type": "code",
   "execution_count": 41,
   "id": "fd9145ce-42ed-401b-bcf3-dcc707c06695",
   "metadata": {},
   "outputs": [
    {
     "data": {
      "text/plain": [
       "0               NaN\n",
       "1               NaN\n",
       "2               NaN\n",
       "3               NaN\n",
       "4               NaN\n",
       "            ...    \n",
       "187526    1953 sqft\n",
       "187527    1680 sqft\n",
       "187528          NaN\n",
       "187529     709 sqft\n",
       "187530    1915 sqft\n",
       "Name: Super Area, Length: 187531, dtype: object"
      ]
     },
     "execution_count": 41,
     "metadata": {},
     "output_type": "execute_result"
    }
   ],
   "source": [
    "houses[\"Super Area\"]"
   ]
  },
  {
   "cell_type": "code",
   "execution_count": 42,
   "id": "8005acbe-e77a-48ab-95cc-c79dfe551bc3",
   "metadata": {},
   "outputs": [
    {
     "data": {
      "text/plain": [
       "15415         1810 marla\n",
       "150826           8 marla\n",
       "150891           4 marla\n",
       "150926           5 marla\n",
       "151023           4 kanal\n",
       "151052           8 marla\n",
       "151347           8 marla\n",
       "154245        700 ground\n",
       "170988           8 marla\n",
       "171139           5 marla\n",
       "171914       1970 biswa2\n",
       "173411      485 aankadam\n",
       "173752           2 kanal\n",
       "175044          998 acre\n",
       "176805        585 ground\n",
       "177459        1080 kanal\n",
       "181327       360 hectare\n",
       "182603        2800 kanal\n",
       "183765            2 cent\n",
       "185086    530,040 ground\n",
       "Name: Super Area, dtype: object"
      ]
     },
     "execution_count": 42,
     "metadata": {},
     "output_type": "execute_result"
    }
   ],
   "source": [
    "(\n",
    "    houses[\"Super Area\"]\n",
    "    .loc[lambda ser: ~ser.isnull()]\n",
    "    .loc[lambda ser: ~ser.str.contains(\"sqft\")]\n",
    "    .loc[lambda ser: ~ser.str.contains(\"sqyrd\")]\n",
    "    .loc[lambda ser: ~ser.str.contains(\"sqm\")]\n",
    ")"
   ]
  },
  {
   "cell_type": "markdown",
   "id": "d8611ea0-d4be-4c0e-b3f1-5d5193fa738f",
   "metadata": {},
   "source": [
    "- there are too many units in this column\n",
    "- all the units should be the same"
   ]
  },
  {
   "cell_type": "markdown",
   "id": "01823b09-13ec-4864-9182-5e19d4bc2c6c",
   "metadata": {},
   "source": [
    "## 5. Cleaning Operations"
   ]
  },
  {
   "cell_type": "code",
   "execution_count": 25,
   "id": "e91bee57-af7a-4746-8b86-9b1af052b270",
   "metadata": {},
   "outputs": [],
   "source": [
    "def clean_data(data):\n",
    "        # convert the values to crores scale\n",
    "        \n",
    "        def convert_to_crores(ser):\n",
    "            return(\n",
    "                    ser\n",
    "                    .str.split(\" \",expand = True)\n",
    "                    .set_axis([\"amount\",\"unit\"],axis=1)\n",
    "                    .assign(\n",
    "                        amount = lambda df:(\n",
    "                            np.where(\n",
    "                                df.unit.eq(\"Lac\"),\n",
    "                                df.amount.astype(float).mul(0.01),\n",
    "                                df.amount.astype(float)\n",
    "                            )\n",
    "                        )\n",
    "                    )\n",
    "                    .amount\n",
    "            )\n",
    "        \n",
    "        # all the units converted to sqft\n",
    "        \n",
    "        conversion_factors = {\n",
    "            \"sqft\": 1,\n",
    "            \"sqyrd\": 9,\n",
    "            \"sqm\": 10.7639,\n",
    "            \"marla\": 272.25,\n",
    "            \"kanal\": 5445,\n",
    "            \"ground\": 2400,\n",
    "            \"biswa2\": 1350,\n",
    "            \"aankadam\": 75,\n",
    "            \"acre\": 43560,\n",
    "            \"hectare\": 107639,\n",
    "            \"cent\": 435.6,\n",
    "            \"bigha\": 27225\n",
    "        }\n",
    "        \n",
    "        def remove_area_units_and_standardize(ser):\n",
    "            return(\n",
    "                ser\n",
    "                .str.replace(\",\",\"\")\n",
    "                .str.split(\" \",expand = True)\n",
    "                .set_axis([\"value\",\"unit\"],axis=1)\n",
    "                .assign(\n",
    "                    value = lambda df:(\n",
    "                        pd.to_numeric(df.value)*df.unit.map(conversion_factors)\n",
    "                    )\n",
    "                )\n",
    "                .value\n",
    "            )\n",
    "        \n",
    "        return(\n",
    "             data\n",
    "            .assign(**{\n",
    "                col: data[col].str.strip()\n",
    "                for col in data.select_dtypes(include = \"O\").columns\n",
    "            })\n",
    "            .rename(columns = lambda col: col.lower().replace(\" \",\"_\").split(\"_(\")[0].split(\"(\")[0])\n",
    "            .drop(columns = [\"index\",\"description\",\"status\",\"society\",\"dimensions\",\"plot_area\"])\n",
    "            .query('amount != \"Call for Price\"')\n",
    "            .assign(\n",
    "                bathroom = lambda df: pd.to_numeric(df.bathroom.str.replace(\"> \",\"\")),\n",
    "                balcony = lambda df: pd.to_numeric(df.balcony.str.replace(\"> \",\"\")),\n",
    "                amount = lambda df: df.amount.pipe(convert_to_crores),\n",
    "                carpet_area = lambda df: df.carpet_area.pipe(remove_area_units_and_standardize),\n",
    "                super_area = lambda df: df.super_area.pipe(remove_area_units_and_standardize),\n",
    "                floor = lambda df: df.floor.str.replace(\"200 out of 200\",\"2 out of 2\"),\n",
    "                car_parking = lambda df: df.car_parking.str.replace(\",\",\"\"),\n",
    "                num_bhk = lambda df: (\n",
    "                    pd.to_numeric(\n",
    "                        np.where(\n",
    "                            df.title.str.contains(\"BHK\"),\n",
    "                            df.title.str.split(\"BHK\").str[0].str.replace(\">\",\"\").str.strip(),\n",
    "                            np.nan\n",
    "                    )\n",
    "                  )\n",
    "                ),\n",
    "               is_studio = lambda df: np.where(df.title.str.contains('Studio'),1,0),\n",
    "               floor_num = lambda df: (\n",
    "                   np.where(\n",
    "                           df.floor.str.contains(\"out of\"),\n",
    "                           pd.to_numeric(\n",
    "                               df.floor\n",
    "                               .str.split(\"out of\")\n",
    "                               .str[0]\n",
    "                               .str.replace(\"Ground\",\"0\")\n",
    "                               .str.replace(\"Lower Basement\",\"0\")\n",
    "                               .str.replace(\"Upper Basement\",\"0\")\n",
    "                           ),\n",
    "                           np.where(\n",
    "                               df.floor.isnull(),\n",
    "                               np.nan,\n",
    "                               df.floor\n",
    "                               .str.split(\"out of\")\n",
    "                               .str[0]\n",
    "                               .str.replace(\"Ground\",\"0\")\n",
    "                               .str.replace(\"Lower Basement\",\"0\")\n",
    "                               .str.replace(\"Upper Basement\",\"0\")\n",
    "                           )\n",
    "                   )\n",
    "               ),\n",
    "               num_floors = lambda df: (\n",
    "                   np.where(\n",
    "                       df.floor.str.contains(\"out of\"),\n",
    "                       pd.to_numeric(\n",
    "                           df.floor\n",
    "                           .str.split(\"out of\")\n",
    "                           .str[1]\n",
    "                       ),\n",
    "                       np.nan\n",
    "                   )\n",
    "               ),\n",
    "               overlooking_garden = lambda df: (\n",
    "                   np.where(\n",
    "                       df.overlooking.isnull(),\n",
    "                       np.nan,\n",
    "                       np.where(df.overlooking.str.contains(\"Garden\"),True,False)\n",
    "                   )\n",
    "               ),\n",
    "               overlooking_mainroad = lambda df: (\n",
    "                   np.where(\n",
    "                       df.overlooking.isnull(),\n",
    "                       np.nan,\n",
    "                       np.where(df.overlooking.str.contains(\"Main Road\"),True,False)\n",
    "                   )\n",
    "               ),\n",
    "               overlooking_pool = lambda df: (\n",
    "                   np.where(\n",
    "                       df.overlooking.isnull(),\n",
    "                       np.nan,\n",
    "                       np.where(df.overlooking.str.contains(\"Pool\"),True,False)\n",
    "                   )\n",
    "               ),\n",
    "               parking_spots = lambda df: (\n",
    "                   pd.to_numeric(\n",
    "                       df.car_parking\n",
    "                       .str.extract(r\"(\\d+)\")[0],\n",
    "                       errors = 'coerce'\n",
    "                   )\n",
    "               ),\n",
    "               parking_cover = lambda df: (\n",
    "                       np.where(\n",
    "                           df.car_parking.isnull(),\n",
    "                           np.nan,\n",
    "                           df.car_parking\n",
    "                           .str.split(\" \")\n",
    "                           .str[1]\n",
    "                       )\n",
    "               )\n",
    "            )\n",
    "            .assign(\n",
    "                balcony = lambda df:(\n",
    "                    np.where(df.floor_num == 0,0,df.balcony)\n",
    "                )\n",
    "            )\n",
    "            .loc[lambda df: (df.carpet_area.between(90,10000)) | (df.super_area.between(100,10000))]\n",
    "            .loc[lambda df: (df.price.between(200,10000))]\n",
    "            .loc[lambda df: df.amount.between(0.1,100)]\n",
    "            .loc[lambda df:\n",
    "                (\n",
    "                    df.num_bhk.isnull()\n",
    "                    | (df.bathroom.isnull() | df.bathroom.lt(df.num_bhk + 2))\n",
    "                    & (df.balcony.isnull() | df.balcony.lt(df.num_bhk + 2))\n",
    "                )\n",
    "            ]\n",
    "            .drop(columns = [\"title\",\"floor\",\"overlooking\",\"car_parking\",\"price\"])\n",
    "            .drop_duplicates()\n",
    "            .dropna(subset = [\"transaction\",\"num_bhk\",\"bathroom\"])\n",
    "        )"
   ]
  },
  {
   "cell_type": "code",
   "execution_count": 27,
   "id": "c8e102dc-8378-46fc-b99a-6782664d6763",
   "metadata": {},
   "outputs": [],
   "source": [
    "houses_cleaned = clean_data(houses)"
   ]
  },
  {
   "cell_type": "code",
   "execution_count": 29,
   "id": "96f94ac5-b4eb-446f-b4b2-6d369d37cf57",
   "metadata": {},
   "outputs": [
    {
     "data": {
      "text/html": [
       "<div>\n",
       "<style scoped>\n",
       "    .dataframe tbody tr th:only-of-type {\n",
       "        vertical-align: middle;\n",
       "    }\n",
       "\n",
       "    .dataframe tbody tr th {\n",
       "        vertical-align: top;\n",
       "    }\n",
       "\n",
       "    .dataframe thead th {\n",
       "        text-align: right;\n",
       "    }\n",
       "</style>\n",
       "<table border=\"1\" class=\"dataframe\">\n",
       "  <thead>\n",
       "    <tr style=\"text-align: right;\">\n",
       "      <th></th>\n",
       "      <th>amount</th>\n",
       "      <th>location</th>\n",
       "      <th>carpet_area</th>\n",
       "      <th>transaction</th>\n",
       "      <th>furnishing</th>\n",
       "      <th>facing</th>\n",
       "      <th>bathroom</th>\n",
       "      <th>balcony</th>\n",
       "      <th>ownership</th>\n",
       "      <th>super_area</th>\n",
       "      <th>num_bhk</th>\n",
       "      <th>is_studio</th>\n",
       "      <th>floor_num</th>\n",
       "      <th>num_floors</th>\n",
       "      <th>overlooking_garden</th>\n",
       "      <th>overlooking_mainroad</th>\n",
       "      <th>overlooking_pool</th>\n",
       "      <th>parking_spots</th>\n",
       "      <th>parking_cover</th>\n",
       "    </tr>\n",
       "  </thead>\n",
       "  <tbody>\n",
       "    <tr>\n",
       "      <th>0</th>\n",
       "      <td>0.420</td>\n",
       "      <td>thane</td>\n",
       "      <td>500.0</td>\n",
       "      <td>Resale</td>\n",
       "      <td>Unfurnished</td>\n",
       "      <td>NaN</td>\n",
       "      <td>1.0</td>\n",
       "      <td>2.0</td>\n",
       "      <td>NaN</td>\n",
       "      <td>NaN</td>\n",
       "      <td>1.0</td>\n",
       "      <td>0</td>\n",
       "      <td>10.0</td>\n",
       "      <td>11.0</td>\n",
       "      <td>NaN</td>\n",
       "      <td>NaN</td>\n",
       "      <td>NaN</td>\n",
       "      <td>NaN</td>\n",
       "      <td>NaN</td>\n",
       "    </tr>\n",
       "    <tr>\n",
       "      <th>5</th>\n",
       "      <td>0.450</td>\n",
       "      <td>thane</td>\n",
       "      <td>NaN</td>\n",
       "      <td>Resale</td>\n",
       "      <td>Unfurnished</td>\n",
       "      <td>East</td>\n",
       "      <td>1.0</td>\n",
       "      <td>1.0</td>\n",
       "      <td>Co-operative Society</td>\n",
       "      <td>680.0</td>\n",
       "      <td>1.0</td>\n",
       "      <td>0</td>\n",
       "      <td>2.0</td>\n",
       "      <td>7.0</td>\n",
       "      <td>1.0</td>\n",
       "      <td>1.0</td>\n",
       "      <td>0.0</td>\n",
       "      <td>NaN</td>\n",
       "      <td>NaN</td>\n",
       "    </tr>\n",
       "    <tr>\n",
       "      <th>6</th>\n",
       "      <td>0.165</td>\n",
       "      <td>thane</td>\n",
       "      <td>550.0</td>\n",
       "      <td>Resale</td>\n",
       "      <td>Unfurnished</td>\n",
       "      <td>NaN</td>\n",
       "      <td>1.0</td>\n",
       "      <td>NaN</td>\n",
       "      <td>NaN</td>\n",
       "      <td>NaN</td>\n",
       "      <td>1.0</td>\n",
       "      <td>0</td>\n",
       "      <td>4.0</td>\n",
       "      <td>5.0</td>\n",
       "      <td>NaN</td>\n",
       "      <td>NaN</td>\n",
       "      <td>NaN</td>\n",
       "      <td>NaN</td>\n",
       "      <td>NaN</td>\n",
       "    </tr>\n",
       "    <tr>\n",
       "      <th>8</th>\n",
       "      <td>0.600</td>\n",
       "      <td>thane</td>\n",
       "      <td>NaN</td>\n",
       "      <td>Resale</td>\n",
       "      <td>Furnished</td>\n",
       "      <td>NaN</td>\n",
       "      <td>1.0</td>\n",
       "      <td>0.0</td>\n",
       "      <td>Co-operative Society</td>\n",
       "      <td>600.0</td>\n",
       "      <td>1.0</td>\n",
       "      <td>0</td>\n",
       "      <td>0.0</td>\n",
       "      <td>2.0</td>\n",
       "      <td>NaN</td>\n",
       "      <td>NaN</td>\n",
       "      <td>NaN</td>\n",
       "      <td>NaN</td>\n",
       "      <td>NaN</td>\n",
       "    </tr>\n",
       "    <tr>\n",
       "      <th>15</th>\n",
       "      <td>0.900</td>\n",
       "      <td>thane</td>\n",
       "      <td>675.0</td>\n",
       "      <td>New Property</td>\n",
       "      <td>Unfurnished</td>\n",
       "      <td>North - East</td>\n",
       "      <td>2.0</td>\n",
       "      <td>1.0</td>\n",
       "      <td>Freehold</td>\n",
       "      <td>NaN</td>\n",
       "      <td>2.0</td>\n",
       "      <td>0</td>\n",
       "      <td>10.0</td>\n",
       "      <td>16.0</td>\n",
       "      <td>1.0</td>\n",
       "      <td>1.0</td>\n",
       "      <td>0.0</td>\n",
       "      <td>1.0</td>\n",
       "      <td>Covered</td>\n",
       "    </tr>\n",
       "    <tr>\n",
       "      <th>...</th>\n",
       "      <td>...</td>\n",
       "      <td>...</td>\n",
       "      <td>...</td>\n",
       "      <td>...</td>\n",
       "      <td>...</td>\n",
       "      <td>...</td>\n",
       "      <td>...</td>\n",
       "      <td>...</td>\n",
       "      <td>...</td>\n",
       "      <td>...</td>\n",
       "      <td>...</td>\n",
       "      <td>...</td>\n",
       "      <td>...</td>\n",
       "      <td>...</td>\n",
       "      <td>...</td>\n",
       "      <td>...</td>\n",
       "      <td>...</td>\n",
       "      <td>...</td>\n",
       "      <td>...</td>\n",
       "    </tr>\n",
       "    <tr>\n",
       "      <th>187526</th>\n",
       "      <td>0.630</td>\n",
       "      <td>zirakpur</td>\n",
       "      <td>NaN</td>\n",
       "      <td>New Property</td>\n",
       "      <td>Semi-Furnished</td>\n",
       "      <td>East</td>\n",
       "      <td>3.0</td>\n",
       "      <td>3.0</td>\n",
       "      <td>Freehold</td>\n",
       "      <td>1953.0</td>\n",
       "      <td>3.0</td>\n",
       "      <td>0</td>\n",
       "      <td>2.0</td>\n",
       "      <td>4.0</td>\n",
       "      <td>1.0</td>\n",
       "      <td>0.0</td>\n",
       "      <td>0.0</td>\n",
       "      <td>1.0</td>\n",
       "      <td>Covered</td>\n",
       "    </tr>\n",
       "    <tr>\n",
       "      <th>187527</th>\n",
       "      <td>0.550</td>\n",
       "      <td>zirakpur</td>\n",
       "      <td>NaN</td>\n",
       "      <td>Resale</td>\n",
       "      <td>Unfurnished</td>\n",
       "      <td>North - East</td>\n",
       "      <td>3.0</td>\n",
       "      <td>NaN</td>\n",
       "      <td>NaN</td>\n",
       "      <td>1680.0</td>\n",
       "      <td>3.0</td>\n",
       "      <td>0</td>\n",
       "      <td>4.0</td>\n",
       "      <td>6.0</td>\n",
       "      <td>1.0</td>\n",
       "      <td>1.0</td>\n",
       "      <td>0.0</td>\n",
       "      <td>1.0</td>\n",
       "      <td>Covered</td>\n",
       "    </tr>\n",
       "    <tr>\n",
       "      <th>187528</th>\n",
       "      <td>0.760</td>\n",
       "      <td>zirakpur</td>\n",
       "      <td>1250.0</td>\n",
       "      <td>Resale</td>\n",
       "      <td>Furnished</td>\n",
       "      <td>East</td>\n",
       "      <td>3.0</td>\n",
       "      <td>2.0</td>\n",
       "      <td>Freehold</td>\n",
       "      <td>NaN</td>\n",
       "      <td>3.0</td>\n",
       "      <td>0</td>\n",
       "      <td>1.0</td>\n",
       "      <td>3.0</td>\n",
       "      <td>1.0</td>\n",
       "      <td>1.0</td>\n",
       "      <td>0.0</td>\n",
       "      <td>1.0</td>\n",
       "      <td>Covered</td>\n",
       "    </tr>\n",
       "    <tr>\n",
       "      <th>187529</th>\n",
       "      <td>0.300</td>\n",
       "      <td>zirakpur</td>\n",
       "      <td>NaN</td>\n",
       "      <td>Resale</td>\n",
       "      <td>Semi-Furnished</td>\n",
       "      <td>NaN</td>\n",
       "      <td>2.0</td>\n",
       "      <td>NaN</td>\n",
       "      <td>NaN</td>\n",
       "      <td>709.0</td>\n",
       "      <td>2.0</td>\n",
       "      <td>0</td>\n",
       "      <td>2.0</td>\n",
       "      <td>2.0</td>\n",
       "      <td>0.0</td>\n",
       "      <td>1.0</td>\n",
       "      <td>0.0</td>\n",
       "      <td>NaN</td>\n",
       "      <td>NaN</td>\n",
       "    </tr>\n",
       "    <tr>\n",
       "      <th>187530</th>\n",
       "      <td>1.180</td>\n",
       "      <td>zirakpur</td>\n",
       "      <td>NaN</td>\n",
       "      <td>Resale</td>\n",
       "      <td>Semi-Furnished</td>\n",
       "      <td>North - East</td>\n",
       "      <td>4.0</td>\n",
       "      <td>4.0</td>\n",
       "      <td>Freehold</td>\n",
       "      <td>1915.0</td>\n",
       "      <td>3.0</td>\n",
       "      <td>0</td>\n",
       "      <td>5.0</td>\n",
       "      <td>13.0</td>\n",
       "      <td>1.0</td>\n",
       "      <td>0.0</td>\n",
       "      <td>1.0</td>\n",
       "      <td>1.0</td>\n",
       "      <td>Covered</td>\n",
       "    </tr>\n",
       "  </tbody>\n",
       "</table>\n",
       "<p>52012 rows × 19 columns</p>\n",
       "</div>"
      ],
      "text/plain": [
       "        amount  location  carpet_area   transaction      furnishing  \\\n",
       "0        0.420     thane        500.0        Resale     Unfurnished   \n",
       "5        0.450     thane          NaN        Resale     Unfurnished   \n",
       "6        0.165     thane        550.0        Resale     Unfurnished   \n",
       "8        0.600     thane          NaN        Resale       Furnished   \n",
       "15       0.900     thane        675.0  New Property     Unfurnished   \n",
       "...        ...       ...          ...           ...             ...   \n",
       "187526   0.630  zirakpur          NaN  New Property  Semi-Furnished   \n",
       "187527   0.550  zirakpur          NaN        Resale     Unfurnished   \n",
       "187528   0.760  zirakpur       1250.0        Resale       Furnished   \n",
       "187529   0.300  zirakpur          NaN        Resale  Semi-Furnished   \n",
       "187530   1.180  zirakpur          NaN        Resale  Semi-Furnished   \n",
       "\n",
       "              facing  bathroom  balcony             ownership  super_area  \\\n",
       "0                NaN       1.0      2.0                   NaN         NaN   \n",
       "5               East       1.0      1.0  Co-operative Society       680.0   \n",
       "6                NaN       1.0      NaN                   NaN         NaN   \n",
       "8                NaN       1.0      0.0  Co-operative Society       600.0   \n",
       "15      North - East       2.0      1.0              Freehold         NaN   \n",
       "...              ...       ...      ...                   ...         ...   \n",
       "187526          East       3.0      3.0              Freehold      1953.0   \n",
       "187527  North - East       3.0      NaN                   NaN      1680.0   \n",
       "187528          East       3.0      2.0              Freehold         NaN   \n",
       "187529           NaN       2.0      NaN                   NaN       709.0   \n",
       "187530  North - East       4.0      4.0              Freehold      1915.0   \n",
       "\n",
       "        num_bhk  is_studio floor_num  num_floors  overlooking_garden  \\\n",
       "0           1.0          0      10.0        11.0                 NaN   \n",
       "5           1.0          0       2.0         7.0                 1.0   \n",
       "6           1.0          0       4.0         5.0                 NaN   \n",
       "8           1.0          0       0.0         2.0                 NaN   \n",
       "15          2.0          0      10.0        16.0                 1.0   \n",
       "...         ...        ...       ...         ...                 ...   \n",
       "187526      3.0          0       2.0         4.0                 1.0   \n",
       "187527      3.0          0       4.0         6.0                 1.0   \n",
       "187528      3.0          0       1.0         3.0                 1.0   \n",
       "187529      2.0          0       2.0         2.0                 0.0   \n",
       "187530      3.0          0       5.0        13.0                 1.0   \n",
       "\n",
       "        overlooking_mainroad  overlooking_pool  parking_spots parking_cover  \n",
       "0                        NaN               NaN            NaN           NaN  \n",
       "5                        1.0               0.0            NaN           NaN  \n",
       "6                        NaN               NaN            NaN           NaN  \n",
       "8                        NaN               NaN            NaN           NaN  \n",
       "15                       1.0               0.0            1.0       Covered  \n",
       "...                      ...               ...            ...           ...  \n",
       "187526                   0.0               0.0            1.0       Covered  \n",
       "187527                   1.0               0.0            1.0       Covered  \n",
       "187528                   1.0               0.0            1.0       Covered  \n",
       "187529                   1.0               0.0            NaN           NaN  \n",
       "187530                   0.0               1.0            1.0       Covered  \n",
       "\n",
       "[52012 rows x 19 columns]"
      ]
     },
     "execution_count": 29,
     "metadata": {},
     "output_type": "execute_result"
    }
   ],
   "source": [
    "houses_cleaned"
   ]
  },
  {
   "cell_type": "markdown",
   "id": "87d3a9b7-9bbd-4f09-84ef-0bf0dd579812",
   "metadata": {},
   "source": [
    "## 6. Splitting the Data"
   ]
  },
  {
   "cell_type": "code",
   "execution_count": 35,
   "id": "ee67c0d6-4d6b-42dd-800d-5b88365b6abc",
   "metadata": {},
   "outputs": [
    {
     "name": "stdout",
     "output_type": "stream",
     "text": [
      "(42129, 18)\n",
      "(5202, 18)\n",
      "(4681, 18)\n",
      "(42129,)\n",
      "(5202,)\n",
      "(4681,)\n"
     ]
    }
   ],
   "source": [
    "X = houses_cleaned.drop(columns = [\"amount\"])\n",
    "y = houses_cleaned.amount.copy()\n",
    "\n",
    "X_,X_test,y_,y_test = train_test_split(X,y,test_size = 0.1,random_state=42)\n",
    "X_train,X_val,y_train,y_val = train_test_split(X_,y_,test_size = 0.1,random_state = 42)\n",
    "\n",
    "print(X_train.shape)\n",
    "print(X_test.shape)\n",
    "print(X_val.shape)\n",
    "print(y_train.shape)\n",
    "print(y_test.shape)\n",
    "print(y_val.shape)"
   ]
  },
  {
   "cell_type": "markdown",
   "id": "9b4321ba-d840-4058-9ca7-b71469e4df54",
   "metadata": {},
   "source": [
    "## 7. Export The Dataset"
   ]
  },
  {
   "cell_type": "code",
   "execution_count": 37,
   "id": "9725fe16-d448-426c-8969-868588cd2a45",
   "metadata": {},
   "outputs": [],
   "source": [
    "def export_data(X,y,name):\n",
    "    file_name = f\"{name}.csv\"\n",
    "    folder_path = PROJECT_DIR/DATA_DIR/name\n",
    "    file_path = folder_path/file_name\n",
    "\n",
    "    folder_path.mkdir(parents=True, exist_ok=True)\n",
    "\n",
    "    X.join(y).to_csv(file_path,index = False)\n",
    "\n",
    "    return (\n",
    "        pd.read_csv(file_path).head()\n",
    "    )"
   ]
  },
  {
   "cell_type": "code",
   "execution_count": 39,
   "id": "9adde13d-5b19-4a9b-8419-41697e18baf7",
   "metadata": {},
   "outputs": [
    {
     "data": {
      "text/html": [
       "<div>\n",
       "<style scoped>\n",
       "    .dataframe tbody tr th:only-of-type {\n",
       "        vertical-align: middle;\n",
       "    }\n",
       "\n",
       "    .dataframe tbody tr th {\n",
       "        vertical-align: top;\n",
       "    }\n",
       "\n",
       "    .dataframe thead th {\n",
       "        text-align: right;\n",
       "    }\n",
       "</style>\n",
       "<table border=\"1\" class=\"dataframe\">\n",
       "  <thead>\n",
       "    <tr style=\"text-align: right;\">\n",
       "      <th></th>\n",
       "      <th>location</th>\n",
       "      <th>carpet_area</th>\n",
       "      <th>transaction</th>\n",
       "      <th>furnishing</th>\n",
       "      <th>facing</th>\n",
       "      <th>bathroom</th>\n",
       "      <th>balcony</th>\n",
       "      <th>ownership</th>\n",
       "      <th>super_area</th>\n",
       "      <th>num_bhk</th>\n",
       "      <th>is_studio</th>\n",
       "      <th>floor_num</th>\n",
       "      <th>num_floors</th>\n",
       "      <th>overlooking_garden</th>\n",
       "      <th>overlooking_mainroad</th>\n",
       "      <th>overlooking_pool</th>\n",
       "      <th>parking_spots</th>\n",
       "      <th>parking_cover</th>\n",
       "      <th>amount</th>\n",
       "    </tr>\n",
       "  </thead>\n",
       "  <tbody>\n",
       "    <tr>\n",
       "      <th>0</th>\n",
       "      <td>bhiwadi</td>\n",
       "      <td>700.0</td>\n",
       "      <td>Resale</td>\n",
       "      <td>Semi-Furnished</td>\n",
       "      <td>North</td>\n",
       "      <td>2.0</td>\n",
       "      <td>2.0</td>\n",
       "      <td>Leasehold</td>\n",
       "      <td>NaN</td>\n",
       "      <td>2.0</td>\n",
       "      <td>0</td>\n",
       "      <td>5.0</td>\n",
       "      <td>15.0</td>\n",
       "      <td>1.0</td>\n",
       "      <td>1.0</td>\n",
       "      <td>0.0</td>\n",
       "      <td>NaN</td>\n",
       "      <td>NaN</td>\n",
       "      <td>0.110</td>\n",
       "    </tr>\n",
       "    <tr>\n",
       "      <th>1</th>\n",
       "      <td>sonipat</td>\n",
       "      <td>1000.0</td>\n",
       "      <td>Resale</td>\n",
       "      <td>Unfurnished</td>\n",
       "      <td>North</td>\n",
       "      <td>2.0</td>\n",
       "      <td>2.0</td>\n",
       "      <td>Freehold</td>\n",
       "      <td>NaN</td>\n",
       "      <td>3.0</td>\n",
       "      <td>0</td>\n",
       "      <td>2.0</td>\n",
       "      <td>3.0</td>\n",
       "      <td>1.0</td>\n",
       "      <td>1.0</td>\n",
       "      <td>1.0</td>\n",
       "      <td>1.0</td>\n",
       "      <td>Open</td>\n",
       "      <td>0.255</td>\n",
       "    </tr>\n",
       "    <tr>\n",
       "      <th>2</th>\n",
       "      <td>greater-noida</td>\n",
       "      <td>675.0</td>\n",
       "      <td>Resale</td>\n",
       "      <td>Unfurnished</td>\n",
       "      <td>East</td>\n",
       "      <td>2.0</td>\n",
       "      <td>3.0</td>\n",
       "      <td>Leasehold</td>\n",
       "      <td>NaN</td>\n",
       "      <td>2.0</td>\n",
       "      <td>0</td>\n",
       "      <td>8.0</td>\n",
       "      <td>25.0</td>\n",
       "      <td>1.0</td>\n",
       "      <td>1.0</td>\n",
       "      <td>1.0</td>\n",
       "      <td>NaN</td>\n",
       "      <td>NaN</td>\n",
       "      <td>0.650</td>\n",
       "    </tr>\n",
       "    <tr>\n",
       "      <th>3</th>\n",
       "      <td>chennai</td>\n",
       "      <td>NaN</td>\n",
       "      <td>Resale</td>\n",
       "      <td>Semi-Furnished</td>\n",
       "      <td>East</td>\n",
       "      <td>3.0</td>\n",
       "      <td>2.0</td>\n",
       "      <td>Freehold</td>\n",
       "      <td>1585.0</td>\n",
       "      <td>3.0</td>\n",
       "      <td>0</td>\n",
       "      <td>1.0</td>\n",
       "      <td>2.0</td>\n",
       "      <td>NaN</td>\n",
       "      <td>NaN</td>\n",
       "      <td>NaN</td>\n",
       "      <td>NaN</td>\n",
       "      <td>NaN</td>\n",
       "      <td>0.870</td>\n",
       "    </tr>\n",
       "    <tr>\n",
       "      <th>4</th>\n",
       "      <td>chandigarh</td>\n",
       "      <td>1200.0</td>\n",
       "      <td>New Property</td>\n",
       "      <td>Semi-Furnished</td>\n",
       "      <td>East</td>\n",
       "      <td>3.0</td>\n",
       "      <td>3.0</td>\n",
       "      <td>Freehold</td>\n",
       "      <td>NaN</td>\n",
       "      <td>3.0</td>\n",
       "      <td>0</td>\n",
       "      <td>6.0</td>\n",
       "      <td>12.0</td>\n",
       "      <td>1.0</td>\n",
       "      <td>1.0</td>\n",
       "      <td>0.0</td>\n",
       "      <td>1.0</td>\n",
       "      <td>Covered</td>\n",
       "      <td>1.370</td>\n",
       "    </tr>\n",
       "  </tbody>\n",
       "</table>\n",
       "</div>"
      ],
      "text/plain": [
       "        location  carpet_area   transaction      furnishing facing  bathroom  \\\n",
       "0        bhiwadi        700.0        Resale  Semi-Furnished  North       2.0   \n",
       "1        sonipat       1000.0        Resale     Unfurnished  North       2.0   \n",
       "2  greater-noida        675.0        Resale     Unfurnished   East       2.0   \n",
       "3        chennai          NaN        Resale  Semi-Furnished   East       3.0   \n",
       "4     chandigarh       1200.0  New Property  Semi-Furnished   East       3.0   \n",
       "\n",
       "   balcony  ownership  super_area  num_bhk  is_studio  floor_num  num_floors  \\\n",
       "0      2.0  Leasehold         NaN      2.0          0        5.0        15.0   \n",
       "1      2.0   Freehold         NaN      3.0          0        2.0         3.0   \n",
       "2      3.0  Leasehold         NaN      2.0          0        8.0        25.0   \n",
       "3      2.0   Freehold      1585.0      3.0          0        1.0         2.0   \n",
       "4      3.0   Freehold         NaN      3.0          0        6.0        12.0   \n",
       "\n",
       "   overlooking_garden  overlooking_mainroad  overlooking_pool  parking_spots  \\\n",
       "0                 1.0                   1.0               0.0            NaN   \n",
       "1                 1.0                   1.0               1.0            1.0   \n",
       "2                 1.0                   1.0               1.0            NaN   \n",
       "3                 NaN                   NaN               NaN            NaN   \n",
       "4                 1.0                   1.0               0.0            1.0   \n",
       "\n",
       "  parking_cover  amount  \n",
       "0           NaN   0.110  \n",
       "1          Open   0.255  \n",
       "2           NaN   0.650  \n",
       "3           NaN   0.870  \n",
       "4       Covered   1.370  "
      ]
     },
     "execution_count": 39,
     "metadata": {},
     "output_type": "execute_result"
    }
   ],
   "source": [
    "export_data(X_train,y_train,\"train\")"
   ]
  },
  {
   "cell_type": "code",
   "execution_count": 41,
   "id": "fe142924-75db-43bf-8baf-5000bf84ab94",
   "metadata": {},
   "outputs": [
    {
     "data": {
      "text/html": [
       "<div>\n",
       "<style scoped>\n",
       "    .dataframe tbody tr th:only-of-type {\n",
       "        vertical-align: middle;\n",
       "    }\n",
       "\n",
       "    .dataframe tbody tr th {\n",
       "        vertical-align: top;\n",
       "    }\n",
       "\n",
       "    .dataframe thead th {\n",
       "        text-align: right;\n",
       "    }\n",
       "</style>\n",
       "<table border=\"1\" class=\"dataframe\">\n",
       "  <thead>\n",
       "    <tr style=\"text-align: right;\">\n",
       "      <th></th>\n",
       "      <th>location</th>\n",
       "      <th>carpet_area</th>\n",
       "      <th>transaction</th>\n",
       "      <th>furnishing</th>\n",
       "      <th>facing</th>\n",
       "      <th>bathroom</th>\n",
       "      <th>balcony</th>\n",
       "      <th>ownership</th>\n",
       "      <th>super_area</th>\n",
       "      <th>num_bhk</th>\n",
       "      <th>is_studio</th>\n",
       "      <th>floor_num</th>\n",
       "      <th>num_floors</th>\n",
       "      <th>overlooking_garden</th>\n",
       "      <th>overlooking_mainroad</th>\n",
       "      <th>overlooking_pool</th>\n",
       "      <th>parking_spots</th>\n",
       "      <th>parking_cover</th>\n",
       "      <th>amount</th>\n",
       "    </tr>\n",
       "  </thead>\n",
       "  <tbody>\n",
       "    <tr>\n",
       "      <th>0</th>\n",
       "      <td>bangalore</td>\n",
       "      <td>1000.0</td>\n",
       "      <td>Resale</td>\n",
       "      <td>Furnished</td>\n",
       "      <td>South -West</td>\n",
       "      <td>3.0</td>\n",
       "      <td>2.0</td>\n",
       "      <td>Freehold</td>\n",
       "      <td>NaN</td>\n",
       "      <td>3.0</td>\n",
       "      <td>0</td>\n",
       "      <td>10.0</td>\n",
       "      <td>10.0</td>\n",
       "      <td>1.0</td>\n",
       "      <td>1.0</td>\n",
       "      <td>1.0</td>\n",
       "      <td>2.0</td>\n",
       "      <td>Covered</td>\n",
       "      <td>0.78</td>\n",
       "    </tr>\n",
       "    <tr>\n",
       "      <th>1</th>\n",
       "      <td>vadodara</td>\n",
       "      <td>NaN</td>\n",
       "      <td>Resale</td>\n",
       "      <td>Unfurnished</td>\n",
       "      <td>NaN</td>\n",
       "      <td>2.0</td>\n",
       "      <td>1.0</td>\n",
       "      <td>Freehold</td>\n",
       "      <td>1550.0</td>\n",
       "      <td>3.0</td>\n",
       "      <td>0</td>\n",
       "      <td>3.0</td>\n",
       "      <td>12.0</td>\n",
       "      <td>1.0</td>\n",
       "      <td>0.0</td>\n",
       "      <td>0.0</td>\n",
       "      <td>NaN</td>\n",
       "      <td>NaN</td>\n",
       "      <td>0.35</td>\n",
       "    </tr>\n",
       "    <tr>\n",
       "      <th>2</th>\n",
       "      <td>pune</td>\n",
       "      <td>NaN</td>\n",
       "      <td>New Property</td>\n",
       "      <td>Unfurnished</td>\n",
       "      <td>NaN</td>\n",
       "      <td>1.0</td>\n",
       "      <td>NaN</td>\n",
       "      <td>NaN</td>\n",
       "      <td>560.0</td>\n",
       "      <td>1.0</td>\n",
       "      <td>0</td>\n",
       "      <td>2.0</td>\n",
       "      <td>7.0</td>\n",
       "      <td>NaN</td>\n",
       "      <td>NaN</td>\n",
       "      <td>NaN</td>\n",
       "      <td>NaN</td>\n",
       "      <td>NaN</td>\n",
       "      <td>0.44</td>\n",
       "    </tr>\n",
       "    <tr>\n",
       "      <th>3</th>\n",
       "      <td>kolkata</td>\n",
       "      <td>735.0</td>\n",
       "      <td>Resale</td>\n",
       "      <td>Unfurnished</td>\n",
       "      <td>South - East</td>\n",
       "      <td>2.0</td>\n",
       "      <td>1.0</td>\n",
       "      <td>NaN</td>\n",
       "      <td>NaN</td>\n",
       "      <td>2.0</td>\n",
       "      <td>0</td>\n",
       "      <td>3.0</td>\n",
       "      <td>3.0</td>\n",
       "      <td>1.0</td>\n",
       "      <td>0.0</td>\n",
       "      <td>0.0</td>\n",
       "      <td>NaN</td>\n",
       "      <td>NaN</td>\n",
       "      <td>0.56</td>\n",
       "    </tr>\n",
       "    <tr>\n",
       "      <th>4</th>\n",
       "      <td>visakhapatnam</td>\n",
       "      <td>1470.0</td>\n",
       "      <td>Resale</td>\n",
       "      <td>Unfurnished</td>\n",
       "      <td>North</td>\n",
       "      <td>3.0</td>\n",
       "      <td>2.0</td>\n",
       "      <td>Freehold</td>\n",
       "      <td>NaN</td>\n",
       "      <td>3.0</td>\n",
       "      <td>0</td>\n",
       "      <td>4.0</td>\n",
       "      <td>5.0</td>\n",
       "      <td>1.0</td>\n",
       "      <td>0.0</td>\n",
       "      <td>0.0</td>\n",
       "      <td>NaN</td>\n",
       "      <td>NaN</td>\n",
       "      <td>0.72</td>\n",
       "    </tr>\n",
       "  </tbody>\n",
       "</table>\n",
       "</div>"
      ],
      "text/plain": [
       "        location  carpet_area   transaction   furnishing        facing  \\\n",
       "0      bangalore       1000.0        Resale    Furnished   South -West   \n",
       "1       vadodara          NaN        Resale  Unfurnished           NaN   \n",
       "2           pune          NaN  New Property  Unfurnished           NaN   \n",
       "3        kolkata        735.0        Resale  Unfurnished  South - East   \n",
       "4  visakhapatnam       1470.0        Resale  Unfurnished         North   \n",
       "\n",
       "   bathroom  balcony ownership  super_area  num_bhk  is_studio  floor_num  \\\n",
       "0       3.0      2.0  Freehold         NaN      3.0          0       10.0   \n",
       "1       2.0      1.0  Freehold      1550.0      3.0          0        3.0   \n",
       "2       1.0      NaN       NaN       560.0      1.0          0        2.0   \n",
       "3       2.0      1.0       NaN         NaN      2.0          0        3.0   \n",
       "4       3.0      2.0  Freehold         NaN      3.0          0        4.0   \n",
       "\n",
       "   num_floors  overlooking_garden  overlooking_mainroad  overlooking_pool  \\\n",
       "0        10.0                 1.0                   1.0               1.0   \n",
       "1        12.0                 1.0                   0.0               0.0   \n",
       "2         7.0                 NaN                   NaN               NaN   \n",
       "3         3.0                 1.0                   0.0               0.0   \n",
       "4         5.0                 1.0                   0.0               0.0   \n",
       "\n",
       "   parking_spots parking_cover  amount  \n",
       "0            2.0       Covered    0.78  \n",
       "1            NaN           NaN    0.35  \n",
       "2            NaN           NaN    0.44  \n",
       "3            NaN           NaN    0.56  \n",
       "4            NaN           NaN    0.72  "
      ]
     },
     "execution_count": 41,
     "metadata": {},
     "output_type": "execute_result"
    }
   ],
   "source": [
    "export_data(X_test,y_test,\"test\")"
   ]
  },
  {
   "cell_type": "code",
   "execution_count": 43,
   "id": "8805af28-ba10-4b9f-a85c-4e9ea45c123c",
   "metadata": {},
   "outputs": [
    {
     "data": {
      "text/html": [
       "<div>\n",
       "<style scoped>\n",
       "    .dataframe tbody tr th:only-of-type {\n",
       "        vertical-align: middle;\n",
       "    }\n",
       "\n",
       "    .dataframe tbody tr th {\n",
       "        vertical-align: top;\n",
       "    }\n",
       "\n",
       "    .dataframe thead th {\n",
       "        text-align: right;\n",
       "    }\n",
       "</style>\n",
       "<table border=\"1\" class=\"dataframe\">\n",
       "  <thead>\n",
       "    <tr style=\"text-align: right;\">\n",
       "      <th></th>\n",
       "      <th>location</th>\n",
       "      <th>carpet_area</th>\n",
       "      <th>transaction</th>\n",
       "      <th>furnishing</th>\n",
       "      <th>facing</th>\n",
       "      <th>bathroom</th>\n",
       "      <th>balcony</th>\n",
       "      <th>ownership</th>\n",
       "      <th>super_area</th>\n",
       "      <th>num_bhk</th>\n",
       "      <th>is_studio</th>\n",
       "      <th>floor_num</th>\n",
       "      <th>num_floors</th>\n",
       "      <th>overlooking_garden</th>\n",
       "      <th>overlooking_mainroad</th>\n",
       "      <th>overlooking_pool</th>\n",
       "      <th>parking_spots</th>\n",
       "      <th>parking_cover</th>\n",
       "      <th>amount</th>\n",
       "    </tr>\n",
       "  </thead>\n",
       "  <tbody>\n",
       "    <tr>\n",
       "      <th>0</th>\n",
       "      <td>new-delhi</td>\n",
       "      <td>750.0</td>\n",
       "      <td>Resale</td>\n",
       "      <td>Furnished</td>\n",
       "      <td>East</td>\n",
       "      <td>2.0</td>\n",
       "      <td>NaN</td>\n",
       "      <td>Freehold</td>\n",
       "      <td>NaN</td>\n",
       "      <td>2.0</td>\n",
       "      <td>0</td>\n",
       "      <td>1.0</td>\n",
       "      <td>4.0</td>\n",
       "      <td>0.0</td>\n",
       "      <td>1.0</td>\n",
       "      <td>0.0</td>\n",
       "      <td>1.0</td>\n",
       "      <td>Covered</td>\n",
       "      <td>0.37</td>\n",
       "    </tr>\n",
       "    <tr>\n",
       "      <th>1</th>\n",
       "      <td>greater-noida</td>\n",
       "      <td>NaN</td>\n",
       "      <td>New Property</td>\n",
       "      <td>Unfurnished</td>\n",
       "      <td>NaN</td>\n",
       "      <td>3.0</td>\n",
       "      <td>NaN</td>\n",
       "      <td>NaN</td>\n",
       "      <td>1880.0</td>\n",
       "      <td>3.0</td>\n",
       "      <td>0</td>\n",
       "      <td>NaN</td>\n",
       "      <td>NaN</td>\n",
       "      <td>NaN</td>\n",
       "      <td>NaN</td>\n",
       "      <td>NaN</td>\n",
       "      <td>NaN</td>\n",
       "      <td>NaN</td>\n",
       "      <td>1.71</td>\n",
       "    </tr>\n",
       "    <tr>\n",
       "      <th>2</th>\n",
       "      <td>pune</td>\n",
       "      <td>NaN</td>\n",
       "      <td>Resale</td>\n",
       "      <td>Unfurnished</td>\n",
       "      <td>NaN</td>\n",
       "      <td>1.0</td>\n",
       "      <td>NaN</td>\n",
       "      <td>NaN</td>\n",
       "      <td>800.0</td>\n",
       "      <td>2.0</td>\n",
       "      <td>0</td>\n",
       "      <td>3.0</td>\n",
       "      <td>3.0</td>\n",
       "      <td>NaN</td>\n",
       "      <td>NaN</td>\n",
       "      <td>NaN</td>\n",
       "      <td>NaN</td>\n",
       "      <td>NaN</td>\n",
       "      <td>0.32</td>\n",
       "    </tr>\n",
       "    <tr>\n",
       "      <th>3</th>\n",
       "      <td>jamshedpur</td>\n",
       "      <td>NaN</td>\n",
       "      <td>Resale</td>\n",
       "      <td>Semi-Furnished</td>\n",
       "      <td>NaN</td>\n",
       "      <td>2.0</td>\n",
       "      <td>NaN</td>\n",
       "      <td>NaN</td>\n",
       "      <td>1460.0</td>\n",
       "      <td>3.0</td>\n",
       "      <td>0</td>\n",
       "      <td>3.0</td>\n",
       "      <td>4.0</td>\n",
       "      <td>NaN</td>\n",
       "      <td>NaN</td>\n",
       "      <td>NaN</td>\n",
       "      <td>NaN</td>\n",
       "      <td>NaN</td>\n",
       "      <td>0.85</td>\n",
       "    </tr>\n",
       "    <tr>\n",
       "      <th>4</th>\n",
       "      <td>zirakpur</td>\n",
       "      <td>NaN</td>\n",
       "      <td>New Property</td>\n",
       "      <td>Semi-Furnished</td>\n",
       "      <td>North - East</td>\n",
       "      <td>3.0</td>\n",
       "      <td>2.0</td>\n",
       "      <td>Freehold</td>\n",
       "      <td>1550.0</td>\n",
       "      <td>3.0</td>\n",
       "      <td>0</td>\n",
       "      <td>3.0</td>\n",
       "      <td>4.0</td>\n",
       "      <td>1.0</td>\n",
       "      <td>1.0</td>\n",
       "      <td>1.0</td>\n",
       "      <td>NaN</td>\n",
       "      <td>NaN</td>\n",
       "      <td>0.56</td>\n",
       "    </tr>\n",
       "  </tbody>\n",
       "</table>\n",
       "</div>"
      ],
      "text/plain": [
       "        location  carpet_area   transaction      furnishing        facing  \\\n",
       "0      new-delhi        750.0        Resale       Furnished          East   \n",
       "1  greater-noida          NaN  New Property     Unfurnished           NaN   \n",
       "2           pune          NaN        Resale     Unfurnished           NaN   \n",
       "3     jamshedpur          NaN        Resale  Semi-Furnished           NaN   \n",
       "4       zirakpur          NaN  New Property  Semi-Furnished  North - East   \n",
       "\n",
       "   bathroom  balcony ownership  super_area  num_bhk  is_studio  floor_num  \\\n",
       "0       2.0      NaN  Freehold         NaN      2.0          0        1.0   \n",
       "1       3.0      NaN       NaN      1880.0      3.0          0        NaN   \n",
       "2       1.0      NaN       NaN       800.0      2.0          0        3.0   \n",
       "3       2.0      NaN       NaN      1460.0      3.0          0        3.0   \n",
       "4       3.0      2.0  Freehold      1550.0      3.0          0        3.0   \n",
       "\n",
       "   num_floors  overlooking_garden  overlooking_mainroad  overlooking_pool  \\\n",
       "0         4.0                 0.0                   1.0               0.0   \n",
       "1         NaN                 NaN                   NaN               NaN   \n",
       "2         3.0                 NaN                   NaN               NaN   \n",
       "3         4.0                 NaN                   NaN               NaN   \n",
       "4         4.0                 1.0                   1.0               1.0   \n",
       "\n",
       "   parking_spots parking_cover  amount  \n",
       "0            1.0       Covered    0.37  \n",
       "1            NaN           NaN    1.71  \n",
       "2            NaN           NaN    0.32  \n",
       "3            NaN           NaN    0.85  \n",
       "4            NaN           NaN    0.56  "
      ]
     },
     "execution_count": 43,
     "metadata": {},
     "output_type": "execute_result"
    }
   ],
   "source": [
    "export_data(X_val,y_val,\"val\")"
   ]
  }
 ],
 "metadata": {
  "kernelspec": {
   "display_name": "Python 3 (ipykernel)",
   "language": "python",
   "name": "python3"
  },
  "language_info": {
   "codemirror_mode": {
    "name": "ipython",
    "version": 3
   },
   "file_extension": ".py",
   "mimetype": "text/x-python",
   "name": "python",
   "nbconvert_exporter": "python",
   "pygments_lexer": "ipython3",
   "version": "3.12.4"
  },
  "widgets": {
   "application/vnd.jupyter.widget-state+json": {
    "state": {},
    "version_major": 2,
    "version_minor": 0
   }
  }
 },
 "nbformat": 4,
 "nbformat_minor": 5
}
