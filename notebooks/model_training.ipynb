{
 "cells": [
  {
   "cell_type": "markdown",
   "id": "1a230792-c200-476f-ae2f-1e0ae284288a",
   "metadata": {},
   "source": [
    "## 1. Importing Necessary Libraries"
   ]
  },
  {
   "cell_type": "code",
   "execution_count": 111,
   "id": "2c0dd8a5-a500-4164-8ee9-beab9359778c",
   "metadata": {},
   "outputs": [],
   "source": [
    "from pathlib import Path\n",
    "\n",
    "import numpy as np\n",
    "import pandas as pd\n",
    "\n",
    "import sklearn\n",
    "import xgboost\n",
    "\n",
    "from sklearn.metrics import r2_score\n",
    "\n",
    "from sklearn.linear_model import (\n",
    "      LinearRegression,\n",
    "      Ridge,\n",
    "      Lasso\n",
    ")\n",
    "from sklearn.neighbors import KNeighborsRegressor\n",
    "from sklearn.ensemble import (\n",
    "      RandomForestRegressor,\n",
    "      AdaBoostRegressor,\n",
    "      GradientBoostingRegressor\n",
    ")\n",
    "from xgboost import XGBRegressor\n",
    "\n",
    "\n",
    "from sklearn.base import (\n",
    "    BaseEstimator,\n",
    "    TransformerMixin\n",
    ")\n",
    "\n",
    "from sklearn.impute import (\n",
    "    SimpleImputer\n",
    ")\n",
    "\n",
    "from sklearn.preprocessing import (\n",
    "\tOneHotEncoder,\n",
    "    OrdinalEncoder,\n",
    "    TargetEncoder,\n",
    "    StandardScaler,\n",
    "    MinMaxScaler,\n",
    "    FunctionTransformer\n",
    ")\n",
    "\n",
    "from sklearn.compose import (\n",
    "    ColumnTransformer,\n",
    "    TransformedTargetRegressor\n",
    ")\n",
    "\n",
    "from sklearn.pipeline import (\n",
    "    Pipeline,\n",
    "    FeatureUnion\n",
    ")\n",
    "\n",
    "from feature_engine.encoding import(\n",
    "    RareLabelEncoder\n",
    ")\n",
    "\n",
    "from feature_engine.selection import(\n",
    "    SelectBySingleFeaturePerformance,\n",
    "    SmartCorrelatedSelection\n",
    ")\n",
    "\n",
    "import optuna\n",
    "from optuna.visualization import plot_parallel_coordinate\n",
    "from plotly.io import show\n",
    "\n",
    "import warnings"
   ]
  },
  {
   "cell_type": "markdown",
   "id": "c471743d-23f3-4a6c-89ac-13100873ed7e",
   "metadata": {},
   "source": [
    "## 2. Display settings"
   ]
  },
  {
   "cell_type": "code",
   "execution_count": 4,
   "id": "f9485e5f-126b-4262-822a-1435b9aa2d2e",
   "metadata": {},
   "outputs": [],
   "source": [
    "pd.set_option(\"display.max_columns\", None)\n",
    "sklearn.set_config(transform_output = \"pandas\")\n",
    "warnings.filterwarnings('ignore')"
   ]
  },
  {
   "cell_type": "markdown",
   "id": "a461457b-c365-464e-9d31-e23c65bd697c",
   "metadata": {},
   "source": [
    "## 3. Reading The Data"
   ]
  },
  {
   "cell_type": "code",
   "execution_count": 6,
   "id": "c9552931-8c15-4729-b299-1b5ba795ed9a",
   "metadata": {},
   "outputs": [],
   "source": [
    "PROJECT_DIR = Path(r\"F:\\Rishabh\\House-Price-Prediction-MLOps-Project\")\n",
    "DATA_DIR = \"data\""
   ]
  },
  {
   "cell_type": "code",
   "execution_count": 7,
   "id": "793e1070-0a66-4f0b-90d0-685150dafebe",
   "metadata": {},
   "outputs": [],
   "source": [
    "def read_data(name):\n",
    "    file_name = f\"{name}.csv\"\n",
    "    file_path = PROJECT_DIR/DATA_DIR/name/file_name\n",
    "\n",
    "    return pd.read_csv(file_path)"
   ]
  },
  {
   "cell_type": "code",
   "execution_count": 8,
   "id": "24056fe6-1bfd-4c6b-9c86-81427d3ce817",
   "metadata": {},
   "outputs": [],
   "source": [
    "train = read_data(\"train\")"
   ]
  },
  {
   "cell_type": "code",
   "execution_count": 9,
   "id": "b88bd475-7372-424a-8f92-19d16268fed2",
   "metadata": {},
   "outputs": [],
   "source": [
    "val = read_data(\"val\")"
   ]
  },
  {
   "cell_type": "code",
   "execution_count": 10,
   "id": "ed59829e-bd9c-4717-80f8-b6df4229e55b",
   "metadata": {},
   "outputs": [],
   "source": [
    "test = read_data(\"test\")"
   ]
  },
  {
   "cell_type": "code",
   "execution_count": 11,
   "id": "42b5a402-c0dc-49bd-bf53-74499f43f1da",
   "metadata": {},
   "outputs": [],
   "source": [
    "X_train = train.drop(columns = [\"amount\"])\n",
    "y_train = train.amount.copy()\n",
    "\n",
    "X_val = val.drop(columns = [\"amount\"])\n",
    "y_val = val.amount.copy()\n",
    "\n",
    "X_test = test.drop(columns = [\"amount\"])\n",
    "y_test = test.amount.copy()"
   ]
  },
  {
   "cell_type": "code",
   "execution_count": 12,
   "id": "2e80e9c1-ecba-4f3c-95ac-28710f38ed17",
   "metadata": {},
   "outputs": [
    {
     "name": "stdout",
     "output_type": "stream",
     "text": [
      "(42129, 18)\n",
      "(42129,)\n",
      "(4681, 18)\n",
      "(4681,)\n",
      "(5202, 18)\n",
      "(5202,)\n"
     ]
    }
   ],
   "source": [
    "print(X_train.shape)\n",
    "print(y_train.shape)\n",
    "print(X_val.shape)\n",
    "print(y_val.shape)\n",
    "print(X_test.shape)\n",
    "print(y_test.shape)"
   ]
  },
  {
   "cell_type": "markdown",
   "id": "07b60dee-514b-4553-a27e-94887748008a",
   "metadata": {},
   "source": [
    "## 4. Feature Engineering Pipeline"
   ]
  },
  {
   "cell_type": "code",
   "execution_count": 14,
   "id": "0c8e7328-9eaa-471b-ac88-36e5a761443b",
   "metadata": {},
   "outputs": [],
   "source": [
    "# Function to rename the columns before putting back into imputation pipeline\n",
    "def prefix_remover(X, prefixes):\n",
    "\n",
    "    prefix_list = [f\"{prefix}__\" for prefix in prefixes]\n",
    "    new_cols = X.columns\n",
    "    \n",
    "    for prefix in prefix_list:\n",
    "        new_cols = [col.replace(prefix,\"\") if col.startswith(prefix) else col for col in new_cols]\n",
    "\n",
    "    return X.rename(\n",
    "        columns = dict(zip(X.columns,new_cols))\n",
    "    )\n",
    "\n",
    "# imputer to impute bathroom values based on num_bhk\n",
    "class GroupAggregateImputer(BaseEstimator, TransformerMixin):\n",
    "\n",
    "    def __init__(self,variable,group_col,estimator,add_indicator = False):\n",
    "        self.variable = variable\n",
    "        self.group_col = group_col\n",
    "        self.estimator = estimator\n",
    "        self.add_indicator = add_indicator\n",
    "\n",
    "    def fit(self,X,y = None):\n",
    "\n",
    "        self.group_medians_ = {}\n",
    "        self.group_modes_ = {}\n",
    "\n",
    "        if self.estimator == \"median\":\n",
    "                self.group_medians_[self.variable] =  X.groupby(self.group_col)[self.variable].median()\n",
    "                \n",
    "        elif self.estimator == \"mode\":\n",
    "                self.group_modes_[self.variable] =  X.groupby(self.group_col)[self.variable].agg(lambda x: x.mode().iloc[0])\n",
    "            \n",
    "        return self\n",
    "\n",
    "    def transform(self,X):\n",
    "       X = X.copy()\n",
    "\n",
    "       if self.add_indicator:\n",
    "           X = X.assign(**{\n",
    "               f\"{self.variable}_missingindicator\" : lambda df:(\n",
    "                     np.where(\n",
    "                         df[self.variable].isnull(),\n",
    "                         1,0\n",
    "                     )\n",
    "                 )\n",
    "           })\n",
    "\n",
    "       if self.estimator == \"median\":\n",
    "               mask = X[self.variable].isnull()\n",
    "               X.loc[mask,self.variable] = X.loc[mask,self.group_col].map(self.group_medians_[self.variable])\n",
    "               \n",
    "       elif self.estimator == \"mode\":\n",
    "               mask = X[self.variable].isnull()\n",
    "               X.loc[mask,self.variable] = X.loc[mask,self.group_col].map(self.group_modes_[self.variable]) \n",
    "\n",
    "       \n",
    "       return X\n",
    "\n",
    "# Imputation pipeline\n",
    "\n",
    "furnishing_imputer = ColumnTransformer(transformers = [\n",
    "    (\"furnishing_imputer\",GroupAggregateImputer(variable = \"furnishing\",group_col = \"transaction\",estimator = \"mode\"),[\"furnishing\",\"transaction\"])\n",
    "],remainder = \"passthrough\")\n",
    "\n",
    "furnishing_imputation_pipeline = Pipeline(steps = [\n",
    "    (\"furnishing_imputer\",furnishing_imputer),\n",
    "    (\"prefix_remover\",FunctionTransformer(func = prefix_remover, kw_args = {\"prefixes\" : [\"furnishing_imputer\",\"remainder\"]}))\n",
    "])\n",
    "\n",
    "floor_num_imputer = ColumnTransformer(transformers = [\n",
    "    (\"floor_num_imputer\",SimpleImputer(strategy = \"median\"),[\"floor_num\"])\n",
    "],remainder = \"passthrough\")\n",
    "\n",
    "floor_num_imputation_pipeline = Pipeline(steps = [\n",
    "    (\"floor_num_imputer\",floor_num_imputer),\n",
    "    (\"prefix_remover\",FunctionTransformer(func = prefix_remover, kw_args = {\"prefixes\" : [\"floor_num_imputer\",\"remainder\"]}))\n",
    "])\n",
    "\n",
    "num_floors_imputer = ColumnTransformer(transformers = [\n",
    "    (\"num_floors_imputer\",GroupAggregateImputer(variable = \"num_floors\",group_col = \"floor_num\",estimator = \"median\"),[\"num_floors\",\"floor_num\"])\n",
    "],remainder = \"passthrough\")\n",
    "\n",
    "num_floors_imputation_pipeline = Pipeline(steps = [\n",
    "    (\"num_floors_imputer\",num_floors_imputer),\n",
    "    (\"prefix_remover\",FunctionTransformer(func = prefix_remover, kw_args = {\"prefixes\" : [\"num_floors_imputer\",\"remainder\"]}))\n",
    "])\n",
    "\n",
    "balcony_imputer = ColumnTransformer(transformers = [\n",
    "    (\"balcony_imputer\", GroupAggregateImputer(variable = \"balcony\",group_col = \"num_bhk\",estimator = \"median\", add_indicator = True),[\"balcony\",\"num_bhk\"])\n",
    "],remainder = \"passthrough\")\n",
    "\n",
    "balcony_imputation_pipeline = Pipeline(steps = [\n",
    "    (\"balcony_imputer\",balcony_imputer),\n",
    "    (\"prefix_remover\",FunctionTransformer(func = prefix_remover, kw_args = {\"prefixes\" : [\"balcony_imputer\",\"remainder\"]}))\n",
    "])\n",
    "\n",
    "ownership_imputer = ColumnTransformer(transformers = [\n",
    "    (\"ownership_imputer\",SimpleImputer(strategy = 'most_frequent',add_indicator = True),[\"ownership\"])\n",
    "], remainder = \"passthrough\")\n",
    "\n",
    "\n",
    "ownership_imputation_pipeline = Pipeline(steps = [\n",
    "    (\"ownership_imputer\",ownership_imputer),\n",
    "    (\"prefix_remover\",FunctionTransformer(func = prefix_remover, kw_args = {\"prefixes\" : [\"ownership_imputer\",\"remainder\"]}))\n",
    "])\n",
    "\n",
    "facing_imputer = ColumnTransformer(transformers = [\n",
    "    (\"facing_imputer\",SimpleImputer(strategy = 'constant',fill_value = 'Missing',add_indicator = True),[\"facing\"])\n",
    "], remainder = \"passthrough\")\n",
    "\n",
    "facing_imputation_pipeline = Pipeline(steps = [\n",
    "    (\"facing_imputer\",facing_imputer),\n",
    "    (\"prefix_remover\",FunctionTransformer(func = prefix_remover, kw_args = {\"prefixes\" : [\"facing_imputer\",\"remainder\"]}))\n",
    "])\n",
    "\n",
    "overlooking_garden_imputer = ColumnTransformer(transformers = [\n",
    "    (\"overlooking_garden_imputer\",SimpleImputer(strategy = 'constant',fill_value = -1),[\"overlooking_garden\"])\n",
    "], remainder = \"passthrough\")\n",
    "\n",
    "overlooking_garden_imputation_pipeline = Pipeline(steps = [\n",
    "    (\"overlooking_garden_imputer\",overlooking_garden_imputer),\n",
    "    (\"prefix_remover\",FunctionTransformer(func = prefix_remover, kw_args = {\"prefixes\" : [\"overlooking_garden_imputer\",\"remainder\"]}))\n",
    "])\n",
    "\n",
    "overlooking_mainroad_imputer = ColumnTransformer(transformers = [\n",
    "    (\"overlooking_mainroad_imputer\",SimpleImputer(strategy = 'constant',fill_value = -1),[\"overlooking_mainroad\"])\n",
    "], remainder = \"passthrough\")\n",
    "\n",
    "overlooking_mainroad_imputation_pipeline = Pipeline(steps = [\n",
    "    (\"overlooking_mainroad_imputer\",overlooking_mainroad_imputer),\n",
    "    (\"prefix_remover\",FunctionTransformer(func = prefix_remover, kw_args = {\"prefixes\" : [\"overlooking_mainroad_imputer\",\"remainder\"]}))\n",
    "])\n",
    "\n",
    "overlooking_pool_imputer = ColumnTransformer(transformers = [\n",
    "    (\"overlooking_pool_imputer\",SimpleImputer(strategy = 'constant',fill_value = -1),[\"overlooking_pool\"])\n",
    "], remainder = \"passthrough\")\n",
    "\n",
    "overlooking_pool_imputation_pipeline = Pipeline(steps = [\n",
    "    (\"overlooking_pool_imputer\",overlooking_pool_imputer),\n",
    "    (\"prefix_remover\",FunctionTransformer(func = prefix_remover, kw_args = {\"prefixes\" : [\"overlooking_pool_imputer\",\"remainder\"]}))\n",
    "])\n",
    "\n",
    "parking_cover_imputer =  ColumnTransformer(transformers = [\n",
    "    (\"parking_cover_imputer\",SimpleImputer(strategy = 'constant',fill_value = \"No parking\"),[\"parking_cover\"])\n",
    "],remainder = \"passthrough\")\n",
    "\n",
    "parking_cover_imputation_pipeline = Pipeline(steps = [\n",
    "    (\"parking_cover_imputer\",parking_cover_imputer),\n",
    "    (\"prefix_remover\",FunctionTransformer(func = prefix_remover, kw_args = {\"prefixes\" : [\"parking_cover_imputer\",\"remainder\"]}))\n",
    "])\n",
    "\n",
    "parking_spots_imputer =  ColumnTransformer(transformers = [\n",
    "    (\"parking_spots_imputer\",SimpleImputer(strategy = 'constant',fill_value = 0),[\"parking_spots\"])\n",
    "],remainder = \"passthrough\")\n",
    "\n",
    "parking_spots_imputation_pipeline = Pipeline(steps = [\n",
    "    (\"parking_spots_imputer\",parking_spots_imputer),\n",
    "    (\"prefix_remover\",FunctionTransformer(func = prefix_remover, kw_args = {\"prefixes\" : [\"parking_spots_imputer\",\"remainder\"]}))\n",
    "])\n",
    "\n",
    "carpet_area_imputer =  ColumnTransformer(transformers = [\n",
    "    (\"carpet_area_imputer\",SimpleImputer(strategy = 'constant',fill_value = -1),[\"carpet_area\"])\n",
    "],remainder = \"passthrough\")\n",
    "\n",
    "carpet_area_imputation_pipeline = Pipeline(steps = [\n",
    "    (\"carpet_area_imputer\",carpet_area_imputer),\n",
    "    (\"prefix_remover\",FunctionTransformer(func = prefix_remover, kw_args = {\"prefixes\" : [\"carpet_area_imputer\",\"remainder\"]}))\n",
    "])\n",
    "\n",
    "super_area_imputer =  ColumnTransformer(transformers = [\n",
    "    (\"super_area_imputer\",SimpleImputer(strategy = 'constant',fill_value = -1),[\"super_area\"])\n",
    "],remainder = \"passthrough\")\n",
    "\n",
    "super_area_imputation_pipeline = Pipeline(steps = [\n",
    "    (\"super_area_imputer\",super_area_imputer),\n",
    "    (\"prefix_remover\",FunctionTransformer(func = prefix_remover, kw_args = {\"prefixes\" : [\"super_area_imputer\",\"remainder\"]}))\n",
    "])\n",
    "\n",
    "imputation_pipeline = Pipeline(steps = [\n",
    "    (\"furnishing_imputation_pipeline\",furnishing_imputation_pipeline),\n",
    "    (\"floor_num_imputation_pipeline\",floor_num_imputation_pipeline),\n",
    "    (\"num_floors_imputation_pipeline\",num_floors_imputation_pipeline),\n",
    "    (\"balcony_imputation_pipeline\",balcony_imputation_pipeline),\n",
    "    (\"ownership_imputation_pipeline\",ownership_imputation_pipeline),\n",
    "    (\"facing_imputation_pipeline\",facing_imputation_pipeline),\n",
    "    (\"overlooking_garden_imputation_pipeline\",overlooking_garden_imputation_pipeline),\n",
    "    (\"overlooking_mainroad_imputation_pipeline\",overlooking_mainroad_imputation_pipeline),\n",
    "    (\"overlooking_pool_imputation_pipeline\",overlooking_pool_imputation_pipeline),\n",
    "    (\"parking_cover_imputation_pipeline\",parking_cover_imputation_pipeline),\n",
    "    (\"parking_spots_imputation_pipeline\",parking_spots_imputation_pipeline),\n",
    "    (\"carpet_area_imputation_pipeline\",carpet_area_imputation_pipeline),\n",
    "    (\"super_area_imputation_pipeline\",super_area_imputation_pipeline)\n",
    "])\n",
    "\n",
    "# Column transformers\n",
    "\n",
    "transaction_transformer = Pipeline(steps = [\n",
    "    (\"grouper\",RareLabelEncoder(tol = 0.1, n_categories = 2, replace_with = \"Resale\")),\n",
    "    (\"encoder\",OneHotEncoder(sparse_output = False,handle_unknown = 'ignore'))\n",
    "])\n",
    "\n",
    "def house_size_binner(X):\n",
    "    columns = X.columns.to_list()\n",
    "\n",
    "    return (\n",
    "        X.assign(\n",
    "               house_size = lambda df: (\n",
    "                np.select(\n",
    "                [\n",
    "                    df.num_bhk.between(1,3,inclusive = \"left\"),\n",
    "                    df.num_bhk.between(3,4,inclusive = \"left\")\n",
    "                ],\n",
    "                [\"small\",\"normal\"],\n",
    "                default = \"big\"\n",
    "               )\n",
    "            ) \n",
    "        )\n",
    "        .drop(columns = columns)\n",
    "    )\n",
    "\n",
    "num_bhk_pipe1 = Pipeline(steps = [\n",
    "    (\"scaler\",MinMaxScaler())\n",
    "])\n",
    "\n",
    "num_bhk_pipe2 = Pipeline(steps = [\n",
    "    (\"house_size_binner\",FunctionTransformer(func = house_size_binner)),\n",
    "    (\"encoder\",OrdinalEncoder(categories = [[\"small\",\"normal\",\"big\"]]))\n",
    "])\n",
    "\n",
    "num_bhk_transformer = FeatureUnion(transformer_list = [\n",
    "    (\"num_bhk_pipe1\",num_bhk_pipe1),\n",
    "    (\"num_bhk_pipe2\",num_bhk_pipe2)\n",
    "])\n",
    "\n",
    "def bathroom_num_binner(X):\n",
    "    columns = X.columns.to_list()\n",
    "\n",
    "    return (\n",
    "        X.assign(\n",
    "               bathroom_num = lambda df: (\n",
    "                np.select(\n",
    "                [\n",
    "                    df.bathroom.between(1,3,inclusive = \"left\"),\n",
    "                    df.bathroom.between(3,4,inclusive = \"left\")\n",
    "                ],\n",
    "                [\"low\",\"medium\"],\n",
    "                default = \"high\"\n",
    "              )\n",
    "            ) \n",
    "        )\n",
    "        .drop(columns = columns)\n",
    "    )\n",
    "\n",
    "bathroom_pipe1 = Pipeline(steps = [\n",
    "    (\"scaler\",MinMaxScaler())\n",
    "])\n",
    "\n",
    "bathroom_pipe2 = Pipeline(steps = [\n",
    "    (\"bathroom_num_binner\",FunctionTransformer(func = bathroom_num_binner)),\n",
    "    (\"encoder\",OrdinalEncoder(categories = [[\"low\",\"medium\",\"high\"]]))\n",
    "])\n",
    "\n",
    "bathroom_transformer = FeatureUnion(transformer_list = [\n",
    "    (\"bathroom_pipe1\",bathroom_pipe1),\n",
    "    (\"bathroom_pipe2\",bathroom_pipe2)\n",
    "])\n",
    "\n",
    "def bathroom_num_binner(X):\n",
    "    columns = X.columns.to_list()\n",
    "\n",
    "    return (\n",
    "        X.assign(\n",
    "               bathroom_num = lambda df: (\n",
    "                np.select(\n",
    "                [\n",
    "                    df.bathroom.between(1,3,inclusive = \"left\"),\n",
    "                    df.bathroom.between(3,4,inclusive = \"left\")\n",
    "                ],\n",
    "                [\"low\",\"medium\"],\n",
    "                default = \"high\"\n",
    "              )\n",
    "            ) \n",
    "        )\n",
    "        .drop(columns = columns)\n",
    "    )\n",
    "\n",
    "furnishing_pipe1 = Pipeline(steps = [\n",
    "    (\"encoder\",OrdinalEncoder(categories = [[\"Unfurnished\",\"Semi-Furnished\",\"Furnished\"]])),\n",
    "])\n",
    "\n",
    "furnishing_pipe2 = Pipeline(steps = [\n",
    "    (\"is_unfurnished\",FunctionTransformer(func = lambda x: np.where(x == 'Unfurnished',1,0)))\n",
    "])\n",
    "\n",
    "furnishing_transformer = FeatureUnion(transformer_list = [\n",
    "    (\"furnishing_pipe1\",furnishing_pipe1),\n",
    "    (\"furnishing_pipe2\",furnishing_pipe2)\n",
    "])\n",
    "\n",
    "def floor_height_binner(X):\n",
    "\n",
    "    columns = X.columns.to_list()\n",
    "\n",
    "    return (\n",
    "        X.assign(\n",
    "            floor_height = lambda df:(\n",
    "                    np.select(\n",
    "                        [\n",
    "                            (df.floor_num.between(0,3, inclusive = \"left\")),\n",
    "                            (df.floor_num.between(3,6, inclusive = \"left\"))\n",
    "                        ],\n",
    "                        [\"low\",\"medium\"],\n",
    "                        default = \"high\"\n",
    "                    )\n",
    "            )\n",
    "        )\n",
    "        .drop(columns = columns)\n",
    "    )\n",
    "\n",
    "def building_height_binner(X):\n",
    "\n",
    "    columns = X.columns.to_list()\n",
    "\n",
    "    return (\n",
    "        X.assign(\n",
    "            building_height = lambda df:(\n",
    "                np.select(\n",
    "                [\n",
    "                    (df.num_floors.between(0,5, inclusive = \"left\")),\n",
    "                    (df.num_floors.between(5,13, inclusive = \"left\"))\n",
    "                ],\n",
    "                [\"short\",\"medium\"],\n",
    "                default = \"tall\"\n",
    "            )\n",
    "            )\n",
    "        )\n",
    "        .drop(columns = columns)\n",
    "    )\n",
    "\n",
    "floor_num_pipe1 = Pipeline(steps = [\n",
    "    (\"scaler\",StandardScaler())\n",
    "])\n",
    "\n",
    "floor_num_pipe2 = Pipeline(steps = [\n",
    "    (\"floor_height_binner\",FunctionTransformer(func = floor_height_binner)),\n",
    "    (\"encoder\",OrdinalEncoder(categories = [[\"low\",\"medium\",\"high\"]])),\n",
    "])\n",
    "\n",
    "floor_num_transformer = FeatureUnion(transformer_list = [\n",
    "    (\"floor_num_pipe1\",floor_num_pipe1),\n",
    "    (\"floor_num_pipe2\",floor_num_pipe2)\n",
    "])\n",
    "\n",
    "num_floors_pipe1 = Pipeline(steps = [\n",
    "    (\"scaler\",StandardScaler())\n",
    "])\n",
    "\n",
    "num_floors_pipe2 = Pipeline(steps = [\n",
    "    (\"building_height_binner\",FunctionTransformer(func = building_height_binner)),\n",
    "    (\"encoder\",OrdinalEncoder(categories = [[\"short\",\"medium\",\"tall\"]]))\n",
    "])\n",
    "\n",
    "num_floors_transformer = FeatureUnion(transformer_list = [\n",
    "    (\"num_floors_pipe1\",num_floors_pipe1),\n",
    "    (\"num_floors_pipe2\",num_floors_pipe2)\n",
    "])\n",
    "\n",
    "def city_binner(X):\n",
    "    \n",
    "     columns = X.columns.to_list()\n",
    "\n",
    "     return (\n",
    "        X.assign(\n",
    "            city_tier = lambda df:(\n",
    "                np.where(\n",
    "                    df.location.isin([\"mumbai\",\"gurgaon\",\"new-delhi\"]),\n",
    "                    1,\n",
    "                    0\n",
    "                )\n",
    "            )\n",
    "        )\n",
    "        .drop(columns = columns)\n",
    "    )\n",
    "\n",
    "location_pipe1 = Pipeline(steps = [\n",
    "    (\"target_encoder\", TargetEncoder())\n",
    "])\n",
    "\n",
    "location_pipe2 = Pipeline(steps = [\n",
    "    (\"city_binner\",FunctionTransformer(func = city_binner))\n",
    "])\n",
    "\n",
    "location_transformer = FeatureUnion(transformer_list = [\n",
    "    (\"location_pipe1\",location_pipe1),\n",
    "    (\"location_pipe2\",location_pipe2)\n",
    "])\n",
    "\n",
    "def price_binner(X):\n",
    "\n",
    "    columns = X.columns.to_list()\n",
    "\n",
    "    return (\n",
    "        X.assign(\n",
    "               price_range = lambda df:(\n",
    "                np.select(\n",
    "                    [\n",
    "                        df.price.between(0,4000,inclusive = \"left\"),\n",
    "                        df.price.between(4000,6000,inclusive = \"left\")\n",
    "                    ],\n",
    "                    [\"low\",\"medium\"],\n",
    "                    default = \"high\"\n",
    "                )\n",
    "            )\n",
    "        )\n",
    "        .drop(columns = columns)\n",
    "    )\n",
    "\n",
    "balcony_transformer = Pipeline(steps = [\n",
    "    (\"nearest_integer\",FunctionTransformer(func = lambda x : np.round(x))),\n",
    "    (\"scaler\",MinMaxScaler())\n",
    "])\n",
    "\n",
    "ownership_transformer = Pipeline(steps = [\n",
    "    (\"encoder\",OneHotEncoder(sparse_output = False,handle_unknown = 'ignore'))\n",
    "])\n",
    "\n",
    "missingindicator_ownership_transformer = Pipeline(steps = [\n",
    "    (\"encoder\",OneHotEncoder(drop = 'first',sparse_output = False,handle_unknown = 'ignore'))\n",
    "])\n",
    "\n",
    "def direction_binner(X):\n",
    "\n",
    "     columns = X.columns.to_list()\n",
    "\n",
    "     return (\n",
    "        X.assign(\n",
    "            direction_tier = lambda df:(\n",
    "                np.where(\n",
    "                    df.facing.isin([\"North - East\",\"North - West\"]),\n",
    "                    1,\n",
    "                    0\n",
    "                )\n",
    "            )\n",
    "        )\n",
    "        .drop(columns = columns)\n",
    "     )\n",
    "\n",
    "facing_pipe1 = Pipeline(steps = [\n",
    "    (\"encoder\",OneHotEncoder(sparse_output = False,handle_unknown = 'ignore'))\n",
    "])\n",
    "\n",
    "facing_pipe2 = Pipeline(steps = [\n",
    "    (\"direction_binner\",FunctionTransformer(func = direction_binner))\n",
    "])\n",
    "\n",
    "facing_transformer = FeatureUnion(transformer_list = [\n",
    "    (\"facing_pipe1\",facing_pipe1),\n",
    "    (\"facing_pipe2\",facing_pipe2)\n",
    "])\n",
    "\n",
    "missingindicator_facing_transformer = Pipeline(steps = [\n",
    "    (\"encoder\",OneHotEncoder(drop = 'first',sparse_output = False,handle_unknown = 'ignore'))\n",
    "])\n",
    "\n",
    "overlooking_garden_transformer = Pipeline(steps = [\n",
    "    (\"encoder\",OneHotEncoder(sparse_output = False,handle_unknown = 'ignore'))\n",
    "])\n",
    "\n",
    "overlooking_mainroad_transformer = Pipeline(steps = [\n",
    "    (\"encoder\",OneHotEncoder(categories=[[ -1, 0, 1 ]], drop=[-1], sparse_output=False, handle_unknown='ignore'))\n",
    "])\n",
    "\n",
    "overlooking_pool_transformer = Pipeline(steps = [\n",
    "    (\"encoder\",OneHotEncoder(categories=[[ -1, 0, 1 ]], drop=[-1], sparse_output=False, handle_unknown='ignore'))\n",
    "])\n",
    "\n",
    "parking_cover_transformer = Pipeline(steps = [\n",
    "    (\"encoder\",OneHotEncoder(sparse_output = False,handle_unknown = 'ignore'))\n",
    "])\n",
    "\n",
    "def has_parking(X):\n",
    "\n",
    "    columns = X.columns.to_list()\n",
    "\n",
    "    return (\n",
    "        X.assign(\n",
    "            has_parking = lambda df:(\n",
    "                np.select(\n",
    "                            [\n",
    "                                df.parking_spots.eq(0),\n",
    "                                df.parking_spots.eq(1)\n",
    "                            ],\n",
    "                            [\"no parking\",\"single\"],\n",
    "                            default = \"multiple\"\n",
    "                        )\n",
    "            )\n",
    "        )\n",
    "        .drop(columns = columns)\n",
    "     )\n",
    "\n",
    "parking_spots_transformer = Pipeline(steps = [\n",
    "    (\"has_parking\",FunctionTransformer(func = has_parking)),\n",
    "    (\"encoder\",OneHotEncoder(categories = [[\"multiple\",\"single\",\"no parking\"]],drop = [[\"no parking\"]],sparse_output = False,handle_unknown = 'ignore'))\n",
    "])\n",
    "\n",
    "def effective_area(X):\n",
    "\n",
    "    columns = X.columns.to_list()\n",
    "\n",
    "    return(\n",
    "        X\n",
    "        .assign(\n",
    "            effective_area = lambda df:(\n",
    "                np.where(\n",
    "                    df.carpet_area.eq(-1),\n",
    "                    df.super_area,\n",
    "                    df.carpet_area\n",
    "                )\n",
    "            ),\n",
    "            carpet_areamissing = lambda df:(\n",
    "                np.where(\n",
    "                    df.carpet_area.eq(-1),\n",
    "                    1,\n",
    "                    0\n",
    "                )\n",
    "            ),\n",
    "            super_areamissing = lambda df:(\n",
    "                np.where(\n",
    "                    df.super_area.eq(-1),\n",
    "                    1,\n",
    "                    0\n",
    "                )\n",
    "            )\n",
    "        )\n",
    "        .drop(columns = columns)\n",
    "    )\n",
    "\n",
    "scaler_pipeline = Pipeline(steps = [\n",
    "    (\"log_transformer\",FunctionTransformer(func = lambda x: np.log(x))),\n",
    "    (\"scaler\",StandardScaler())\n",
    "])\n",
    "\n",
    "area_transformer = Pipeline(steps = [\n",
    "    (\"effective_area\",FunctionTransformer(func = effective_area)),\n",
    "    (\"scaler_pipeline\",ColumnTransformer(transformers = [\n",
    "        (\"scaler_pipeline\",scaler_pipeline,[\"effective_area\"])\n",
    "    ],remainder = \"passthrough\")),\n",
    "])\n",
    "\n",
    "column_transformer = ColumnTransformer(transformers = [\n",
    "    (\"transaction_transformer\",transaction_transformer,[\"transaction\"]),\n",
    "    (\"num_bhk_transformer\",num_bhk_transformer,[\"num_bhk\"]),\n",
    "    (\"bathroom_transformer\",bathroom_transformer,[\"bathroom\"]),\n",
    "    (\"furnishing_transformer\",furnishing_transformer,[\"furnishing\"]),\n",
    "    (\"floor_num_transformer\",floor_num_transformer,[\"floor_num\"]),\n",
    "    (\"num_floors_transformer\",num_floors_transformer,[\"num_floors\"]),\n",
    "    (\"location_transformer\",location_transformer,[\"location\"]),\n",
    "    (\"balcony_transformer\",balcony_transformer,[\"balcony\"]),\n",
    "    (\"ownership_transformer\",ownership_transformer,[\"ownership\"]),\n",
    "    (\"missingindicator_ownership_transformer\",missingindicator_ownership_transformer,[\"missingindicator_ownership\"]),\n",
    "    (\"facing_transformer\",facing_transformer,[\"facing\"]),\n",
    "    (\"missingindicator_facing_transformer\",missingindicator_ownership_transformer,[\"missingindicator_facing\"]),\n",
    "    (\"overlooking_garden_transformer\",overlooking_garden_transformer,[\"overlooking_garden\"]),\n",
    "    (\"overlooking_mainroad_transformer\",overlooking_mainroad_transformer,[\"overlooking_mainroad\"]),\n",
    "    (\"overlooking_pool_transformer\",overlooking_pool_transformer,[\"overlooking_pool\"]),\n",
    "    (\"parking_cover_transformer\",parking_cover_transformer,[\"parking_cover\"]),\n",
    "    (\"parking_spots_transformer\",parking_spots_transformer,[\"parking_spots\"]),\n",
    "    (\"area_transformer\",area_transformer,[\"carpet_area\",\"super_area\"])\n",
    "],remainder = 'passthrough')\n",
    "\n",
    "# Final preprocessor\n",
    "\n",
    "feature_preprocessor = Pipeline(steps = [\n",
    "    (\"imputation_pipeline\",imputation_pipeline),\n",
    "    (\"column_transformer\",column_transformer)\n",
    "])\n",
    "\n",
    "# Correlated feature selector\n",
    "drop_correlated = SmartCorrelatedSelection(estimator = RandomForestRegressor(), scoring = 'r2')\n",
    "\n",
    "# Feature selector\n",
    "feature_selector = SelectBySingleFeaturePerformance(estimator = RandomForestRegressor(),scoring = 'r2',threshold = 0.01)\n",
    "\n",
    "# Feature engineering pipeline\n",
    "feature_engineering_pipeline = Pipeline(steps = [\n",
    "    (\"feature_preprocessor\",feature_preprocessor),\n",
    "    (\"drop_correlated\",drop_correlated),\n",
    "    (\"feature_selector\",feature_selector)\n",
    "])"
   ]
  },
  {
   "cell_type": "code",
   "execution_count": 181,
   "id": "0668e8dc-80a5-4bee-afd2-28cbbb3653b9",
   "metadata": {},
   "outputs": [],
   "source": [
    "X_train_preprocessed = feature_engineering_pipeline.fit_transform(X_train,y_train)\n",
    "X_val_preprocessed = feature_engineering_pipeline.transform(X_val)"
   ]
  },
  {
   "cell_type": "markdown",
   "id": "f69753df-6579-4daa-8448-225d73c610c8",
   "metadata": {},
   "source": [
    "## 5. Model Training Pipeline"
   ]
  },
  {
   "cell_type": "code",
   "execution_count": 227,
   "id": "1ec4175e-2c38-4f4a-b7d9-eadf28cf29da",
   "metadata": {},
   "outputs": [],
   "source": [
    "model_pipeline = Pipeline(steps=[\n",
    "        (\"model\", TransformedTargetRegressor(\n",
    "            regressor=RandomForestRegressor(),\n",
    "            transformer=FunctionTransformer(func=np.sqrt,inverse_func= lambda x:x**2)\n",
    "        ))\n",
    "    ])"
   ]
  },
  {
   "cell_type": "markdown",
   "id": "35f02c79-d16d-4242-a44a-8cf2ef2e3739",
   "metadata": {},
   "source": [
    "## 6. Hyperparameter Tuning"
   ]
  },
  {
   "cell_type": "code",
   "execution_count": 229,
   "id": "f2ba1e31-317d-4fe1-a386-fc887a95d75a",
   "metadata": {},
   "outputs": [],
   "source": [
    "def objective(trial):\n",
    "\n",
    "    regressor_name = trial.suggest_categorical(\"regressor\", [\n",
    "        \"LinearRegression\",\n",
    "        \"RidgeRegression\",\n",
    "        \"LassoRegression\",\n",
    "        \"KNeighborsRegressor\",\n",
    "        \"RandomForestRegressor\",\n",
    "        \"AdaBoostRegressor\",\n",
    "        \"GradientBoostingRegressor\",\n",
    "        \"XGBRegressor\"\n",
    "    ])\n",
    "\n",
    "    if regressor_name == \"LinearRegression\":\n",
    "        fit_intercept = trial.suggest_categorical(\"fit_intercept\", [True, False])\n",
    "        regressor = LinearRegression(\n",
    "            fit_intercept=fit_intercept,\n",
    "            n_jobs=-1\n",
    "        )\n",
    "\n",
    "    elif regressor_name == \"RidgeRegression\":\n",
    "        alpha = trial.suggest_float(\"alpha\", 0.0001, 10.0, log=True)\n",
    "        fit_intercept = trial.suggest_categorical(\"fit_intercept\", [True, False])\n",
    "        regressor = Ridge(\n",
    "            alpha=alpha,\n",
    "            fit_intercept=fit_intercept\n",
    "        )\n",
    "\n",
    "    elif regressor_name == \"LassoRegression\":\n",
    "        alpha = trial.suggest_float(\"alpha\", 0.0001, 1.0, log=True)\n",
    "        fit_intercept = trial.suggest_categorical(\"fit_intercept\", [True, False])\n",
    "        regressor = Lasso(\n",
    "            alpha=alpha,\n",
    "            fit_intercept=fit_intercept\n",
    "        )\n",
    "\n",
    "    elif regressor_name == \"KNeighborsRegressor\":\n",
    "        n_neighbors = trial.suggest_int(\"n_neighbors\", 2, 30)\n",
    "        weights = trial.suggest_categorical(\"weights\", [\"uniform\", \"distance\"])\n",
    "        p = trial.suggest_int(\"p\", 1, 2)  \n",
    "        regressor = KNeighborsRegressor(\n",
    "            n_neighbors=n_neighbors,\n",
    "            weights=weights,\n",
    "            p=p,\n",
    "            n_jobs=-1\n",
    "        )\n",
    "\n",
    "    elif regressor_name == \"RandomForestRegressor\":\n",
    "        n_estimators = trial.suggest_int(\"n_estimators\", 50, 300)\n",
    "        max_depth = trial.suggest_int(\"max_depth\", 2, 20)\n",
    "        min_samples_split = trial.suggest_int(\"min_samples_split\", 2, 10)\n",
    "        max_features = trial.suggest_categorical(\"max_features\", [\"sqrt\", \"log2\", None])\n",
    "        regressor = RandomForestRegressor(\n",
    "            n_estimators=n_estimators,\n",
    "            max_depth=max_depth,\n",
    "            min_samples_split=min_samples_split,\n",
    "            max_features=max_features,\n",
    "            n_jobs=-1\n",
    "        )\n",
    "\n",
    "    elif regressor_name == \"AdaBoostRegressor\":\n",
    "        n_estimators = trial.suggest_int(\"n_estimators\", 50, 300)\n",
    "        learning_rate = trial.suggest_float(\"learning_rate\", 0.001, 2.0, log=True)\n",
    "        loss = trial.suggest_categorical(\"loss\", [\"linear\", \"square\", \"exponential\"])\n",
    "        regressor = AdaBoostRegressor(\n",
    "            n_estimators=n_estimators,\n",
    "            learning_rate=learning_rate,\n",
    "            loss=loss\n",
    "        )\n",
    "\n",
    "    elif regressor_name == \"GradientBoostingRegressor\":\n",
    "        n_estimators = trial.suggest_int(\"n_estimators\", 50, 300)\n",
    "        subsample = trial.suggest_float(\"subsample\", 0.5, 1.0)\n",
    "        learning_rate = trial.suggest_float(\"learning_rate\", 0.001, 2.0, log=True)\n",
    "        min_samples_split = trial.suggest_int(\"min_samples_split\", 2, 10)\n",
    "        max_depth = trial.suggest_int(\"max_depth\", 2, 10)\n",
    "        max_features = trial.suggest_categorical(\"max_features\", [\"sqrt\", \"log2\", None])\n",
    "        regressor = GradientBoostingRegressor(\n",
    "            n_estimators=n_estimators,\n",
    "            subsample=subsample,\n",
    "            learning_rate=learning_rate,\n",
    "            min_samples_split=min_samples_split,\n",
    "            max_depth=max_depth,\n",
    "            max_features=max_features\n",
    "        )\n",
    "\n",
    "    elif regressor_name == \"XGBRegressor\":\n",
    "        n_estimators = trial.suggest_int(\"n_estimators\", 50, 300)\n",
    "        learning_rate = trial.suggest_float(\"learning_rate\", 0.001, 0.3, log=True)\n",
    "        max_depth = trial.suggest_int(\"max_depth\", 2, 10)\n",
    "        subsample = trial.suggest_float(\"subsample\", 0.5, 1.0)\n",
    "        colsample_bytree = trial.suggest_float(\"colsample_bytree\", 0.5, 1.0)\n",
    "        regressor = XGBRegressor(\n",
    "            n_estimators=n_estimators,\n",
    "            learning_rate=learning_rate,\n",
    "            max_depth=max_depth,\n",
    "            subsample=subsample,\n",
    "            colsample_bytree=colsample_bytree,\n",
    "            n_jobs=-1\n",
    "        )\n",
    "\n",
    "    model_pipeline = Pipeline(steps=[\n",
    "        (\"model\", TransformedTargetRegressor(\n",
    "            regressor=regressor,\n",
    "            transformer=FunctionTransformer(func=np.sqrt,inverse_func= lambda x:x**2)\n",
    "        ))\n",
    "    ])\n",
    "\n",
    "    # model_pipeline = Pipeline(steps = [\n",
    "    #     (\"model\",regressor)\n",
    "    # ])\n",
    "\n",
    "    model_pipeline.fit(X_train_preprocessed, y_train)\n",
    "    \n",
    "    train_score = r2_score(y_train,model_pipeline.predict(X_train_preprocessed))\n",
    "    val_score = r2_score(y_val,model_pipeline.predict(X_val_preprocessed))\n",
    "    \n",
    "    overfit_penalty = abs(train_score-val_score)\n",
    "    score = val_score - overfit_penalty\n",
    "\n",
    "    return score"
   ]
  },
  {
   "cell_type": "code",
   "execution_count": 231,
   "id": "23afba02-42f7-4da9-b058-8d86037ae431",
   "metadata": {},
   "outputs": [
    {
     "name": "stderr",
     "output_type": "stream",
     "text": [
      "[I 2025-08-11 00:15:31,751] A new study created in memory with name: no-name-04f2fb55-ceb3-45ac-a6c9-07b3110a85a8\n",
      "[I 2025-08-11 00:15:41,353] Trial 0 finished with value: 0.6481692470752967 and parameters: {'regressor': 'KNeighborsRegressor', 'n_neighbors': 5, 'weights': 'uniform', 'p': 1}. Best is trial 0 with value: 0.6481692470752967.\n",
      "[I 2025-08-11 00:15:41,436] Trial 1 finished with value: 0.5704848321419669 and parameters: {'regressor': 'RidgeRegression', 'alpha': 0.01601895527372367, 'fit_intercept': False}. Best is trial 0 with value: 0.6481692470752967.\n",
      "[I 2025-08-11 00:15:42,193] Trial 2 finished with value: 0.7474000887307505 and parameters: {'regressor': 'XGBRegressor', 'n_estimators': 98, 'learning_rate': 0.16546347316159096, 'max_depth': 2, 'subsample': 0.588159608808386, 'colsample_bytree': 0.707971368037152}. Best is trial 2 with value: 0.7474000887307505.\n",
      "[I 2025-08-11 00:15:56,777] Trial 3 finished with value: 0.6790546826007005 and parameters: {'regressor': 'AdaBoostRegressor', 'n_estimators': 59, 'learning_rate': 0.10945942799128684, 'loss': 'exponential'}. Best is trial 2 with value: 0.7474000887307505.\n",
      "[I 2025-08-11 00:16:09,312] Trial 4 finished with value: 0.4756329409000899 and parameters: {'regressor': 'KNeighborsRegressor', 'n_neighbors': 13, 'weights': 'distance', 'p': 1}. Best is trial 2 with value: 0.7474000887307505.\n",
      "[I 2025-08-11 00:16:37,541] Trial 5 finished with value: 0.6712874665827265 and parameters: {'regressor': 'AdaBoostRegressor', 'n_estimators': 140, 'learning_rate': 0.5619008225928264, 'loss': 'exponential'}. Best is trial 2 with value: 0.7474000887307505.\n",
      "[I 2025-08-11 00:16:39,446] Trial 6 finished with value: 0.07975793073727078 and parameters: {'regressor': 'XGBRegressor', 'n_estimators': 92, 'learning_rate': 0.0011068156477279244, 'max_depth': 8, 'subsample': 0.982512947782511, 'colsample_bytree': 0.6949622865571717}. Best is trial 2 with value: 0.7474000887307505.\n",
      "[I 2025-08-11 00:17:43,018] Trial 7 finished with value: 0.6900654187091984 and parameters: {'regressor': 'AdaBoostRegressor', 'n_estimators': 266, 'learning_rate': 0.06169810660956916, 'loss': 'linear'}. Best is trial 2 with value: 0.7474000887307505.\n",
      "[I 2025-08-11 00:17:46,900] Trial 8 finished with value: 0.7297081774591695 and parameters: {'regressor': 'RandomForestRegressor', 'n_estimators': 112, 'max_depth': 13, 'min_samples_split': 9, 'max_features': 'sqrt'}. Best is trial 2 with value: 0.7474000887307505.\n",
      "[I 2025-08-11 00:17:46,990] Trial 9 finished with value: 0.5704840916962024 and parameters: {'regressor': 'LinearRegression', 'fit_intercept': False}. Best is trial 2 with value: 0.7474000887307505.\n",
      "[I 2025-08-11 00:18:02,417] Trial 10 finished with value: -176.41797570895835 and parameters: {'regressor': 'GradientBoostingRegressor', 'n_estimators': 211, 'subsample': 0.5116656303609713, 'learning_rate': 1.4610127513580955, 'min_samples_split': 2, 'max_depth': 2, 'max_features': None}. Best is trial 2 with value: 0.7474000887307505.\n",
      "[I 2025-08-11 00:18:07,782] Trial 11 finished with value: 0.7223064084465647 and parameters: {'regressor': 'RandomForestRegressor', 'n_estimators': 143, 'max_depth': 17, 'min_samples_split': 10, 'max_features': 'sqrt'}. Best is trial 2 with value: 0.7474000887307505.\n",
      "[I 2025-08-11 00:18:08,608] Trial 12 finished with value: 0.31474346475773485 and parameters: {'regressor': 'XGBRegressor', 'n_estimators': 98, 'learning_rate': 0.0060681109466872475, 'max_depth': 2, 'subsample': 0.560723995368165, 'colsample_bytree': 0.9566473931789752}. Best is trial 2 with value: 0.7474000887307505.\n",
      "[I 2025-08-11 00:18:09,216] Trial 13 finished with value: 0.6629756417409165 and parameters: {'regressor': 'LassoRegression', 'alpha': 0.00010420557725104992, 'fit_intercept': True}. Best is trial 2 with value: 0.7474000887307505.\n",
      "[I 2025-08-11 00:18:14,734] Trial 14 finished with value: 0.7345355745969129 and parameters: {'regressor': 'RandomForestRegressor', 'n_estimators': 183, 'max_depth': 13, 'min_samples_split': 9, 'max_features': 'sqrt'}. Best is trial 2 with value: 0.7474000887307505.\n",
      "[I 2025-08-11 00:18:19,650] Trial 15 finished with value: 0.7307750152749071 and parameters: {'regressor': 'RandomForestRegressor', 'n_estimators': 189, 'max_depth': 10, 'min_samples_split': 6, 'max_features': 'log2'}. Best is trial 2 with value: 0.7474000887307505.\n",
      "[I 2025-08-11 00:18:22,122] Trial 16 finished with value: 0.7573178636002644 and parameters: {'regressor': 'XGBRegressor', 'n_estimators': 223, 'learning_rate': 0.021653125046774316, 'max_depth': 5, 'subsample': 0.7172805423033755, 'colsample_bytree': 0.5052177936993854}. Best is trial 16 with value: 0.7573178636002644.\n",
      "[I 2025-08-11 00:18:24,391] Trial 17 finished with value: 0.7438845775491372 and parameters: {'regressor': 'XGBRegressor', 'n_estimators': 243, 'learning_rate': 0.017857544296330755, 'max_depth': 4, 'subsample': 0.6965461945855752, 'colsample_bytree': 0.5024006134755413}. Best is trial 16 with value: 0.7573178636002644.\n",
      "[I 2025-08-11 00:18:26,706] Trial 18 finished with value: 0.7557733331279759 and parameters: {'regressor': 'XGBRegressor', 'n_estimators': 228, 'learning_rate': 0.03962980183581641, 'max_depth': 5, 'subsample': 0.7243606286115399, 'colsample_bytree': 0.5080038057754005}. Best is trial 16 with value: 0.7573178636002644.\n",
      "[I 2025-08-11 00:18:29,690] Trial 19 finished with value: 0.7584895291365492 and parameters: {'regressor': 'XGBRegressor', 'n_estimators': 299, 'learning_rate': 0.01934071814784973, 'max_depth': 5, 'subsample': 0.79572505072777, 'colsample_bytree': 0.5135843973562697}. Best is trial 19 with value: 0.7584895291365492.\n",
      "[I 2025-08-11 00:18:29,829] Trial 20 finished with value: -0.017564858830795282 and parameters: {'regressor': 'LassoRegression', 'alpha': 0.8430305936774394, 'fit_intercept': True}. Best is trial 19 with value: 0.7584895291365492.\n",
      "[I 2025-08-11 00:18:32,691] Trial 21 finished with value: 0.7581620599373572 and parameters: {'regressor': 'XGBRegressor', 'n_estimators': 292, 'learning_rate': 0.02095232115875755, 'max_depth': 5, 'subsample': 0.7956090530714228, 'colsample_bytree': 0.5032538383920169}. Best is trial 19 with value: 0.7584895291365492.\n",
      "[I 2025-08-11 00:18:35,667] Trial 22 finished with value: 0.7273384324800807 and parameters: {'regressor': 'XGBRegressor', 'n_estimators': 295, 'learning_rate': 0.009829280043058402, 'max_depth': 5, 'subsample': 0.8485544864307674, 'colsample_bytree': 0.5011843021532454}. Best is trial 19 with value: 0.7584895291365492.\n",
      "[I 2025-08-11 00:18:38,156] Trial 23 finished with value: 0.7582890790629091 and parameters: {'regressor': 'XGBRegressor', 'n_estimators': 282, 'learning_rate': 0.019914485670274325, 'max_depth': 4, 'subsample': 0.8163845253102244, 'colsample_bytree': 0.60221392024372}. Best is trial 19 with value: 0.7584895291365492.\n",
      "[I 2025-08-11 00:18:38,280] Trial 24 finished with value: 0.6634037904815413 and parameters: {'regressor': 'RidgeRegression', 'alpha': 4.488389135219864, 'fit_intercept': True}. Best is trial 19 with value: 0.7584895291365492.\n",
      "[I 2025-08-11 00:18:38,377] Trial 25 finished with value: 0.5704840916962024 and parameters: {'regressor': 'LinearRegression', 'fit_intercept': False}. Best is trial 19 with value: 0.7584895291365492.\n",
      "[I 2025-08-11 00:19:36,858] Trial 26 finished with value: 0.5264683841145407 and parameters: {'regressor': 'GradientBoostingRegressor', 'n_estimators': 299, 'subsample': 0.8467557363249597, 'learning_rate': 0.003141923318146948, 'min_samples_split': 2, 'max_depth': 4, 'max_features': None}. Best is trial 19 with value: 0.7584895291365492.\n",
      "[I 2025-08-11 00:19:39,898] Trial 27 finished with value: 0.7471188187238477 and parameters: {'regressor': 'XGBRegressor', 'n_estimators': 268, 'learning_rate': 0.028481155763412168, 'max_depth': 6, 'subsample': 0.8296987758874452, 'colsample_bytree': 0.6195327599427367}. Best is trial 19 with value: 0.7584895291365492.\n",
      "[I 2025-08-11 00:19:42,422] Trial 28 finished with value: 0.7039800784284067 and parameters: {'regressor': 'XGBRegressor', 'n_estimators': 275, 'learning_rate': 0.008487902629984096, 'max_depth': 4, 'subsample': 0.8038513814243871, 'colsample_bytree': 0.6001815323984472}. Best is trial 19 with value: 0.7584895291365492.\n",
      "[I 2025-08-11 00:19:53,249] Trial 29 finished with value: 0.7067364864034822 and parameters: {'regressor': 'KNeighborsRegressor', 'n_neighbors': 29, 'weights': 'uniform', 'p': 2}. Best is trial 19 with value: 0.7584895291365492.\n",
      "[I 2025-08-11 00:19:56,755] Trial 30 finished with value: 0.7468354095335205 and parameters: {'regressor': 'XGBRegressor', 'n_estimators': 256, 'learning_rate': 0.013168845453933124, 'max_depth': 6, 'subsample': 0.9183392707827058, 'colsample_bytree': 0.603490043329441}. Best is trial 19 with value: 0.7584895291365492.\n",
      "[I 2025-08-11 00:19:59,686] Trial 31 finished with value: 0.7582097716323986 and parameters: {'regressor': 'XGBRegressor', 'n_estimators': 298, 'learning_rate': 0.022743438969407104, 'max_depth': 5, 'subsample': 0.7635029210918168, 'colsample_bytree': 0.5749431489756636}. Best is trial 19 with value: 0.7584895291365492.\n",
      "[I 2025-08-11 00:20:01,983] Trial 32 finished with value: 0.7613852030011075 and parameters: {'regressor': 'XGBRegressor', 'n_estimators': 300, 'learning_rate': 0.04176121050722998, 'max_depth': 3, 'subsample': 0.7699438013362597, 'colsample_bytree': 0.5843559992882098}. Best is trial 32 with value: 0.7613852030011075.\n",
      "[I 2025-08-11 00:20:02,100] Trial 33 finished with value: 0.5704841034351615 and parameters: {'regressor': 'RidgeRegression', 'alpha': 0.0002536318775590396, 'fit_intercept': False}. Best is trial 32 with value: 0.7613852030011075.\n",
      "[I 2025-08-11 00:20:04,086] Trial 34 finished with value: 0.7614479404658132 and parameters: {'regressor': 'XGBRegressor', 'n_estimators': 275, 'learning_rate': 0.04647034437192104, 'max_depth': 3, 'subsample': 0.7710490282964781, 'colsample_bytree': 0.6029893708797427}. Best is trial 34 with value: 0.7614479404658132.\n",
      "[I 2025-08-11 00:20:06,120] Trial 35 finished with value: 0.7628263034757348 and parameters: {'regressor': 'XGBRegressor', 'n_estimators': 275, 'learning_rate': 0.04936293431284904, 'max_depth': 3, 'subsample': 0.8949939049609653, 'colsample_bytree': 0.6570082846765897}. Best is trial 35 with value: 0.7628263034757348.\n",
      "[I 2025-08-11 00:20:07,998] Trial 36 finished with value: 0.762076151777256 and parameters: {'regressor': 'XGBRegressor', 'n_estimators': 252, 'learning_rate': 0.055906037200353094, 'max_depth': 3, 'subsample': 0.9109576376646238, 'colsample_bytree': 0.6741826789915224}. Best is trial 35 with value: 0.7628263034757348.\n",
      "[I 2025-08-11 00:20:21,275] Trial 37 finished with value: 0.45121258483336146 and parameters: {'regressor': 'KNeighborsRegressor', 'n_neighbors': 29, 'weights': 'distance', 'p': 2}. Best is trial 35 with value: 0.7628263034757348.\n",
      "[I 2025-08-11 00:21:16,579] Trial 38 finished with value: 0.6793942611462602 and parameters: {'regressor': 'AdaBoostRegressor', 'n_estimators': 249, 'learning_rate': 0.08716274279203279, 'loss': 'square'}. Best is trial 35 with value: 0.7628263034757348.\n",
      "[I 2025-08-11 00:21:28,476] Trial 39 finished with value: 0.7691740543168458 and parameters: {'regressor': 'GradientBoostingRegressor', 'n_estimators': 239, 'subsample': 0.915841760964768, 'learning_rate': 0.3368862497481844, 'min_samples_split': 5, 'max_depth': 3, 'max_features': 'log2'}. Best is trial 39 with value: 0.7691740543168458.\n",
      "[I 2025-08-11 00:21:38,672] Trial 40 finished with value: 0.766238155861186 and parameters: {'regressor': 'GradientBoostingRegressor', 'n_estimators': 201, 'subsample': 0.9152265003977618, 'learning_rate': 0.2704343164770703, 'min_samples_split': 5, 'max_depth': 3, 'max_features': 'log2'}. Best is trial 39 with value: 0.7691740543168458.\n",
      "[I 2025-08-11 00:21:49,339] Trial 41 finished with value: 0.7777804876796521 and parameters: {'regressor': 'GradientBoostingRegressor', 'n_estimators': 208, 'subsample': 0.9135733630923896, 'learning_rate': 0.25078233360812263, 'min_samples_split': 5, 'max_depth': 3, 'max_features': 'log2'}. Best is trial 41 with value: 0.7777804876796521.\n",
      "[I 2025-08-11 00:21:58,906] Trial 42 finished with value: 0.7551633330465619 and parameters: {'regressor': 'GradientBoostingRegressor', 'n_estimators': 200, 'subsample': 0.9202412687334216, 'learning_rate': 0.3367433794428594, 'min_samples_split': 5, 'max_depth': 3, 'max_features': 'log2'}. Best is trial 41 with value: 0.7777804876796521.\n",
      "[I 2025-08-11 00:22:11,120] Trial 43 finished with value: 0.7596872397138967 and parameters: {'regressor': 'GradientBoostingRegressor', 'n_estimators': 233, 'subsample': 0.906318408805495, 'learning_rate': 0.26350728773720533, 'min_samples_split': 4, 'max_depth': 3, 'max_features': 'log2'}. Best is trial 41 with value: 0.7777804876796521.\n",
      "[I 2025-08-11 00:22:19,495] Trial 44 finished with value: 0.7362883670868108 and parameters: {'regressor': 'GradientBoostingRegressor', 'n_estimators': 165, 'subsample': 0.9717344059662197, 'learning_rate': 0.815014934881594, 'min_samples_split': 4, 'max_depth': 3, 'max_features': 'log2'}. Best is trial 41 with value: 0.7777804876796521.\n",
      "[I 2025-08-11 00:22:27,417] Trial 45 finished with value: 0.7628865253952403 and parameters: {'regressor': 'GradientBoostingRegressor', 'n_estimators': 210, 'subsample': 0.8863374089628631, 'learning_rate': 0.19853264572930104, 'min_samples_split': 7, 'max_depth': 2, 'max_features': 'log2'}. Best is trial 41 with value: 0.7777804876796521.\n",
      "[I 2025-08-11 00:22:35,340] Trial 46 finished with value: 0.764092824054553 and parameters: {'regressor': 'GradientBoostingRegressor', 'n_estimators': 211, 'subsample': 0.8821222311418614, 'learning_rate': 0.1874519412643679, 'min_samples_split': 7, 'max_depth': 2, 'max_features': 'log2'}. Best is trial 41 with value: 0.7777804876796521.\n",
      "[I 2025-08-11 00:22:43,317] Trial 47 finished with value: 0.761045760211233 and parameters: {'regressor': 'GradientBoostingRegressor', 'n_estimators': 211, 'subsample': 0.95364894672806, 'learning_rate': 0.1841146177689879, 'min_samples_split': 7, 'max_depth': 2, 'max_features': 'log2'}. Best is trial 41 with value: 0.7777804876796521.\n",
      "[I 2025-08-11 00:22:49,606] Trial 48 finished with value: 0.7531582516815831 and parameters: {'regressor': 'GradientBoostingRegressor', 'n_estimators': 169, 'subsample': 0.8763707911578514, 'learning_rate': 0.14558754477900046, 'min_samples_split': 7, 'max_depth': 2, 'max_features': 'log2'}. Best is trial 41 with value: 0.7777804876796521.\n",
      "[I 2025-08-11 00:22:57,589] Trial 49 finished with value: 0.7732158264117811 and parameters: {'regressor': 'GradientBoostingRegressor', 'n_estimators': 209, 'subsample': 0.9438327524804101, 'learning_rate': 0.46811181769910587, 'min_samples_split': 6, 'max_depth': 2, 'max_features': 'log2'}. Best is trial 41 with value: 0.7777804876796521.\n",
      "[I 2025-08-11 00:23:03,424] Trial 50 finished with value: 0.7537554538242649 and parameters: {'regressor': 'GradientBoostingRegressor', 'n_estimators': 154, 'subsample': 0.9442497424286845, 'learning_rate': 0.531156836926757, 'min_samples_split': 5, 'max_depth': 2, 'max_features': 'log2'}. Best is trial 41 with value: 0.7777804876796521.\n",
      "[I 2025-08-11 00:23:11,153] Trial 51 finished with value: 0.7668859468679531 and parameters: {'regressor': 'GradientBoostingRegressor', 'n_estimators': 205, 'subsample': 0.8752057221021401, 'learning_rate': 0.31597709539778795, 'min_samples_split': 6, 'max_depth': 2, 'max_features': 'log2'}. Best is trial 41 with value: 0.7777804876796521.\n",
      "[I 2025-08-11 00:23:18,811] Trial 52 finished with value: 0.7763578212241039 and parameters: {'regressor': 'GradientBoostingRegressor', 'n_estimators': 196, 'subsample': 0.9973300347127285, 'learning_rate': 0.4414487180998214, 'min_samples_split': 6, 'max_depth': 2, 'max_features': 'log2'}. Best is trial 41 with value: 0.7777804876796521.\n",
      "[I 2025-08-11 00:23:25,488] Trial 53 finished with value: 0.7671000624941923 and parameters: {'regressor': 'GradientBoostingRegressor', 'n_estimators': 179, 'subsample': 0.9809384526134765, 'learning_rate': 0.5105354823757122, 'min_samples_split': 5, 'max_depth': 2, 'max_features': 'log2'}. Best is trial 41 with value: 0.7777804876796521.\n",
      "[I 2025-08-11 00:23:32,423] Trial 54 finished with value: 0.7376538472409567 and parameters: {'regressor': 'GradientBoostingRegressor', 'n_estimators': 185, 'subsample': 0.9975413045636559, 'learning_rate': 0.936810342416722, 'min_samples_split': 6, 'max_depth': 2, 'max_features': 'log2'}. Best is trial 41 with value: 0.7777804876796521.\n",
      "[I 2025-08-11 00:23:39,587] Trial 55 finished with value: 0.768883898667976 and parameters: {'regressor': 'GradientBoostingRegressor', 'n_estimators': 197, 'subsample': 0.9600852605156137, 'learning_rate': 0.3774916344925113, 'min_samples_split': 6, 'max_depth': 2, 'max_features': 'log2'}. Best is trial 41 with value: 0.7777804876796521.\n",
      "[I 2025-08-11 00:23:46,248] Trial 56 finished with value: 0.777860694626034 and parameters: {'regressor': 'GradientBoostingRegressor', 'n_estimators': 178, 'subsample': 0.9669244022688893, 'learning_rate': 0.5085355081675136, 'min_samples_split': 5, 'max_depth': 2, 'max_features': 'log2'}. Best is trial 56 with value: 0.777860694626034.\n",
      "[I 2025-08-11 00:23:46,540] Trial 57 finished with value: 0.6117031079698239 and parameters: {'regressor': 'LassoRegression', 'alpha': 0.008732555553908727, 'fit_intercept': True}. Best is trial 56 with value: 0.777860694626034.\n",
      "[I 2025-08-11 00:23:46,636] Trial 58 finished with value: 0.5704840916962024 and parameters: {'regressor': 'LinearRegression', 'fit_intercept': False}. Best is trial 56 with value: 0.777860694626034.\n",
      "[I 2025-08-11 00:23:53,940] Trial 59 finished with value: 0.5554213404609214 and parameters: {'regressor': 'GradientBoostingRegressor', 'n_estimators': 194, 'subsample': 0.9529815130905263, 'learning_rate': 1.9091070591717494, 'min_samples_split': 4, 'max_depth': 2, 'max_features': 'log2'}. Best is trial 56 with value: 0.777860694626034.\n",
      "[I 2025-08-11 00:24:09,364] Trial 60 finished with value: 0.3936744057347351 and parameters: {'regressor': 'GradientBoostingRegressor', 'n_estimators': 129, 'subsample': 0.9968222525779696, 'learning_rate': 0.9214768279212556, 'min_samples_split': 6, 'max_depth': 8, 'max_features': 'log2'}. Best is trial 56 with value: 0.777860694626034.\n",
      "[I 2025-08-11 00:24:16,283] Trial 61 finished with value: 0.7517964767531503 and parameters: {'regressor': 'GradientBoostingRegressor', 'n_estimators': 177, 'subsample': 0.9614422634722046, 'learning_rate': 0.533129166243898, 'min_samples_split': 5, 'max_depth': 2, 'max_features': 'log2'}. Best is trial 56 with value: 0.777860694626034.\n",
      "[I 2025-08-11 00:24:24,947] Trial 62 finished with value: 0.7748775215769725 and parameters: {'regressor': 'GradientBoostingRegressor', 'n_estimators': 223, 'subsample': 0.9414301172027768, 'learning_rate': 0.4080586719222481, 'min_samples_split': 5, 'max_depth': 2, 'max_features': 'log2'}. Best is trial 56 with value: 0.777860694626034.\n",
      "[I 2025-08-11 00:24:36,025] Trial 63 finished with value: 0.7058689509929776 and parameters: {'regressor': 'GradientBoostingRegressor', 'n_estimators': 227, 'subsample': 0.9391096360048665, 'learning_rate': 0.6898628323087532, 'min_samples_split': 5, 'max_depth': 3, 'max_features': 'log2'}. Best is trial 56 with value: 0.777860694626034.\n",
      "[I 2025-08-11 00:25:05,238] Trial 64 finished with value: 0.688099205369139 and parameters: {'regressor': 'AdaBoostRegressor', 'n_estimators': 219, 'learning_rate': 0.3640277739987431, 'loss': 'linear'}. Best is trial 56 with value: 0.777860694626034.\n",
      "[I 2025-08-11 00:25:08,103] Trial 65 finished with value: 0.6918472604961159 and parameters: {'regressor': 'RandomForestRegressor', 'n_estimators': 53, 'max_depth': 20, 'min_samples_split': 6, 'max_features': 'log2'}. Best is trial 56 with value: 0.777860694626034.\n",
      "[I 2025-08-11 00:25:17,579] Trial 66 finished with value: 0.7549900185708847 and parameters: {'regressor': 'GradientBoostingRegressor', 'n_estimators': 233, 'subsample': 0.9369033577226096, 'learning_rate': 1.2223300738309402, 'min_samples_split': 4, 'max_depth': 2, 'max_features': 'log2'}. Best is trial 56 with value: 0.777860694626034.\n",
      "[I 2025-08-11 00:25:17,672] Trial 67 finished with value: 0.6634521216839873 and parameters: {'regressor': 'RidgeRegression', 'alpha': 0.25452803314605765, 'fit_intercept': True}. Best is trial 56 with value: 0.777860694626034.\n",
      "[I 2025-08-11 00:25:27,716] Trial 68 finished with value: 0.737247307627316 and parameters: {'regressor': 'GradientBoostingRegressor', 'n_estimators': 219, 'subsample': 0.6511071714672532, 'learning_rate': 0.44213602864837415, 'min_samples_split': 6, 'max_depth': 3, 'max_features': 'log2'}. Best is trial 56 with value: 0.777860694626034.\n",
      "[I 2025-08-11 00:25:49,378] Trial 69 finished with value: 0.7086854276790706 and parameters: {'regressor': 'GradientBoostingRegressor', 'n_estimators': 192, 'subsample': 0.9704811515999585, 'learning_rate': 0.6623671175001179, 'min_samples_split': 5, 'max_depth': 2, 'max_features': None}. Best is trial 56 with value: 0.777860694626034.\n",
      "[I 2025-08-11 00:25:49,795] Trial 70 finished with value: 0.6456743629436299 and parameters: {'regressor': 'LassoRegression', 'alpha': 0.002288073650174273, 'fit_intercept': True}. Best is trial 56 with value: 0.777860694626034.\n",
      "[I 2025-08-11 00:25:55,885] Trial 71 finished with value: 0.7567678812502469 and parameters: {'regressor': 'GradientBoostingRegressor', 'n_estimators': 165, 'subsample': 0.9878630950665535, 'learning_rate': 0.40291701018246995, 'min_samples_split': 5, 'max_depth': 2, 'max_features': 'log2'}. Best is trial 56 with value: 0.777860694626034.\n",
      "[I 2025-08-11 00:26:02,926] Trial 72 finished with value: 0.7555126512552544 and parameters: {'regressor': 'GradientBoostingRegressor', 'n_estimators': 180, 'subsample': 0.9744369811965089, 'learning_rate': 0.13698723854738698, 'min_samples_split': 5, 'max_depth': 2, 'max_features': 'log2'}. Best is trial 56 with value: 0.777860694626034.\n",
      "[I 2025-08-11 00:26:08,857] Trial 73 finished with value: 0.4422984771742601 and parameters: {'regressor': 'KNeighborsRegressor', 'n_neighbors': 3, 'weights': 'distance', 'p': 1}. Best is trial 56 with value: 0.777860694626034.\n",
      "[I 2025-08-11 00:26:16,053] Trial 74 finished with value: 0.7684279865752451 and parameters: {'regressor': 'GradientBoostingRegressor', 'n_estimators': 196, 'subsample': 0.937142892023761, 'learning_rate': 0.2576984349100123, 'min_samples_split': 6, 'max_depth': 2, 'max_features': 'log2'}. Best is trial 56 with value: 0.777860694626034.\n",
      "[I 2025-08-11 00:26:16,159] Trial 75 finished with value: 0.5704840916962024 and parameters: {'regressor': 'LinearRegression', 'fit_intercept': False}. Best is trial 56 with value: 0.777860694626034.\n",
      "[I 2025-08-11 00:26:31,237] Trial 76 finished with value: 0.7550449250284983 and parameters: {'regressor': 'GradientBoostingRegressor', 'n_estimators': 243, 'subsample': 0.9318733268407279, 'learning_rate': 0.23281098500996172, 'min_samples_split': 6, 'max_depth': 4, 'max_features': 'sqrt'}. Best is trial 56 with value: 0.777860694626034.\n",
      "[I 2025-08-11 00:26:41,668] Trial 77 finished with value: 0.7696538209642729 and parameters: {'regressor': 'GradientBoostingRegressor', 'n_estimators': 198, 'subsample': 0.9548862367808388, 'learning_rate': 0.08342424807358091, 'min_samples_split': 6, 'max_depth': 3, 'max_features': 'log2'}. Best is trial 56 with value: 0.777860694626034.\n",
      "[I 2025-08-11 00:26:48,807] Trial 78 finished with value: 0.7249899874251586 and parameters: {'regressor': 'RandomForestRegressor', 'n_estimators': 219, 'max_depth': 14, 'min_samples_split': 7, 'max_features': 'log2'}. Best is trial 56 with value: 0.777860694626034.\n",
      "[I 2025-08-11 00:27:04,047] Trial 79 finished with value: 0.7659543388611789 and parameters: {'regressor': 'GradientBoostingRegressor', 'n_estimators': 236, 'subsample': 0.9599880033551991, 'learning_rate': 0.0825149022704518, 'min_samples_split': 6, 'max_depth': 4, 'max_features': 'sqrt'}. Best is trial 56 with value: 0.777860694626034.\n",
      "[I 2025-08-11 00:27:31,436] Trial 80 finished with value: 0.66970032360326 and parameters: {'regressor': 'AdaBoostRegressor', 'n_estimators': 157, 'learning_rate': 1.2645808181906928, 'loss': 'square'}. Best is trial 56 with value: 0.777860694626034.\n",
      "[I 2025-08-11 00:27:41,720] Trial 81 finished with value: 0.7766738814014874 and parameters: {'regressor': 'GradientBoostingRegressor', 'n_estimators': 194, 'subsample': 0.9384564068582286, 'learning_rate': 0.12017248737045289, 'min_samples_split': 6, 'max_depth': 3, 'max_features': 'log2'}. Best is trial 56 with value: 0.777860694626034.\n",
      "[I 2025-08-11 00:27:51,402] Trial 82 finished with value: 0.7662566898520544 and parameters: {'regressor': 'GradientBoostingRegressor', 'n_estimators': 188, 'subsample': 0.9551495601496879, 'learning_rate': 0.08692097792238823, 'min_samples_split': 6, 'max_depth': 3, 'max_features': 'log2'}. Best is trial 56 with value: 0.777860694626034.\n",
      "[I 2025-08-11 00:28:23,735] Trial 83 finished with value: 0.7579190773869791 and parameters: {'regressor': 'GradientBoostingRegressor', 'n_estimators': 205, 'subsample': 0.9257126535632034, 'learning_rate': 0.12407201191340173, 'min_samples_split': 5, 'max_depth': 3, 'max_features': None}. Best is trial 56 with value: 0.777860694626034.\n",
      "[I 2025-08-11 00:28:34,564] Trial 84 finished with value: 0.7706739453292654 and parameters: {'regressor': 'GradientBoostingRegressor', 'n_estimators': 213, 'subsample': 0.9985617551334115, 'learning_rate': 0.40579552858145884, 'min_samples_split': 8, 'max_depth': 3, 'max_features': 'log2'}. Best is trial 56 with value: 0.777860694626034.\n",
      "[I 2025-08-11 00:28:34,663] Trial 85 finished with value: 0.6634534252233429 and parameters: {'regressor': 'RidgeRegression', 'alpha': 0.12113531395962343, 'fit_intercept': True}. Best is trial 56 with value: 0.777860694626034.\n",
      "[I 2025-08-11 00:28:49,548] Trial 86 finished with value: 0.7080826551644087 and parameters: {'regressor': 'GradientBoostingRegressor', 'n_estimators': 223, 'subsample': 0.9881775765734705, 'learning_rate': 0.62768055615059, 'min_samples_split': 8, 'max_depth': 4, 'max_features': 'log2'}. Best is trial 56 with value: 0.777860694626034.\n",
      "[I 2025-08-11 00:29:00,428] Trial 87 finished with value: 0.7781940982197716 and parameters: {'regressor': 'GradientBoostingRegressor', 'n_estimators': 214, 'subsample': 0.8986280890139132, 'learning_rate': 0.10683729244415995, 'min_samples_split': 10, 'max_depth': 3, 'max_features': 'log2'}. Best is trial 87 with value: 0.7781940982197716.\n",
      "[I 2025-08-11 00:29:12,034] Trial 88 finished with value: 0.7134569085504687 and parameters: {'regressor': 'KNeighborsRegressor', 'n_neighbors': 21, 'weights': 'uniform', 'p': 2}. Best is trial 87 with value: 0.7781940982197716.\n",
      "[I 2025-08-11 00:29:22,274] Trial 89 finished with value: 0.7728030079867909 and parameters: {'regressor': 'GradientBoostingRegressor', 'n_estimators': 211, 'subsample': 0.8551151636846444, 'learning_rate': 0.10233594509153801, 'min_samples_split': 10, 'max_depth': 3, 'max_features': 'log2'}. Best is trial 87 with value: 0.7781940982197716.\n",
      "[I 2025-08-11 00:29:27,275] Trial 90 finished with value: 0.7677471702128579 and parameters: {'regressor': 'GradientBoostingRegressor', 'n_estimators': 74, 'subsample': 0.8977017698659338, 'learning_rate': 0.1053887512358176, 'min_samples_split': 10, 'max_depth': 4, 'max_features': 'log2'}. Best is trial 87 with value: 0.7781940982197716.\n",
      "[I 2025-08-11 00:29:39,543] Trial 91 finished with value: 0.7690494797981842 and parameters: {'regressor': 'GradientBoostingRegressor', 'n_estimators': 212, 'subsample': 0.848432076516896, 'learning_rate': 0.07485178152910289, 'min_samples_split': 10, 'max_depth': 3, 'max_features': 'log2'}. Best is trial 87 with value: 0.7781940982197716.\n",
      "[I 2025-08-11 00:29:50,271] Trial 92 finished with value: 0.7645188472269753 and parameters: {'regressor': 'GradientBoostingRegressor', 'n_estimators': 206, 'subsample': 0.9773717553318293, 'learning_rate': 0.06362438536561114, 'min_samples_split': 9, 'max_depth': 3, 'max_features': 'log2'}. Best is trial 87 with value: 0.7781940982197716.\n",
      "[I 2025-08-11 00:30:01,058] Trial 93 finished with value: 0.7730161654329979 and parameters: {'regressor': 'GradientBoostingRegressor', 'n_estimators': 214, 'subsample': 0.8654166298193239, 'learning_rate': 0.098416718896403, 'min_samples_split': 10, 'max_depth': 3, 'max_features': 'log2'}. Best is trial 87 with value: 0.7781940982197716.\n",
      "[I 2025-08-11 00:30:12,192] Trial 94 finished with value: 0.76672813097576 and parameters: {'regressor': 'GradientBoostingRegressor', 'n_estimators': 214, 'subsample': 0.8598699800074661, 'learning_rate': 0.1607101168757086, 'min_samples_split': 10, 'max_depth': 3, 'max_features': 'log2'}. Best is trial 87 with value: 0.7781940982197716.\n",
      "[I 2025-08-11 00:30:26,593] Trial 95 finished with value: 0.7651109141914514 and parameters: {'regressor': 'GradientBoostingRegressor', 'n_estimators': 228, 'subsample': 0.8270216542265437, 'learning_rate': 0.03013493380251941, 'min_samples_split': 9, 'max_depth': 4, 'max_features': 'sqrt'}. Best is trial 87 with value: 0.7781940982197716.\n",
      "[I 2025-08-11 00:30:28,327] Trial 96 finished with value: 0.5669883064987249 and parameters: {'regressor': 'LassoRegression', 'alpha': 0.0010147152487453904, 'fit_intercept': False}. Best is trial 87 with value: 0.7781940982197716.\n",
      "[I 2025-08-11 00:30:28,468] Trial 97 finished with value: 0.5704840916962024 and parameters: {'regressor': 'LinearRegression', 'fit_intercept': False}. Best is trial 87 with value: 0.7781940982197716.\n",
      "[I 2025-08-11 00:30:42,527] Trial 98 finished with value: 0.727887115747684 and parameters: {'regressor': 'GradientBoostingRegressor', 'n_estimators': 186, 'subsample': 0.5075492802838275, 'learning_rate': 0.11500375038046712, 'min_samples_split': 10, 'max_depth': 7, 'max_features': 'log2'}. Best is trial 87 with value: 0.7781940982197716.\n",
      "[I 2025-08-11 00:31:15,881] Trial 99 finished with value: 0.7431164546953466 and parameters: {'regressor': 'GradientBoostingRegressor', 'n_estimators': 216, 'subsample': 0.893208267137795, 'learning_rate': 0.21572597444910915, 'min_samples_split': 9, 'max_depth': 3, 'max_features': None}. Best is trial 87 with value: 0.7781940982197716.\n"
     ]
    }
   ],
   "source": [
    "study =optuna.create_study(direction = 'maximize')\n",
    "study.optimize(objective,n_trials = 100)"
   ]
  },
  {
   "cell_type": "code",
   "execution_count": 233,
   "id": "45b9aa9d-a23a-4b2b-a74e-ee96347824fe",
   "metadata": {},
   "outputs": [
    {
     "name": "stdout",
     "output_type": "stream",
     "text": [
      "Best params are : {'regressor': 'GradientBoostingRegressor', 'n_estimators': 214, 'subsample': 0.8986280890139132, 'learning_rate': 0.10683729244415995, 'min_samples_split': 10, 'max_depth': 3, 'max_features': 'log2'} and the best value obtained is 0.7781940982197716\n"
     ]
    }
   ],
   "source": [
    "print(f'Best params are : {study.best_params} and the best value obtained is {study.best_value}')"
   ]
  },
  {
   "cell_type": "code",
   "execution_count": 235,
   "id": "4ffaba69-6e0f-429f-aa2f-825174a8b34f",
   "metadata": {},
   "outputs": [
    {
     "name": "stderr",
     "output_type": "stream",
     "text": [
      "[I 2025-08-11 00:31:33,322] A new study created in memory with name: no-name-c3e35bcc-05b0-47cb-884e-b92093c05ce1\n"
     ]
    },
    {
     "data": {
      "application/vnd.plotly.v1+json": {
       "config": {
        "plotlyServerURL": "https://plot.ly"
       },
       "data": [
        {
         "dimensions": [
          {
           "label": "Objective Value",
           "range": [
            0.761045760211233,
            0.7781940982197716
           ],
           "values": [
            0.7613852030011075,
            0.7614479404658132,
            0.7628263034757348,
            0.762076151777256,
            0.7691740543168458,
            0.766238155861186,
            0.7777804876796521,
            0.7628865253952403,
            0.764092824054553,
            0.761045760211233,
            0.7732158264117811,
            0.7668859468679531,
            0.7763578212241039,
            0.7671000624941923,
            0.768883898667976,
            0.777860694626034,
            0.7748775215769725,
            0.7684279865752451,
            0.7696538209642729,
            0.7659543388611789,
            0.7766738814014874,
            0.7662566898520544,
            0.7706739453292654,
            0.7781940982197716,
            0.7728030079867909,
            0.7677471702128579,
            0.7690494797981842,
            0.7645188472269753,
            0.7730161654329979,
            0.76672813097576,
            0.7651109141914514
           ]
          },
          {
           "label": "max_depth",
           "range": [
            2,
            4
           ],
           "values": [
            3,
            3,
            3,
            3,
            3,
            3,
            3,
            2,
            2,
            2,
            2,
            2,
            2,
            2,
            2,
            2,
            2,
            2,
            3,
            4,
            3,
            3,
            3,
            3,
            3,
            4,
            3,
            3,
            3,
            3,
            4
           ]
          },
          {
           "label": "n_estimators",
           "range": [
            74,
            300
           ],
           "values": [
            300,
            275,
            275,
            252,
            239,
            201,
            208,
            210,
            211,
            211,
            209,
            205,
            196,
            179,
            197,
            178,
            223,
            196,
            198,
            236,
            194,
            188,
            213,
            214,
            211,
            74,
            212,
            206,
            214,
            214,
            228
           ]
          },
          {
           "label": "regressor",
           "range": [
            0,
            1
           ],
           "ticktext": [
            "XGBRegressor",
            "GradientBoostingRegressor"
           ],
           "tickvals": [
            0,
            1
           ],
           "values": [
            0,
            0,
            0,
            0,
            1,
            1,
            1,
            1,
            1,
            1,
            1,
            1,
            1,
            1,
            1,
            1,
            1,
            1,
            1,
            1,
            1,
            1,
            1,
            1,
            1,
            1,
            1,
            1,
            1,
            1,
            1
           ]
          }
         ],
         "labelangle": 30,
         "labelside": "bottom",
         "line": {
          "color": [
           0.7613852030011075,
           0.7614479404658132,
           0.7628263034757348,
           0.762076151777256,
           0.7691740543168458,
           0.766238155861186,
           0.7777804876796521,
           0.7628865253952403,
           0.764092824054553,
           0.761045760211233,
           0.7732158264117811,
           0.7668859468679531,
           0.7763578212241039,
           0.7671000624941923,
           0.768883898667976,
           0.777860694626034,
           0.7748775215769725,
           0.7684279865752451,
           0.7696538209642729,
           0.7659543388611789,
           0.7766738814014874,
           0.7662566898520544,
           0.7706739453292654,
           0.7781940982197716,
           0.7728030079867909,
           0.7677471702128579,
           0.7690494797981842,
           0.7645188472269753,
           0.7730161654329979,
           0.76672813097576,
           0.7651109141914514
          ],
          "colorbar": {
           "title": {
            "text": "Objective Value"
           }
          },
          "colorscale": [
           [
            0,
            "rgb(247,251,255)"
           ],
           [
            0.125,
            "rgb(222,235,247)"
           ],
           [
            0.25,
            "rgb(198,219,239)"
           ],
           [
            0.375,
            "rgb(158,202,225)"
           ],
           [
            0.5,
            "rgb(107,174,214)"
           ],
           [
            0.625,
            "rgb(66,146,198)"
           ],
           [
            0.75,
            "rgb(33,113,181)"
           ],
           [
            0.875,
            "rgb(8,81,156)"
           ],
           [
            1,
            "rgb(8,48,107)"
           ]
          ],
          "reversescale": false,
          "showscale": true
         },
         "type": "parcoords"
        }
       ],
       "layout": {
        "autosize": true,
        "template": {
         "data": {
          "bar": [
           {
            "error_x": {
             "color": "#2a3f5f"
            },
            "error_y": {
             "color": "#2a3f5f"
            },
            "marker": {
             "line": {
              "color": "#E5ECF6",
              "width": 0.5
             },
             "pattern": {
              "fillmode": "overlay",
              "size": 10,
              "solidity": 0.2
             }
            },
            "type": "bar"
           }
          ],
          "barpolar": [
           {
            "marker": {
             "line": {
              "color": "#E5ECF6",
              "width": 0.5
             },
             "pattern": {
              "fillmode": "overlay",
              "size": 10,
              "solidity": 0.2
             }
            },
            "type": "barpolar"
           }
          ],
          "carpet": [
           {
            "aaxis": {
             "endlinecolor": "#2a3f5f",
             "gridcolor": "white",
             "linecolor": "white",
             "minorgridcolor": "white",
             "startlinecolor": "#2a3f5f"
            },
            "baxis": {
             "endlinecolor": "#2a3f5f",
             "gridcolor": "white",
             "linecolor": "white",
             "minorgridcolor": "white",
             "startlinecolor": "#2a3f5f"
            },
            "type": "carpet"
           }
          ],
          "choropleth": [
           {
            "colorbar": {
             "outlinewidth": 0,
             "ticks": ""
            },
            "type": "choropleth"
           }
          ],
          "contour": [
           {
            "colorbar": {
             "outlinewidth": 0,
             "ticks": ""
            },
            "colorscale": [
             [
              0,
              "#0d0887"
             ],
             [
              0.1111111111111111,
              "#46039f"
             ],
             [
              0.2222222222222222,
              "#7201a8"
             ],
             [
              0.3333333333333333,
              "#9c179e"
             ],
             [
              0.4444444444444444,
              "#bd3786"
             ],
             [
              0.5555555555555556,
              "#d8576b"
             ],
             [
              0.6666666666666666,
              "#ed7953"
             ],
             [
              0.7777777777777778,
              "#fb9f3a"
             ],
             [
              0.8888888888888888,
              "#fdca26"
             ],
             [
              1,
              "#f0f921"
             ]
            ],
            "type": "contour"
           }
          ],
          "contourcarpet": [
           {
            "colorbar": {
             "outlinewidth": 0,
             "ticks": ""
            },
            "type": "contourcarpet"
           }
          ],
          "heatmap": [
           {
            "colorbar": {
             "outlinewidth": 0,
             "ticks": ""
            },
            "colorscale": [
             [
              0,
              "#0d0887"
             ],
             [
              0.1111111111111111,
              "#46039f"
             ],
             [
              0.2222222222222222,
              "#7201a8"
             ],
             [
              0.3333333333333333,
              "#9c179e"
             ],
             [
              0.4444444444444444,
              "#bd3786"
             ],
             [
              0.5555555555555556,
              "#d8576b"
             ],
             [
              0.6666666666666666,
              "#ed7953"
             ],
             [
              0.7777777777777778,
              "#fb9f3a"
             ],
             [
              0.8888888888888888,
              "#fdca26"
             ],
             [
              1,
              "#f0f921"
             ]
            ],
            "type": "heatmap"
           }
          ],
          "heatmapgl": [
           {
            "colorbar": {
             "outlinewidth": 0,
             "ticks": ""
            },
            "colorscale": [
             [
              0,
              "#0d0887"
             ],
             [
              0.1111111111111111,
              "#46039f"
             ],
             [
              0.2222222222222222,
              "#7201a8"
             ],
             [
              0.3333333333333333,
              "#9c179e"
             ],
             [
              0.4444444444444444,
              "#bd3786"
             ],
             [
              0.5555555555555556,
              "#d8576b"
             ],
             [
              0.6666666666666666,
              "#ed7953"
             ],
             [
              0.7777777777777778,
              "#fb9f3a"
             ],
             [
              0.8888888888888888,
              "#fdca26"
             ],
             [
              1,
              "#f0f921"
             ]
            ],
            "type": "heatmapgl"
           }
          ],
          "histogram": [
           {
            "marker": {
             "pattern": {
              "fillmode": "overlay",
              "size": 10,
              "solidity": 0.2
             }
            },
            "type": "histogram"
           }
          ],
          "histogram2d": [
           {
            "colorbar": {
             "outlinewidth": 0,
             "ticks": ""
            },
            "colorscale": [
             [
              0,
              "#0d0887"
             ],
             [
              0.1111111111111111,
              "#46039f"
             ],
             [
              0.2222222222222222,
              "#7201a8"
             ],
             [
              0.3333333333333333,
              "#9c179e"
             ],
             [
              0.4444444444444444,
              "#bd3786"
             ],
             [
              0.5555555555555556,
              "#d8576b"
             ],
             [
              0.6666666666666666,
              "#ed7953"
             ],
             [
              0.7777777777777778,
              "#fb9f3a"
             ],
             [
              0.8888888888888888,
              "#fdca26"
             ],
             [
              1,
              "#f0f921"
             ]
            ],
            "type": "histogram2d"
           }
          ],
          "histogram2dcontour": [
           {
            "colorbar": {
             "outlinewidth": 0,
             "ticks": ""
            },
            "colorscale": [
             [
              0,
              "#0d0887"
             ],
             [
              0.1111111111111111,
              "#46039f"
             ],
             [
              0.2222222222222222,
              "#7201a8"
             ],
             [
              0.3333333333333333,
              "#9c179e"
             ],
             [
              0.4444444444444444,
              "#bd3786"
             ],
             [
              0.5555555555555556,
              "#d8576b"
             ],
             [
              0.6666666666666666,
              "#ed7953"
             ],
             [
              0.7777777777777778,
              "#fb9f3a"
             ],
             [
              0.8888888888888888,
              "#fdca26"
             ],
             [
              1,
              "#f0f921"
             ]
            ],
            "type": "histogram2dcontour"
           }
          ],
          "mesh3d": [
           {
            "colorbar": {
             "outlinewidth": 0,
             "ticks": ""
            },
            "type": "mesh3d"
           }
          ],
          "parcoords": [
           {
            "line": {
             "colorbar": {
              "outlinewidth": 0,
              "ticks": ""
             }
            },
            "type": "parcoords"
           }
          ],
          "pie": [
           {
            "automargin": true,
            "type": "pie"
           }
          ],
          "scatter": [
           {
            "fillpattern": {
             "fillmode": "overlay",
             "size": 10,
             "solidity": 0.2
            },
            "type": "scatter"
           }
          ],
          "scatter3d": [
           {
            "line": {
             "colorbar": {
              "outlinewidth": 0,
              "ticks": ""
             }
            },
            "marker": {
             "colorbar": {
              "outlinewidth": 0,
              "ticks": ""
             }
            },
            "type": "scatter3d"
           }
          ],
          "scattercarpet": [
           {
            "marker": {
             "colorbar": {
              "outlinewidth": 0,
              "ticks": ""
             }
            },
            "type": "scattercarpet"
           }
          ],
          "scattergeo": [
           {
            "marker": {
             "colorbar": {
              "outlinewidth": 0,
              "ticks": ""
             }
            },
            "type": "scattergeo"
           }
          ],
          "scattergl": [
           {
            "marker": {
             "colorbar": {
              "outlinewidth": 0,
              "ticks": ""
             }
            },
            "type": "scattergl"
           }
          ],
          "scattermapbox": [
           {
            "marker": {
             "colorbar": {
              "outlinewidth": 0,
              "ticks": ""
             }
            },
            "type": "scattermapbox"
           }
          ],
          "scatterpolar": [
           {
            "marker": {
             "colorbar": {
              "outlinewidth": 0,
              "ticks": ""
             }
            },
            "type": "scatterpolar"
           }
          ],
          "scatterpolargl": [
           {
            "marker": {
             "colorbar": {
              "outlinewidth": 0,
              "ticks": ""
             }
            },
            "type": "scatterpolargl"
           }
          ],
          "scatterternary": [
           {
            "marker": {
             "colorbar": {
              "outlinewidth": 0,
              "ticks": ""
             }
            },
            "type": "scatterternary"
           }
          ],
          "surface": [
           {
            "colorbar": {
             "outlinewidth": 0,
             "ticks": ""
            },
            "colorscale": [
             [
              0,
              "#0d0887"
             ],
             [
              0.1111111111111111,
              "#46039f"
             ],
             [
              0.2222222222222222,
              "#7201a8"
             ],
             [
              0.3333333333333333,
              "#9c179e"
             ],
             [
              0.4444444444444444,
              "#bd3786"
             ],
             [
              0.5555555555555556,
              "#d8576b"
             ],
             [
              0.6666666666666666,
              "#ed7953"
             ],
             [
              0.7777777777777778,
              "#fb9f3a"
             ],
             [
              0.8888888888888888,
              "#fdca26"
             ],
             [
              1,
              "#f0f921"
             ]
            ],
            "type": "surface"
           }
          ],
          "table": [
           {
            "cells": {
             "fill": {
              "color": "#EBF0F8"
             },
             "line": {
              "color": "white"
             }
            },
            "header": {
             "fill": {
              "color": "#C8D4E3"
             },
             "line": {
              "color": "white"
             }
            },
            "type": "table"
           }
          ]
         },
         "layout": {
          "annotationdefaults": {
           "arrowcolor": "#2a3f5f",
           "arrowhead": 0,
           "arrowwidth": 1
          },
          "autotypenumbers": "strict",
          "coloraxis": {
           "colorbar": {
            "outlinewidth": 0,
            "ticks": ""
           }
          },
          "colorscale": {
           "diverging": [
            [
             0,
             "#8e0152"
            ],
            [
             0.1,
             "#c51b7d"
            ],
            [
             0.2,
             "#de77ae"
            ],
            [
             0.3,
             "#f1b6da"
            ],
            [
             0.4,
             "#fde0ef"
            ],
            [
             0.5,
             "#f7f7f7"
            ],
            [
             0.6,
             "#e6f5d0"
            ],
            [
             0.7,
             "#b8e186"
            ],
            [
             0.8,
             "#7fbc41"
            ],
            [
             0.9,
             "#4d9221"
            ],
            [
             1,
             "#276419"
            ]
           ],
           "sequential": [
            [
             0,
             "#0d0887"
            ],
            [
             0.1111111111111111,
             "#46039f"
            ],
            [
             0.2222222222222222,
             "#7201a8"
            ],
            [
             0.3333333333333333,
             "#9c179e"
            ],
            [
             0.4444444444444444,
             "#bd3786"
            ],
            [
             0.5555555555555556,
             "#d8576b"
            ],
            [
             0.6666666666666666,
             "#ed7953"
            ],
            [
             0.7777777777777778,
             "#fb9f3a"
            ],
            [
             0.8888888888888888,
             "#fdca26"
            ],
            [
             1,
             "#f0f921"
            ]
           ],
           "sequentialminus": [
            [
             0,
             "#0d0887"
            ],
            [
             0.1111111111111111,
             "#46039f"
            ],
            [
             0.2222222222222222,
             "#7201a8"
            ],
            [
             0.3333333333333333,
             "#9c179e"
            ],
            [
             0.4444444444444444,
             "#bd3786"
            ],
            [
             0.5555555555555556,
             "#d8576b"
            ],
            [
             0.6666666666666666,
             "#ed7953"
            ],
            [
             0.7777777777777778,
             "#fb9f3a"
            ],
            [
             0.8888888888888888,
             "#fdca26"
            ],
            [
             1,
             "#f0f921"
            ]
           ]
          },
          "colorway": [
           "#636efa",
           "#EF553B",
           "#00cc96",
           "#ab63fa",
           "#FFA15A",
           "#19d3f3",
           "#FF6692",
           "#B6E880",
           "#FF97FF",
           "#FECB52"
          ],
          "font": {
           "color": "#2a3f5f"
          },
          "geo": {
           "bgcolor": "white",
           "lakecolor": "white",
           "landcolor": "#E5ECF6",
           "showlakes": true,
           "showland": true,
           "subunitcolor": "white"
          },
          "hoverlabel": {
           "align": "left"
          },
          "hovermode": "closest",
          "mapbox": {
           "style": "light"
          },
          "paper_bgcolor": "white",
          "plot_bgcolor": "#E5ECF6",
          "polar": {
           "angularaxis": {
            "gridcolor": "white",
            "linecolor": "white",
            "ticks": ""
           },
           "bgcolor": "#E5ECF6",
           "radialaxis": {
            "gridcolor": "white",
            "linecolor": "white",
            "ticks": ""
           }
          },
          "scene": {
           "xaxis": {
            "backgroundcolor": "#E5ECF6",
            "gridcolor": "white",
            "gridwidth": 2,
            "linecolor": "white",
            "showbackground": true,
            "ticks": "",
            "zerolinecolor": "white"
           },
           "yaxis": {
            "backgroundcolor": "#E5ECF6",
            "gridcolor": "white",
            "gridwidth": 2,
            "linecolor": "white",
            "showbackground": true,
            "ticks": "",
            "zerolinecolor": "white"
           },
           "zaxis": {
            "backgroundcolor": "#E5ECF6",
            "gridcolor": "white",
            "gridwidth": 2,
            "linecolor": "white",
            "showbackground": true,
            "ticks": "",
            "zerolinecolor": "white"
           }
          },
          "shapedefaults": {
           "line": {
            "color": "#2a3f5f"
           }
          },
          "ternary": {
           "aaxis": {
            "gridcolor": "white",
            "linecolor": "white",
            "ticks": ""
           },
           "baxis": {
            "gridcolor": "white",
            "linecolor": "white",
            "ticks": ""
           },
           "bgcolor": "#E5ECF6",
           "caxis": {
            "gridcolor": "white",
            "linecolor": "white",
            "ticks": ""
           }
          },
          "title": {
           "x": 0.05
          },
          "xaxis": {
           "automargin": true,
           "gridcolor": "white",
           "linecolor": "white",
           "ticks": "",
           "title": {
            "standoff": 15
           },
           "zerolinecolor": "white",
           "zerolinewidth": 2
          },
          "yaxis": {
           "automargin": true,
           "gridcolor": "white",
           "linecolor": "white",
           "ticks": "",
           "title": {
            "standoff": 15
           },
           "zerolinecolor": "white",
           "zerolinewidth": 2
          }
         }
        },
        "title": {
         "text": "Parallel Coordinate Plot"
        }
       }
      },
      "image/png": "[encoded data removed]",
      "text/html": [
       "<div>                            <div id=\"699e2f3f-b172-4204-9a8a-132649f7fe0f\" class=\"plotly-graph-div\" style=\"height:525px; width:100%;\"></div>            <script type=\"text/javascript\">                require([\"plotly\"], function(Plotly) {                    window.PLOTLYENV=window.PLOTLYENV || {};                                    if (document.getElementById(\"699e2f3f-b172-4204-9a8a-132649f7fe0f\")) {                    Plotly.newPlot(                        \"699e2f3f-b172-4204-9a8a-132649f7fe0f\",                        [{\"dimensions\":[{\"label\":\"Objective Value\",\"range\":[0.761045760211233,0.7781940982197716],\"values\":[0.7613852030011075,0.7614479404658132,0.7628263034757348,0.762076151777256,0.7691740543168458,0.766238155861186,0.7777804876796521,0.7628865253952403,0.764092824054553,0.761045760211233,0.7732158264117811,0.7668859468679531,0.7763578212241039,0.7671000624941923,0.768883898667976,0.777860694626034,0.7748775215769725,0.7684279865752451,0.7696538209642729,0.7659543388611789,0.7766738814014874,0.7662566898520544,0.7706739453292654,0.7781940982197716,0.7728030079867909,0.7677471702128579,0.7690494797981842,0.7645188472269753,0.7730161654329979,0.76672813097576,0.7651109141914514]},{\"label\":\"max_depth\",\"range\":[2,4],\"values\":[3,3,3,3,3,3,3,2,2,2,2,2,2,2,2,2,2,2,3,4,3,3,3,3,3,4,3,3,3,3,4]},{\"label\":\"n_estimators\",\"range\":[74,300],\"values\":[300,275,275,252,239,201,208,210,211,211,209,205,196,179,197,178,223,196,198,236,194,188,213,214,211,74,212,206,214,214,228]},{\"label\":\"regressor\",\"range\":[0,1],\"ticktext\":[\"XGBRegressor\",\"GradientBoostingRegressor\"],\"tickvals\":[0,1],\"values\":[0,0,0,0,1,1,1,1,1,1,1,1,1,1,1,1,1,1,1,1,1,1,1,1,1,1,1,1,1,1,1]}],\"labelangle\":30,\"labelside\":\"bottom\",\"line\":{\"color\":[0.7613852030011075,0.7614479404658132,0.7628263034757348,0.762076151777256,0.7691740543168458,0.766238155861186,0.7777804876796521,0.7628865253952403,0.764092824054553,0.761045760211233,0.7732158264117811,0.7668859468679531,0.7763578212241039,0.7671000624941923,0.768883898667976,0.777860694626034,0.7748775215769725,0.7684279865752451,0.7696538209642729,0.7659543388611789,0.7766738814014874,0.7662566898520544,0.7706739453292654,0.7781940982197716,0.7728030079867909,0.7677471702128579,0.7690494797981842,0.7645188472269753,0.7730161654329979,0.76672813097576,0.7651109141914514],\"colorbar\":{\"title\":{\"text\":\"Objective Value\"}},\"colorscale\":[[0.0,\"rgb(247,251,255)\"],[0.125,\"rgb(222,235,247)\"],[0.25,\"rgb(198,219,239)\"],[0.375,\"rgb(158,202,225)\"],[0.5,\"rgb(107,174,214)\"],[0.625,\"rgb(66,146,198)\"],[0.75,\"rgb(33,113,181)\"],[0.875,\"rgb(8,81,156)\"],[1.0,\"rgb(8,48,107)\"]],\"reversescale\":false,\"showscale\":true},\"type\":\"parcoords\"}],                        {\"title\":{\"text\":\"Parallel Coordinate Plot\"},\"template\":{\"data\":{\"histogram2dcontour\":[{\"type\":\"histogram2dcontour\",\"colorbar\":{\"outlinewidth\":0,\"ticks\":\"\"},\"colorscale\":[[0.0,\"#0d0887\"],[0.1111111111111111,\"#46039f\"],[0.2222222222222222,\"#7201a8\"],[0.3333333333333333,\"#9c179e\"],[0.4444444444444444,\"#bd3786\"],[0.5555555555555556,\"#d8576b\"],[0.6666666666666666,\"#ed7953\"],[0.7777777777777778,\"#fb9f3a\"],[0.8888888888888888,\"#fdca26\"],[1.0,\"#f0f921\"]]}],\"choropleth\":[{\"type\":\"choropleth\",\"colorbar\":{\"outlinewidth\":0,\"ticks\":\"\"}}],\"histogram2d\":[{\"type\":\"histogram2d\",\"colorbar\":{\"outlinewidth\":0,\"ticks\":\"\"},\"colorscale\":[[0.0,\"#0d0887\"],[0.1111111111111111,\"#46039f\"],[0.2222222222222222,\"#7201a8\"],[0.3333333333333333,\"#9c179e\"],[0.4444444444444444,\"#bd3786\"],[0.5555555555555556,\"#d8576b\"],[0.6666666666666666,\"#ed7953\"],[0.7777777777777778,\"#fb9f3a\"],[0.8888888888888888,\"#fdca26\"],[1.0,\"#f0f921\"]]}],\"heatmap\":[{\"type\":\"heatmap\",\"colorbar\":{\"outlinewidth\":0,\"ticks\":\"\"},\"colorscale\":[[0.0,\"#0d0887\"],[0.1111111111111111,\"#46039f\"],[0.2222222222222222,\"#7201a8\"],[0.3333333333333333,\"#9c179e\"],[0.4444444444444444,\"#bd3786\"],[0.5555555555555556,\"#d8576b\"],[0.6666666666666666,\"#ed7953\"],[0.7777777777777778,\"#fb9f3a\"],[0.8888888888888888,\"#fdca26\"],[1.0,\"#f0f921\"]]}],\"heatmapgl\":[{\"type\":\"heatmapgl\",\"colorbar\":{\"outlinewidth\":0,\"ticks\":\"\"},\"colorscale\":[[0.0,\"#0d0887\"],[0.1111111111111111,\"#46039f\"],[0.2222222222222222,\"#7201a8\"],[0.3333333333333333,\"#9c179e\"],[0.4444444444444444,\"#bd3786\"],[0.5555555555555556,\"#d8576b\"],[0.6666666666666666,\"#ed7953\"],[0.7777777777777778,\"#fb9f3a\"],[0.8888888888888888,\"#fdca26\"],[1.0,\"#f0f921\"]]}],\"contourcarpet\":[{\"type\":\"contourcarpet\",\"colorbar\":{\"outlinewidth\":0,\"ticks\":\"\"}}],\"contour\":[{\"type\":\"contour\",\"colorbar\":{\"outlinewidth\":0,\"ticks\":\"\"},\"colorscale\":[[0.0,\"#0d0887\"],[0.1111111111111111,\"#46039f\"],[0.2222222222222222,\"#7201a8\"],[0.3333333333333333,\"#9c179e\"],[0.4444444444444444,\"#bd3786\"],[0.5555555555555556,\"#d8576b\"],[0.6666666666666666,\"#ed7953\"],[0.7777777777777778,\"#fb9f3a\"],[0.8888888888888888,\"#fdca26\"],[1.0,\"#f0f921\"]]}],\"surface\":[{\"type\":\"surface\",\"colorbar\":{\"outlinewidth\":0,\"ticks\":\"\"},\"colorscale\":[[0.0,\"#0d0887\"],[0.1111111111111111,\"#46039f\"],[0.2222222222222222,\"#7201a8\"],[0.3333333333333333,\"#9c179e\"],[0.4444444444444444,\"#bd3786\"],[0.5555555555555556,\"#d8576b\"],[0.6666666666666666,\"#ed7953\"],[0.7777777777777778,\"#fb9f3a\"],[0.8888888888888888,\"#fdca26\"],[1.0,\"#f0f921\"]]}],\"mesh3d\":[{\"type\":\"mesh3d\",\"colorbar\":{\"outlinewidth\":0,\"ticks\":\"\"}}],\"scatter\":[{\"fillpattern\":{\"fillmode\":\"overlay\",\"size\":10,\"solidity\":0.2},\"type\":\"scatter\"}],\"parcoords\":[{\"type\":\"parcoords\",\"line\":{\"colorbar\":{\"outlinewidth\":0,\"ticks\":\"\"}}}],\"scatterpolargl\":[{\"type\":\"scatterpolargl\",\"marker\":{\"colorbar\":{\"outlinewidth\":0,\"ticks\":\"\"}}}],\"bar\":[{\"error_x\":{\"color\":\"#2a3f5f\"},\"error_y\":{\"color\":\"#2a3f5f\"},\"marker\":{\"line\":{\"color\":\"#E5ECF6\",\"width\":0.5},\"pattern\":{\"fillmode\":\"overlay\",\"size\":10,\"solidity\":0.2}},\"type\":\"bar\"}],\"scattergeo\":[{\"type\":\"scattergeo\",\"marker\":{\"colorbar\":{\"outlinewidth\":0,\"ticks\":\"\"}}}],\"scatterpolar\":[{\"type\":\"scatterpolar\",\"marker\":{\"colorbar\":{\"outlinewidth\":0,\"ticks\":\"\"}}}],\"histogram\":[{\"marker\":{\"pattern\":{\"fillmode\":\"overlay\",\"size\":10,\"solidity\":0.2}},\"type\":\"histogram\"}],\"scattergl\":[{\"type\":\"scattergl\",\"marker\":{\"colorbar\":{\"outlinewidth\":0,\"ticks\":\"\"}}}],\"scatter3d\":[{\"type\":\"scatter3d\",\"line\":{\"colorbar\":{\"outlinewidth\":0,\"ticks\":\"\"}},\"marker\":{\"colorbar\":{\"outlinewidth\":0,\"ticks\":\"\"}}}],\"scattermapbox\":[{\"type\":\"scattermapbox\",\"marker\":{\"colorbar\":{\"outlinewidth\":0,\"ticks\":\"\"}}}],\"scatterternary\":[{\"type\":\"scatterternary\",\"marker\":{\"colorbar\":{\"outlinewidth\":0,\"ticks\":\"\"}}}],\"scattercarpet\":[{\"type\":\"scattercarpet\",\"marker\":{\"colorbar\":{\"outlinewidth\":0,\"ticks\":\"\"}}}],\"carpet\":[{\"aaxis\":{\"endlinecolor\":\"#2a3f5f\",\"gridcolor\":\"white\",\"linecolor\":\"white\",\"minorgridcolor\":\"white\",\"startlinecolor\":\"#2a3f5f\"},\"baxis\":{\"endlinecolor\":\"#2a3f5f\",\"gridcolor\":\"white\",\"linecolor\":\"white\",\"minorgridcolor\":\"white\",\"startlinecolor\":\"#2a3f5f\"},\"type\":\"carpet\"}],\"table\":[{\"cells\":{\"fill\":{\"color\":\"#EBF0F8\"},\"line\":{\"color\":\"white\"}},\"header\":{\"fill\":{\"color\":\"#C8D4E3\"},\"line\":{\"color\":\"white\"}},\"type\":\"table\"}],\"barpolar\":[{\"marker\":{\"line\":{\"color\":\"#E5ECF6\",\"width\":0.5},\"pattern\":{\"fillmode\":\"overlay\",\"size\":10,\"solidity\":0.2}},\"type\":\"barpolar\"}],\"pie\":[{\"automargin\":true,\"type\":\"pie\"}]},\"layout\":{\"autotypenumbers\":\"strict\",\"colorway\":[\"#636efa\",\"#EF553B\",\"#00cc96\",\"#ab63fa\",\"#FFA15A\",\"#19d3f3\",\"#FF6692\",\"#B6E880\",\"#FF97FF\",\"#FECB52\"],\"font\":{\"color\":\"#2a3f5f\"},\"hovermode\":\"closest\",\"hoverlabel\":{\"align\":\"left\"},\"paper_bgcolor\":\"white\",\"plot_bgcolor\":\"#E5ECF6\",\"polar\":{\"bgcolor\":\"#E5ECF6\",\"angularaxis\":{\"gridcolor\":\"white\",\"linecolor\":\"white\",\"ticks\":\"\"},\"radialaxis\":{\"gridcolor\":\"white\",\"linecolor\":\"white\",\"ticks\":\"\"}},\"ternary\":{\"bgcolor\":\"#E5ECF6\",\"aaxis\":{\"gridcolor\":\"white\",\"linecolor\":\"white\",\"ticks\":\"\"},\"baxis\":{\"gridcolor\":\"white\",\"linecolor\":\"white\",\"ticks\":\"\"},\"caxis\":{\"gridcolor\":\"white\",\"linecolor\":\"white\",\"ticks\":\"\"}},\"coloraxis\":{\"colorbar\":{\"outlinewidth\":0,\"ticks\":\"\"}},\"colorscale\":{\"sequential\":[[0.0,\"#0d0887\"],[0.1111111111111111,\"#46039f\"],[0.2222222222222222,\"#7201a8\"],[0.3333333333333333,\"#9c179e\"],[0.4444444444444444,\"#bd3786\"],[0.5555555555555556,\"#d8576b\"],[0.6666666666666666,\"#ed7953\"],[0.7777777777777778,\"#fb9f3a\"],[0.8888888888888888,\"#fdca26\"],[1.0,\"#f0f921\"]],\"sequentialminus\":[[0.0,\"#0d0887\"],[0.1111111111111111,\"#46039f\"],[0.2222222222222222,\"#7201a8\"],[0.3333333333333333,\"#9c179e\"],[0.4444444444444444,\"#bd3786\"],[0.5555555555555556,\"#d8576b\"],[0.6666666666666666,\"#ed7953\"],[0.7777777777777778,\"#fb9f3a\"],[0.8888888888888888,\"#fdca26\"],[1.0,\"#f0f921\"]],\"diverging\":[[0,\"#8e0152\"],[0.1,\"#c51b7d\"],[0.2,\"#de77ae\"],[0.3,\"#f1b6da\"],[0.4,\"#fde0ef\"],[0.5,\"#f7f7f7\"],[0.6,\"#e6f5d0\"],[0.7,\"#b8e186\"],[0.8,\"#7fbc41\"],[0.9,\"#4d9221\"],[1,\"#276419\"]]},\"xaxis\":{\"gridcolor\":\"white\",\"linecolor\":\"white\",\"ticks\":\"\",\"title\":{\"standoff\":15},\"zerolinecolor\":\"white\",\"automargin\":true,\"zerolinewidth\":2},\"yaxis\":{\"gridcolor\":\"white\",\"linecolor\":\"white\",\"ticks\":\"\",\"title\":{\"standoff\":15},\"zerolinecolor\":\"white\",\"automargin\":true,\"zerolinewidth\":2},\"scene\":{\"xaxis\":{\"backgroundcolor\":\"#E5ECF6\",\"gridcolor\":\"white\",\"linecolor\":\"white\",\"showbackground\":true,\"ticks\":\"\",\"zerolinecolor\":\"white\",\"gridwidth\":2},\"yaxis\":{\"backgroundcolor\":\"#E5ECF6\",\"gridcolor\":\"white\",\"linecolor\":\"white\",\"showbackground\":true,\"ticks\":\"\",\"zerolinecolor\":\"white\",\"gridwidth\":2},\"zaxis\":{\"backgroundcolor\":\"#E5ECF6\",\"gridcolor\":\"white\",\"linecolor\":\"white\",\"showbackground\":true,\"ticks\":\"\",\"zerolinecolor\":\"white\",\"gridwidth\":2}},\"shapedefaults\":{\"line\":{\"color\":\"#2a3f5f\"}},\"annotationdefaults\":{\"arrowcolor\":\"#2a3f5f\",\"arrowhead\":0,\"arrowwidth\":1},\"geo\":{\"bgcolor\":\"white\",\"landcolor\":\"#E5ECF6\",\"subunitcolor\":\"white\",\"showland\":true,\"showlakes\":true,\"lakecolor\":\"white\"},\"title\":{\"x\":0.05},\"mapbox\":{\"style\":\"light\"}}}},                        {\"responsive\": true}                    ).then(function(){\n",
       "                            \n",
       "var gd = document.getElementById('699e2f3f-b172-4204-9a8a-132649f7fe0f');\n",
       "var x = new MutationObserver(function (mutations, observer) {{\n",
       "        var display = window.getComputedStyle(gd).display;\n",
       "        if (!display || display === 'none') {{\n",
       "            console.log([gd, 'removed!']);\n",
       "            Plotly.purge(gd);\n",
       "            observer.disconnect();\n",
       "        }}\n",
       "}});\n",
       "\n",
       "// Listen for the removal of the full notebook cells\n",
       "var notebookContainer = gd.closest('#notebook-container');\n",
       "if (notebookContainer) {{\n",
       "    x.observe(notebookContainer, {childList: true});\n",
       "}}\n",
       "\n",
       "// Listen for the clearing of the current output cell\n",
       "var outputEl = gd.closest('.output');\n",
       "if (outputEl) {{\n",
       "    x.observe(outputEl, {childList: true});\n",
       "}}\n",
       "\n",
       "                        })                };                });            </script>        </div>"
      ]
     },
     "metadata": {},
     "output_type": "display_data"
    }
   ],
   "source": [
    "filtered_trials = [t for t in study.trials if t.value is not None and 0.76 <= t.value <= 0.8]\n",
    "temp_study = optuna.create_study(direction=study.direction)\n",
    "temp_study.add_trials(filtered_trials)\n",
    "\n",
    "fig = plot_parallel_coordinate(temp_study, params=[\"regressor\",\"n_estimators\", \"max_depth\"])\n",
    "show(fig)"
   ]
  },
  {
   "cell_type": "code",
   "execution_count": 239,
   "id": "177acde7-ae13-4f68-8eb5-75896980f318",
   "metadata": {},
   "outputs": [
    {
     "name": "stdout",
     "output_type": "stream",
     "text": [
      "r2_scores for train and val are 0.7771924753087592 and 0.7781620028543872\n"
     ]
    }
   ],
   "source": [
    "regressor_name = study.best_params[\"regressor\"]\n",
    "\n",
    "regressor_dict = {\n",
    "    \"LinearRegression\": LinearRegression,\n",
    "    \"RidgeRegression\": Ridge,\n",
    "    \"LassoRegression\": Lasso,\n",
    "    \"KNeighborsRegressor\": KNeighborsRegressor,\n",
    "    \"RandomForestRegressor\": RandomForestRegressor,\n",
    "    \"AdaBoostRegressor\": AdaBoostRegressor,\n",
    "    \"GradientBoostingRegressor\": GradientBoostingRegressor,\n",
    "    \"XGBRegressor\": XGBRegressor\n",
    "}\n",
    "\n",
    "params_for_model = {k: v for k, v in study.best_params.items() if k !=\"regressor\"}\n",
    "\n",
    "regressor = regressor_dict[regressor_name](**params_for_model)\n",
    "\n",
    "model_pipeline = Pipeline(steps=[\n",
    "        (\"model\", TransformedTargetRegressor(\n",
    "            regressor=regressor,\n",
    "            transformer=FunctionTransformer(func=np.sqrt,inverse_func= lambda x:x**2)\n",
    "        ))\n",
    "    ])\n",
    "\n",
    "model_pipeline.fit(X_train_preprocessed,y_train)\n",
    "y_train_pred = model_pipeline.predict(X_train_preprocessed)\n",
    "y_pred = model_pipeline.predict(X_val_preprocessed)\n",
    "\n",
    "print(f'r2_scores for train and val are {r2_score(y_train,y_train_pred)} and {r2_score(y_val,y_pred)}')"
   ]
  }
 ],
 "metadata": {
  "kernelspec": {
   "display_name": "Python 3 (ipykernel)",
   "language": "python",
   "name": "python3"
  },
  "language_info": {
   "codemirror_mode": {
    "name": "ipython",
    "version": 3
   },
   "file_extension": ".py",
   "mimetype": "text/x-python",
   "name": "python",
   "nbconvert_exporter": "python",
   "pygments_lexer": "ipython3",
   "version": "3.12.4"
  },
  "widgets": {
   "application/vnd.jupyter.widget-state+json": {
    "state": {},
    "version_major": 2,
    "version_minor": 0
   }
  }
 },
 "nbformat": 4,
 "nbformat_minor": 5
}
