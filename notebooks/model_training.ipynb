{
 "cells": [
  {
   "cell_type": "markdown",
   "id": "1a230792-c200-476f-ae2f-1e0ae284288a",
   "metadata": {},
   "source": [
    "## 1. Importing Necessary Libraries"
   ]
  },
  {
   "cell_type": "code",
   "execution_count": 156,
   "id": "2c0dd8a5-a500-4164-8ee9-beab9359778c",
   "metadata": {},
   "outputs": [],
   "source": [
    "from pathlib import Path\n",
    "\n",
    "import numpy as np\n",
    "import pandas as pd\n",
    "\n",
    "import sklearn\n",
    "import xgboost\n",
    "\n",
    "from sklearn.metrics import r2_score,mean_absolute_error,root_mean_squared_error\n",
    "\n",
    "from sklearn.linear_model import (\n",
    "      LinearRegression,\n",
    "      Ridge,\n",
    "      Lasso\n",
    ")\n",
    "from sklearn.neighbors import KNeighborsRegressor\n",
    "from sklearn.ensemble import (\n",
    "      RandomForestRegressor,\n",
    "      AdaBoostRegressor,\n",
    "      GradientBoostingRegressor\n",
    ")\n",
    "from xgboost import XGBRegressor\n",
    "\n",
    "\n",
    "from sklearn.base import (\n",
    "    BaseEstimator,\n",
    "    TransformerMixin\n",
    ")\n",
    "\n",
    "from sklearn.impute import (\n",
    "    SimpleImputer\n",
    ")\n",
    "\n",
    "from sklearn.preprocessing import (\n",
    "\tOneHotEncoder,\n",
    "    OrdinalEncoder,\n",
    "    TargetEncoder,\n",
    "    StandardScaler,\n",
    "    MinMaxScaler,\n",
    "    FunctionTransformer\n",
    ")\n",
    "\n",
    "from sklearn.compose import (\n",
    "    ColumnTransformer,\n",
    "    TransformedTargetRegressor\n",
    ")\n",
    "\n",
    "from sklearn.pipeline import (\n",
    "    Pipeline,\n",
    "    FeatureUnion\n",
    ")\n",
    "\n",
    "from feature_engine.encoding import(\n",
    "    RareLabelEncoder\n",
    ")\n",
    "\n",
    "from feature_engine.selection import(\n",
    "    SelectBySingleFeaturePerformance,\n",
    "    SmartCorrelatedSelection\n",
    ")\n",
    "\n",
    "import matplotlib.pyplot as plt\n",
    "\n",
    "import optuna\n",
    "\n",
    "import mlflow\n",
    "\n",
    "import warnings"
   ]
  },
  {
   "cell_type": "markdown",
   "id": "c471743d-23f3-4a6c-89ac-13100873ed7e",
   "metadata": {},
   "source": [
    "## 2. Display settings"
   ]
  },
  {
   "cell_type": "code",
   "execution_count": 4,
   "id": "f9485e5f-126b-4262-822a-1435b9aa2d2e",
   "metadata": {},
   "outputs": [],
   "source": [
    "pd.set_option(\"display.max_columns\", None)\n",
    "sklearn.set_config(transform_output = \"pandas\")\n",
    "warnings.filterwarnings('ignore')"
   ]
  },
  {
   "cell_type": "markdown",
   "id": "a461457b-c365-464e-9d31-e23c65bd697c",
   "metadata": {},
   "source": [
    "## 3. Reading The Data"
   ]
  },
  {
   "cell_type": "code",
   "execution_count": 6,
   "id": "c9552931-8c15-4729-b299-1b5ba795ed9a",
   "metadata": {},
   "outputs": [],
   "source": [
    "PROJECT_DIR = Path(r\"F:\\Rishabh\\House-Price-Prediction-MLOps-Project\")\n",
    "DATA_DIR = \"data\""
   ]
  },
  {
   "cell_type": "code",
   "execution_count": 7,
   "id": "793e1070-0a66-4f0b-90d0-685150dafebe",
   "metadata": {},
   "outputs": [],
   "source": [
    "def read_data(name):\n",
    "    file_name = f\"{name}.csv\"\n",
    "    file_path = PROJECT_DIR/DATA_DIR/name/file_name\n",
    "\n",
    "    return pd.read_csv(file_path)"
   ]
  },
  {
   "cell_type": "code",
   "execution_count": 8,
   "id": "24056fe6-1bfd-4c6b-9c86-81427d3ce817",
   "metadata": {},
   "outputs": [],
   "source": [
    "train = read_data(\"train\")"
   ]
  },
  {
   "cell_type": "code",
   "execution_count": 9,
   "id": "b88bd475-7372-424a-8f92-19d16268fed2",
   "metadata": {},
   "outputs": [],
   "source": [
    "val = read_data(\"val\")"
   ]
  },
  {
   "cell_type": "code",
   "execution_count": 10,
   "id": "ed59829e-bd9c-4717-80f8-b6df4229e55b",
   "metadata": {},
   "outputs": [],
   "source": [
    "test = read_data(\"test\")"
   ]
  },
  {
   "cell_type": "code",
   "execution_count": 11,
   "id": "42b5a402-c0dc-49bd-bf53-74499f43f1da",
   "metadata": {},
   "outputs": [],
   "source": [
    "X_train = train.drop(columns = [\"amount\"])\n",
    "y_train = train.amount.copy()\n",
    "\n",
    "X_val = val.drop(columns = [\"amount\"])\n",
    "y_val = val.amount.copy()\n",
    "\n",
    "X_test = test.drop(columns = [\"amount\"])\n",
    "y_test = test.amount.copy()"
   ]
  },
  {
   "cell_type": "code",
   "execution_count": 12,
   "id": "2e80e9c1-ecba-4f3c-95ac-28710f38ed17",
   "metadata": {},
   "outputs": [
    {
     "name": "stdout",
     "output_type": "stream",
     "text": [
      "(42129, 18)\n",
      "(42129,)\n",
      "(4681, 18)\n",
      "(4681,)\n",
      "(5202, 18)\n",
      "(5202,)\n"
     ]
    }
   ],
   "source": [
    "print(X_train.shape)\n",
    "print(y_train.shape)\n",
    "print(X_val.shape)\n",
    "print(y_val.shape)\n",
    "print(X_test.shape)\n",
    "print(y_test.shape)"
   ]
  },
  {
   "cell_type": "markdown",
   "id": "07b60dee-514b-4553-a27e-94887748008a",
   "metadata": {},
   "source": [
    "## 4. Feature Engineering Pipeline"
   ]
  },
  {
   "cell_type": "code",
   "execution_count": 80,
   "id": "0c8e7328-9eaa-471b-ac88-36e5a761443b",
   "metadata": {},
   "outputs": [],
   "source": [
    "# Function to rename the columns before putting back into imputation pipeline\n",
    "def prefix_remover(X, prefixes):\n",
    "\n",
    "    prefix_list = [f\"{prefix}__\" for prefix in prefixes]\n",
    "    new_cols = X.columns\n",
    "    \n",
    "    for prefix in prefix_list:\n",
    "        new_cols = [col.replace(prefix,\"\") if col.startswith(prefix) else col for col in new_cols]\n",
    "\n",
    "    return X.rename(\n",
    "        columns = dict(zip(X.columns,new_cols))\n",
    "    )\n",
    "\n",
    "# imputer to impute bathroom values based on num_bhk\n",
    "class GroupAggregateImputer(BaseEstimator, TransformerMixin):\n",
    "\n",
    "    def __init__(self,variable,group_col,estimator,add_indicator = False):\n",
    "        self.variable = variable\n",
    "        self.group_col = group_col\n",
    "        self.estimator = estimator\n",
    "        self.add_indicator = add_indicator\n",
    "\n",
    "    def fit(self,X,y = None):\n",
    "\n",
    "        self.group_medians_ = {}\n",
    "        self.group_modes_ = {}\n",
    "\n",
    "        if self.estimator == \"median\":\n",
    "                self.group_medians_[self.variable] =  X.groupby(self.group_col)[self.variable].median()\n",
    "                \n",
    "        elif self.estimator == \"mode\":\n",
    "                self.group_modes_[self.variable] =  X.groupby(self.group_col)[self.variable].agg(lambda x: x.mode().iloc[0])\n",
    "            \n",
    "        return self\n",
    "\n",
    "    def transform(self,X):\n",
    "       X = X.copy()\n",
    "\n",
    "       if self.add_indicator:\n",
    "           X = X.assign(**{\n",
    "               f\"{self.variable}_missingindicator\" : lambda df:(\n",
    "                     np.where(\n",
    "                         df[self.variable].isnull(),\n",
    "                         1,0\n",
    "                     )\n",
    "                 )\n",
    "           })\n",
    "\n",
    "       if self.estimator == \"median\":\n",
    "               mask = X[self.variable].isnull()\n",
    "               X.loc[mask,self.variable] = X.loc[mask,self.group_col].map(self.group_medians_[self.variable])\n",
    "               \n",
    "       elif self.estimator == \"mode\":\n",
    "               mask = X[self.variable].isnull()\n",
    "               X.loc[mask,self.variable] = X.loc[mask,self.group_col].map(self.group_modes_[self.variable]) \n",
    "\n",
    "       \n",
    "       return X\n",
    "\n",
    "# Imputation pipeline\n",
    "\n",
    "furnishing_imputer = ColumnTransformer(transformers = [\n",
    "    (\"furnishing_imputer\",GroupAggregateImputer(variable = \"furnishing\",group_col = \"transaction\",estimator = \"mode\"),[\"furnishing\",\"transaction\"])\n",
    "],remainder = \"passthrough\")\n",
    "\n",
    "furnishing_imputation_pipeline = Pipeline(steps = [\n",
    "    (\"furnishing_imputer\",furnishing_imputer),\n",
    "    (\"prefix_remover\",FunctionTransformer(func = prefix_remover, kw_args = {\"prefixes\" : [\"furnishing_imputer\",\"remainder\"]}))\n",
    "])\n",
    "\n",
    "floor_num_imputer = ColumnTransformer(transformers = [\n",
    "    (\"floor_num_imputer\",SimpleImputer(strategy = \"median\"),[\"floor_num\"])\n",
    "],remainder = \"passthrough\")\n",
    "\n",
    "floor_num_imputation_pipeline = Pipeline(steps = [\n",
    "    (\"floor_num_imputer\",floor_num_imputer),\n",
    "    (\"prefix_remover\",FunctionTransformer(func = prefix_remover, kw_args = {\"prefixes\" : [\"floor_num_imputer\",\"remainder\"]}))\n",
    "])\n",
    "\n",
    "num_floors_imputer = ColumnTransformer(transformers = [\n",
    "    (\"num_floors_imputer\",GroupAggregateImputer(variable = \"num_floors\",group_col = \"floor_num\",estimator = \"median\"),[\"num_floors\",\"floor_num\"])\n",
    "],remainder = \"passthrough\")\n",
    "\n",
    "num_floors_imputation_pipeline = Pipeline(steps = [\n",
    "    (\"num_floors_imputer\",num_floors_imputer),\n",
    "    (\"prefix_remover\",FunctionTransformer(func = prefix_remover, kw_args = {\"prefixes\" : [\"num_floors_imputer\",\"remainder\"]}))\n",
    "])\n",
    "\n",
    "balcony_imputer = ColumnTransformer(transformers = [\n",
    "    (\"balcony_imputer\", GroupAggregateImputer(variable = \"balcony\",group_col = \"num_bhk\",estimator = \"median\", add_indicator = True),[\"balcony\",\"num_bhk\"])\n",
    "],remainder = \"passthrough\")\n",
    "\n",
    "balcony_imputation_pipeline = Pipeline(steps = [\n",
    "    (\"balcony_imputer\",balcony_imputer),\n",
    "    (\"prefix_remover\",FunctionTransformer(func = prefix_remover, kw_args = {\"prefixes\" : [\"balcony_imputer\",\"remainder\"]}))\n",
    "])\n",
    "\n",
    "ownership_imputer = ColumnTransformer(transformers = [\n",
    "    (\"ownership_imputer\",SimpleImputer(strategy = 'most_frequent',add_indicator = True),[\"ownership\"])\n",
    "], remainder = \"passthrough\")\n",
    "\n",
    "\n",
    "ownership_imputation_pipeline = Pipeline(steps = [\n",
    "    (\"ownership_imputer\",ownership_imputer),\n",
    "    (\"prefix_remover\",FunctionTransformer(func = prefix_remover, kw_args = {\"prefixes\" : [\"ownership_imputer\",\"remainder\"]}))\n",
    "])\n",
    "\n",
    "facing_imputer = ColumnTransformer(transformers = [\n",
    "    (\"facing_imputer\",SimpleImputer(strategy = 'constant',fill_value = 'Missing',add_indicator = True),[\"facing\"])\n",
    "], remainder = \"passthrough\")\n",
    "\n",
    "facing_imputation_pipeline = Pipeline(steps = [\n",
    "    (\"facing_imputer\",facing_imputer),\n",
    "    (\"prefix_remover\",FunctionTransformer(func = prefix_remover, kw_args = {\"prefixes\" : [\"facing_imputer\",\"remainder\"]}))\n",
    "])\n",
    "\n",
    "overlooking_garden_imputer = ColumnTransformer(transformers = [\n",
    "    (\"overlooking_garden_imputer\",SimpleImputer(strategy = 'constant',fill_value = -1),[\"overlooking_garden\"])\n",
    "], remainder = \"passthrough\")\n",
    "\n",
    "overlooking_garden_imputation_pipeline = Pipeline(steps = [\n",
    "    (\"overlooking_garden_imputer\",overlooking_garden_imputer),\n",
    "    (\"prefix_remover\",FunctionTransformer(func = prefix_remover, kw_args = {\"prefixes\" : [\"overlooking_garden_imputer\",\"remainder\"]}))\n",
    "])\n",
    "\n",
    "overlooking_mainroad_imputer = ColumnTransformer(transformers = [\n",
    "    (\"overlooking_mainroad_imputer\",SimpleImputer(strategy = 'constant',fill_value = -1),[\"overlooking_mainroad\"])\n",
    "], remainder = \"passthrough\")\n",
    "\n",
    "overlooking_mainroad_imputation_pipeline = Pipeline(steps = [\n",
    "    (\"overlooking_mainroad_imputer\",overlooking_mainroad_imputer),\n",
    "    (\"prefix_remover\",FunctionTransformer(func = prefix_remover, kw_args = {\"prefixes\" : [\"overlooking_mainroad_imputer\",\"remainder\"]}))\n",
    "])\n",
    "\n",
    "overlooking_pool_imputer = ColumnTransformer(transformers = [\n",
    "    (\"overlooking_pool_imputer\",SimpleImputer(strategy = 'constant',fill_value = -1),[\"overlooking_pool\"])\n",
    "], remainder = \"passthrough\")\n",
    "\n",
    "overlooking_pool_imputation_pipeline = Pipeline(steps = [\n",
    "    (\"overlooking_pool_imputer\",overlooking_pool_imputer),\n",
    "    (\"prefix_remover\",FunctionTransformer(func = prefix_remover, kw_args = {\"prefixes\" : [\"overlooking_pool_imputer\",\"remainder\"]}))\n",
    "])\n",
    "\n",
    "parking_cover_imputer =  ColumnTransformer(transformers = [\n",
    "    (\"parking_cover_imputer\",SimpleImputer(strategy = 'constant',fill_value = \"No parking\"),[\"parking_cover\"])\n",
    "],remainder = \"passthrough\")\n",
    "\n",
    "parking_cover_imputation_pipeline = Pipeline(steps = [\n",
    "    (\"parking_cover_imputer\",parking_cover_imputer),\n",
    "    (\"prefix_remover\",FunctionTransformer(func = prefix_remover, kw_args = {\"prefixes\" : [\"parking_cover_imputer\",\"remainder\"]}))\n",
    "])\n",
    "\n",
    "parking_spots_imputer =  ColumnTransformer(transformers = [\n",
    "    (\"parking_spots_imputer\",SimpleImputer(strategy = 'constant',fill_value = 0),[\"parking_spots\"])\n",
    "],remainder = \"passthrough\")\n",
    "\n",
    "parking_spots_imputation_pipeline = Pipeline(steps = [\n",
    "    (\"parking_spots_imputer\",parking_spots_imputer),\n",
    "    (\"prefix_remover\",FunctionTransformer(func = prefix_remover, kw_args = {\"prefixes\" : [\"parking_spots_imputer\",\"remainder\"]}))\n",
    "])\n",
    "\n",
    "carpet_area_imputer =  ColumnTransformer(transformers = [\n",
    "    (\"carpet_area_imputer\",SimpleImputer(strategy = 'constant',fill_value = -1),[\"carpet_area\"])\n",
    "],remainder = \"passthrough\")\n",
    "\n",
    "carpet_area_imputation_pipeline = Pipeline(steps = [\n",
    "    (\"carpet_area_imputer\",carpet_area_imputer),\n",
    "    (\"prefix_remover\",FunctionTransformer(func = prefix_remover, kw_args = {\"prefixes\" : [\"carpet_area_imputer\",\"remainder\"]}))\n",
    "])\n",
    "\n",
    "super_area_imputer =  ColumnTransformer(transformers = [\n",
    "    (\"super_area_imputer\",SimpleImputer(strategy = 'constant',fill_value = -1),[\"super_area\"])\n",
    "],remainder = \"passthrough\")\n",
    "\n",
    "super_area_imputation_pipeline = Pipeline(steps = [\n",
    "    (\"super_area_imputer\",super_area_imputer),\n",
    "    (\"prefix_remover\",FunctionTransformer(func = prefix_remover, kw_args = {\"prefixes\" : [\"super_area_imputer\",\"remainder\"]}))\n",
    "])\n",
    "\n",
    "imputation_pipeline = Pipeline(steps = [\n",
    "    (\"furnishing_imputation_pipeline\",furnishing_imputation_pipeline),\n",
    "    (\"floor_num_imputation_pipeline\",floor_num_imputation_pipeline),\n",
    "    (\"num_floors_imputation_pipeline\",num_floors_imputation_pipeline),\n",
    "    (\"balcony_imputation_pipeline\",balcony_imputation_pipeline),\n",
    "    (\"ownership_imputation_pipeline\",ownership_imputation_pipeline),\n",
    "    (\"facing_imputation_pipeline\",facing_imputation_pipeline),\n",
    "    (\"overlooking_garden_imputation_pipeline\",overlooking_garden_imputation_pipeline),\n",
    "    (\"overlooking_mainroad_imputation_pipeline\",overlooking_mainroad_imputation_pipeline),\n",
    "    (\"overlooking_pool_imputation_pipeline\",overlooking_pool_imputation_pipeline),\n",
    "    (\"parking_cover_imputation_pipeline\",parking_cover_imputation_pipeline),\n",
    "    (\"parking_spots_imputation_pipeline\",parking_spots_imputation_pipeline),\n",
    "    (\"carpet_area_imputation_pipeline\",carpet_area_imputation_pipeline),\n",
    "    (\"super_area_imputation_pipeline\",super_area_imputation_pipeline)\n",
    "])\n",
    "\n",
    "# Column transformers\n",
    "\n",
    "transaction_transformer = Pipeline(steps = [\n",
    "    (\"grouper\",RareLabelEncoder(tol = 0.1, n_categories = 2, replace_with = \"Resale\")),\n",
    "    (\"encoder\",OneHotEncoder(sparse_output = False,handle_unknown = 'ignore'))\n",
    "])\n",
    "\n",
    "def house_size_binner(X):\n",
    "    columns = X.columns.to_list()\n",
    "\n",
    "    return (\n",
    "        X.assign(\n",
    "               house_size = lambda df: (\n",
    "                np.select(\n",
    "                [\n",
    "                    df.num_bhk.between(1,3,inclusive = \"left\"),\n",
    "                    df.num_bhk.between(3,4,inclusive = \"left\")\n",
    "                ],\n",
    "                [\"small\",\"normal\"],\n",
    "                default = \"big\"\n",
    "               )\n",
    "            ) \n",
    "        )\n",
    "        .drop(columns = columns)\n",
    "    )\n",
    "\n",
    "num_bhk_pipe1 = Pipeline(steps = [\n",
    "    (\"scaler\",MinMaxScaler())\n",
    "])\n",
    "\n",
    "num_bhk_pipe2 = Pipeline(steps = [\n",
    "    (\"house_size_binner\",FunctionTransformer(func = house_size_binner)),\n",
    "    (\"encoder\",OrdinalEncoder(categories = [[\"small\",\"normal\",\"big\"]]))\n",
    "])\n",
    "\n",
    "num_bhk_transformer = FeatureUnion(transformer_list = [\n",
    "    (\"num_bhk_pipe1\",num_bhk_pipe1),\n",
    "    (\"num_bhk_pipe2\",num_bhk_pipe2)\n",
    "])\n",
    "\n",
    "def bathroom_num_binner(X):\n",
    "    columns = X.columns.to_list()\n",
    "\n",
    "    return (\n",
    "        X.assign(\n",
    "               bathroom_num = lambda df: (\n",
    "                np.select(\n",
    "                [\n",
    "                    df.bathroom.between(1,3,inclusive = \"left\"),\n",
    "                    df.bathroom.between(3,4,inclusive = \"left\")\n",
    "                ],\n",
    "                [\"low\",\"medium\"],\n",
    "                default = \"high\"\n",
    "              )\n",
    "            ) \n",
    "        )\n",
    "        .drop(columns = columns)\n",
    "    )\n",
    "\n",
    "bathroom_pipe1 = Pipeline(steps = [\n",
    "    (\"scaler\",MinMaxScaler())\n",
    "])\n",
    "\n",
    "bathroom_pipe2 = Pipeline(steps = [\n",
    "    (\"bathroom_num_binner\",FunctionTransformer(func = bathroom_num_binner)),\n",
    "    (\"encoder\",OrdinalEncoder(categories = [[\"low\",\"medium\",\"high\"]]))\n",
    "])\n",
    "\n",
    "bathroom_transformer = FeatureUnion(transformer_list = [\n",
    "    (\"bathroom_pipe1\",bathroom_pipe1),\n",
    "    (\"bathroom_pipe2\",bathroom_pipe2)\n",
    "])\n",
    "\n",
    "def bathroom_num_binner(X):\n",
    "    columns = X.columns.to_list()\n",
    "\n",
    "    return (\n",
    "        X.assign(\n",
    "               bathroom_num = lambda df: (\n",
    "                np.select(\n",
    "                [\n",
    "                    df.bathroom.between(1,3,inclusive = \"left\"),\n",
    "                    df.bathroom.between(3,4,inclusive = \"left\")\n",
    "                ],\n",
    "                [\"low\",\"medium\"],\n",
    "                default = \"high\"\n",
    "              )\n",
    "            ) \n",
    "        )\n",
    "        .drop(columns = columns)\n",
    "    )\n",
    "\n",
    "furnishing_pipe1 = Pipeline(steps = [\n",
    "    (\"encoder\",OrdinalEncoder(categories = [[\"Unfurnished\",\"Semi-Furnished\",\"Furnished\"]])),\n",
    "])\n",
    "\n",
    "furnishing_pipe2 = Pipeline(steps = [\n",
    "    (\"is_unfurnished\",FunctionTransformer(func = lambda x: np.where(x == 'Unfurnished',1,0)))\n",
    "])\n",
    "\n",
    "furnishing_transformer = FeatureUnion(transformer_list = [\n",
    "    (\"furnishing_pipe1\",furnishing_pipe1),\n",
    "    (\"furnishing_pipe2\",furnishing_pipe2)\n",
    "])\n",
    "\n",
    "def floor_height_binner(X):\n",
    "\n",
    "    columns = X.columns.to_list()\n",
    "\n",
    "    return (\n",
    "        X.assign(\n",
    "            floor_height = lambda df:(\n",
    "                    np.select(\n",
    "                        [\n",
    "                            (df.floor_num.between(0,3, inclusive = \"left\")),\n",
    "                            (df.floor_num.between(3,6, inclusive = \"left\"))\n",
    "                        ],\n",
    "                        [\"low\",\"medium\"],\n",
    "                        default = \"high\"\n",
    "                    )\n",
    "            )\n",
    "        )\n",
    "        .drop(columns = columns)\n",
    "    )\n",
    "\n",
    "def building_height_binner(X):\n",
    "\n",
    "    columns = X.columns.to_list()\n",
    "\n",
    "    return (\n",
    "        X.assign(\n",
    "            building_height = lambda df:(\n",
    "                np.select(\n",
    "                [\n",
    "                    (df.num_floors.between(0,5, inclusive = \"left\")),\n",
    "                    (df.num_floors.between(5,13, inclusive = \"left\"))\n",
    "                ],\n",
    "                [\"short\",\"medium\"],\n",
    "                default = \"tall\"\n",
    "            )\n",
    "            )\n",
    "        )\n",
    "        .drop(columns = columns)\n",
    "    )\n",
    "\n",
    "floor_num_pipe1 = Pipeline(steps = [\n",
    "    (\"scaler\",StandardScaler())\n",
    "])\n",
    "\n",
    "floor_num_pipe2 = Pipeline(steps = [\n",
    "    (\"floor_height_binner\",FunctionTransformer(func = floor_height_binner)),\n",
    "    (\"encoder\",OrdinalEncoder(categories = [[\"low\",\"medium\",\"high\"]])),\n",
    "])\n",
    "\n",
    "floor_num_transformer = FeatureUnion(transformer_list = [\n",
    "    (\"floor_num_pipe1\",floor_num_pipe1),\n",
    "    (\"floor_num_pipe2\",floor_num_pipe2)\n",
    "])\n",
    "\n",
    "num_floors_pipe1 = Pipeline(steps = [\n",
    "    (\"scaler\",StandardScaler())\n",
    "])\n",
    "\n",
    "num_floors_pipe2 = Pipeline(steps = [\n",
    "    (\"building_height_binner\",FunctionTransformer(func = building_height_binner)),\n",
    "    (\"encoder\",OrdinalEncoder(categories = [[\"short\",\"medium\",\"tall\"]]))\n",
    "])\n",
    "\n",
    "num_floors_transformer = FeatureUnion(transformer_list = [\n",
    "    (\"num_floors_pipe1\",num_floors_pipe1),\n",
    "    (\"num_floors_pipe2\",num_floors_pipe2)\n",
    "])\n",
    "\n",
    "def city_binner(X):\n",
    "    \n",
    "     columns = X.columns.to_list()\n",
    "\n",
    "     return (\n",
    "        X.assign(\n",
    "            city_tier = lambda df:(\n",
    "                np.where(\n",
    "                    df.location.isin([\"mumbai\",\"gurgaon\",\"new-delhi\"]),\n",
    "                    1,\n",
    "                    0\n",
    "                )\n",
    "            )\n",
    "        )\n",
    "        .drop(columns = columns)\n",
    "    )\n",
    "\n",
    "location_pipe1 = Pipeline(steps = [\n",
    "    (\"target_encoder\", TargetEncoder())\n",
    "])\n",
    "\n",
    "location_pipe2 = Pipeline(steps = [\n",
    "    (\"city_binner\",FunctionTransformer(func = city_binner))\n",
    "])\n",
    "\n",
    "location_transformer = FeatureUnion(transformer_list = [\n",
    "    (\"location_pipe1\",location_pipe1),\n",
    "    (\"location_pipe2\",location_pipe2)\n",
    "])\n",
    "\n",
    "def price_binner(X):\n",
    "\n",
    "    columns = X.columns.to_list()\n",
    "\n",
    "    return (\n",
    "        X.assign(\n",
    "               price_range = lambda df:(\n",
    "                np.select(\n",
    "                    [\n",
    "                        df.price.between(0,4000,inclusive = \"left\"),\n",
    "                        df.price.between(4000,6000,inclusive = \"left\")\n",
    "                    ],\n",
    "                    [\"low\",\"medium\"],\n",
    "                    default = \"high\"\n",
    "                )\n",
    "            )\n",
    "        )\n",
    "        .drop(columns = columns)\n",
    "    )\n",
    "\n",
    "balcony_transformer = Pipeline(steps = [\n",
    "    (\"nearest_integer\",FunctionTransformer(func = lambda x : np.round(x))),\n",
    "    (\"scaler\",MinMaxScaler())\n",
    "])\n",
    "\n",
    "ownership_transformer = Pipeline(steps = [\n",
    "    (\"encoder\",OneHotEncoder(sparse_output = False,handle_unknown = 'ignore'))\n",
    "])\n",
    "\n",
    "missingindicator_ownership_transformer = Pipeline(steps = [\n",
    "    (\"encoder\",OneHotEncoder(drop = 'first',sparse_output = False,handle_unknown = 'ignore'))\n",
    "])\n",
    "\n",
    "def direction_binner(X):\n",
    "\n",
    "     columns = X.columns.to_list()\n",
    "\n",
    "     return (\n",
    "        X.assign(\n",
    "            direction_tier = lambda df:(\n",
    "                np.where(\n",
    "                    df.facing.isin([\"North - East\",\"North - West\"]),\n",
    "                    1,\n",
    "                    0\n",
    "                )\n",
    "            )\n",
    "        )\n",
    "        .drop(columns = columns)\n",
    "     )\n",
    "\n",
    "facing_pipe1 = Pipeline(steps = [\n",
    "    (\"encoder\",OneHotEncoder(sparse_output = False,handle_unknown = 'ignore'))\n",
    "])\n",
    "\n",
    "facing_pipe2 = Pipeline(steps = [\n",
    "    (\"direction_binner\",FunctionTransformer(func = direction_binner))\n",
    "])\n",
    "\n",
    "facing_transformer = FeatureUnion(transformer_list = [\n",
    "    (\"facing_pipe1\",facing_pipe1),\n",
    "    (\"facing_pipe2\",facing_pipe2)\n",
    "])\n",
    "\n",
    "missingindicator_facing_transformer = Pipeline(steps = [\n",
    "    (\"encoder\",OneHotEncoder(drop = 'first',sparse_output = False,handle_unknown = 'ignore'))\n",
    "])\n",
    "\n",
    "overlooking_garden_transformer = Pipeline(steps = [\n",
    "    (\"encoder\",OneHotEncoder(sparse_output = False,handle_unknown = 'ignore'))\n",
    "])\n",
    "\n",
    "overlooking_mainroad_transformer = Pipeline(steps = [\n",
    "    (\"encoder\",OneHotEncoder(categories=[[ -1, 0, 1 ]], drop=[-1], sparse_output=False, handle_unknown='ignore'))\n",
    "])\n",
    "\n",
    "overlooking_pool_transformer = Pipeline(steps = [\n",
    "    (\"encoder\",OneHotEncoder(categories=[[ -1, 0, 1 ]], drop=[-1], sparse_output=False, handle_unknown='ignore'))\n",
    "])\n",
    "\n",
    "parking_cover_transformer = Pipeline(steps = [\n",
    "    (\"encoder\",OneHotEncoder(sparse_output = False,handle_unknown = 'ignore'))\n",
    "])\n",
    "\n",
    "def has_parking(X):\n",
    "\n",
    "    columns = X.columns.to_list()\n",
    "\n",
    "    return (\n",
    "        X.assign(\n",
    "            has_parking = lambda df:(\n",
    "                np.select(\n",
    "                            [\n",
    "                                df.parking_spots.eq(0),\n",
    "                                df.parking_spots.eq(1)\n",
    "                            ],\n",
    "                            [\"no parking\",\"single\"],\n",
    "                            default = \"multiple\"\n",
    "                        )\n",
    "            )\n",
    "        )\n",
    "        .drop(columns = columns)\n",
    "     )\n",
    "\n",
    "parking_spots_transformer = Pipeline(steps = [\n",
    "    (\"has_parking\",FunctionTransformer(func = has_parking)),\n",
    "    (\"encoder\",OneHotEncoder(categories = [[\"multiple\",\"single\",\"no parking\"]],drop = [[\"no parking\"]],sparse_output = False,handle_unknown = 'ignore'))\n",
    "])\n",
    "\n",
    "def effective_area(X):\n",
    "\n",
    "    columns = X.columns.to_list()\n",
    "\n",
    "    return(\n",
    "        X\n",
    "        .assign(\n",
    "            effective_area = lambda df:(\n",
    "                np.where(\n",
    "                    df.carpet_area.eq(-1),\n",
    "                    df.super_area,\n",
    "                    df.carpet_area\n",
    "                )\n",
    "            ),\n",
    "            carpet_areamissing = lambda df:(\n",
    "                np.where(\n",
    "                    df.carpet_area.eq(-1),\n",
    "                    1,\n",
    "                    0\n",
    "                )\n",
    "            ),\n",
    "            super_areamissing = lambda df:(\n",
    "                np.where(\n",
    "                    df.super_area.eq(-1),\n",
    "                    1,\n",
    "                    0\n",
    "                )\n",
    "            )\n",
    "        )\n",
    "        .drop(columns = columns)\n",
    "    )\n",
    "\n",
    "scaler_pipeline = Pipeline(steps = [\n",
    "    (\"log_transformer\",FunctionTransformer(func = lambda x: np.log(x))),\n",
    "    (\"scaler\",StandardScaler())\n",
    "])\n",
    "\n",
    "area_transformer = Pipeline(steps = [\n",
    "    (\"effective_area\",FunctionTransformer(func = effective_area)),\n",
    "    (\"scaler_pipeline\",ColumnTransformer(transformers = [\n",
    "        (\"scaler_pipeline\",scaler_pipeline,[\"effective_area\"])\n",
    "    ],remainder = \"passthrough\")),\n",
    "])\n",
    "\n",
    "def area_per_room(X):\n",
    "\n",
    "    columns = X.columns.to_list()\n",
    "\n",
    "    return(\n",
    "        X\n",
    "        .assign(\n",
    "            area_per_room = lambda df:(\n",
    "                np.where(\n",
    "                    df.carpet_area.eq(-1),\n",
    "                    df.super_area/df.num_bhk,\n",
    "                    df.carpet_area/df.num_bhk\n",
    "                )\n",
    "            )\n",
    "        )\n",
    "        .drop(columns = columns)\n",
    "    )\n",
    "\n",
    "scaler_pipeline = Pipeline(steps = [\n",
    "    (\"log_transformer\",FunctionTransformer(func = lambda x: np.log(x))),\n",
    "    (\"scaler\",StandardScaler())\n",
    "])\n",
    "\n",
    "area_per_room_transformer = Pipeline(steps = [\n",
    "    (\"area_per_room\",FunctionTransformer(func = area_per_room)),\n",
    "    (\"scaler_pipeline\",ColumnTransformer(transformers = [\n",
    "        (\"scaler_pipeline\",scaler_pipeline,[\"area_per_room\"])\n",
    "    ],remainder = \"passthrough\"))\n",
    "])\n",
    "\n",
    "def balcony_per_room(X):\n",
    "\n",
    "    columns = X.columns.to_list()\n",
    "\n",
    "    return(\n",
    "        X\n",
    "        .assign(\n",
    "            balcony_per_room = lambda df:(\n",
    "                df.balcony/df.num_bhk\n",
    "            )\n",
    "        )\n",
    "        .drop(columns = columns)\n",
    "    )\n",
    "\n",
    "def bathroom_per_room(X):\n",
    "\n",
    "    columns = X.columns.to_list()\n",
    "\n",
    "    return(\n",
    "        X\n",
    "        .assign(\n",
    "            bathroom_per_room = lambda df:(\n",
    "                df.bathroom/df.num_bhk\n",
    "            )\n",
    "        )\n",
    "        .drop(columns = columns)\n",
    "    )\n",
    "\n",
    "balcony_per_room_transformer = Pipeline(steps = [\n",
    "    (\"balcony_per_room\",FunctionTransformer(func = balcony_per_room))\n",
    "])\n",
    "\n",
    "bathroom_per_room_transformer = Pipeline(steps = [\n",
    "    (\"bathroom_per_room\",FunctionTransformer(func = bathroom_per_room))\n",
    "])\n",
    "\n",
    "column_transformer = ColumnTransformer(transformers = [\n",
    "    (\"transaction_transformer\",transaction_transformer,[\"transaction\"]),\n",
    "    (\"num_bhk_transformer\",num_bhk_transformer,[\"num_bhk\"]),\n",
    "    (\"bathroom_transformer\",bathroom_transformer,[\"bathroom\"]),\n",
    "    (\"furnishing_transformer\",furnishing_transformer,[\"furnishing\"]),\n",
    "    (\"floor_num_transformer\",floor_num_transformer,[\"floor_num\"]),\n",
    "    (\"num_floors_transformer\",num_floors_transformer,[\"num_floors\"]),\n",
    "    (\"location_transformer\",location_transformer,[\"location\"]),\n",
    "    (\"balcony_transformer\",balcony_transformer,[\"balcony\"]),\n",
    "    (\"ownership_transformer\",ownership_transformer,[\"ownership\"]),\n",
    "    (\"missingindicator_ownership_transformer\",missingindicator_ownership_transformer,[\"missingindicator_ownership\"]),\n",
    "    (\"facing_transformer\",facing_transformer,[\"facing\"]),\n",
    "    (\"missingindicator_facing_transformer\",missingindicator_ownership_transformer,[\"missingindicator_facing\"]),\n",
    "    (\"overlooking_garden_transformer\",overlooking_garden_transformer,[\"overlooking_garden\"]),\n",
    "    (\"overlooking_mainroad_transformer\",overlooking_mainroad_transformer,[\"overlooking_mainroad\"]),\n",
    "    (\"overlooking_pool_transformer\",overlooking_pool_transformer,[\"overlooking_pool\"]),\n",
    "    (\"parking_cover_transformer\",parking_cover_transformer,[\"parking_cover\"]),\n",
    "    (\"parking_spots_transformer\",parking_spots_transformer,[\"parking_spots\"]),\n",
    "    (\"area_transformer\",area_transformer,[\"carpet_area\",\"super_area\"]),\n",
    "    (\"area_per_room_transformer\",area_per_room_transformer,[\"carpet_area\",\"super_area\",\"num_bhk\"]),\n",
    "    (\"balcony_per_room_transformer\",balcony_per_room_transformer,[\"balcony\",\"num_bhk\"]),\n",
    "    (\"bathroom_per_room_transformer\",bathroom_per_room_transformer,[\"bathroom\",\"num_bhk\"])\n",
    "],remainder = 'passthrough')\n",
    "\n",
    "# Final preprocessor\n",
    "\n",
    "feature_preprocessor = Pipeline(steps = [\n",
    "    (\"imputation_pipeline\",imputation_pipeline),\n",
    "    (\"column_transformer\",column_transformer)\n",
    "])\n",
    "\n",
    "# Correlated feature selector\n",
    "drop_correlated = SmartCorrelatedSelection(estimator = RandomForestRegressor(), scoring = 'r2')\n",
    "\n",
    "# Feature selector\n",
    "feature_selector = SelectBySingleFeaturePerformance(estimator = RandomForestRegressor(),scoring = 'r2',threshold = 0.01)\n",
    "\n",
    "# Feature engineering pipeline\n",
    "feature_engineering_pipeline = Pipeline(steps = [\n",
    "    (\"feature_preprocessor\",feature_preprocessor),\n",
    "    (\"drop_correlated\",drop_correlated),\n",
    "    (\"feature_selector\",feature_selector)\n",
    "])"
   ]
  },
  {
   "cell_type": "code",
   "execution_count": 84,
   "id": "0668e8dc-80a5-4bee-afd2-28cbbb3653b9",
   "metadata": {},
   "outputs": [],
   "source": [
    "X_train_preprocessed = feature_engineering_pipeline.fit_transform(X_train,y_train)\n",
    "X_val_preprocessed = feature_engineering_pipeline.transform(X_val)\n",
    "X_test_preprocessed = feature_engineering_pipeline.transform(X_test)"
   ]
  },
  {
   "cell_type": "markdown",
   "id": "35f02c79-d16d-4242-a44a-8cf2ef2e3739",
   "metadata": {},
   "source": [
    "## 5. Hyperparameter Tuning and Experimentation Tracking "
   ]
  },
  {
   "cell_type": "code",
   "execution_count": 19,
   "id": "0773bd41-20d8-45ba-8cb2-cc714a12a673",
   "metadata": {},
   "outputs": [
    {
     "data": {
      "text/plain": [
       "False"
      ]
     },
     "execution_count": 19,
     "metadata": {},
     "output_type": "execute_result"
    }
   ],
   "source": [
    "mlflow.is_tracking_uri_set()"
   ]
  },
  {
   "cell_type": "code",
   "execution_count": 54,
   "id": "f2ba1e31-317d-4fe1-a386-fc887a95d75a",
   "metadata": {},
   "outputs": [],
   "source": [
    "def objective(trial):\n",
    "    \n",
    "    with mlflow.start_run(nested = True):\n",
    "    \n",
    "            regressor_name = trial.suggest_categorical(\"regressor\", [\n",
    "                \"LinearRegression\",\n",
    "                \"RidgeRegression\",\n",
    "                \"LassoRegression\",\n",
    "                \"KNeighborsRegressor\",\n",
    "                \"RandomForestRegressor\",\n",
    "                \"AdaBoostRegressor\",\n",
    "                \"GradientBoostingRegressor\",\n",
    "                \"XGBRegressor\",\n",
    "            ])\n",
    "        \n",
    "            if regressor_name == \"LinearRegression\":\n",
    "                fit_intercept = trial.suggest_categorical(\"fit_intercept\", [True, False])\n",
    "                regressor = LinearRegression(\n",
    "                    fit_intercept=fit_intercept,\n",
    "                    n_jobs=-1\n",
    "                )\n",
    "                mlflow.log_param(\"fit_intercept\",fit_intercept)\n",
    "        \n",
    "            elif regressor_name == \"RidgeRegression\":\n",
    "                alpha = trial.suggest_float(\"alpha\", 0.0001, 10.0, log=True)\n",
    "                fit_intercept = trial.suggest_categorical(\"fit_intercept\", [True, False])\n",
    "                regressor = Ridge(\n",
    "                    alpha=alpha,\n",
    "                    fit_intercept=fit_intercept\n",
    "                )\n",
    "                mlflow.log_params({\"alpha\": alpha, \"fit_intercept\": fit_intercept})\n",
    "        \n",
    "            elif regressor_name == \"LassoRegression\":\n",
    "                alpha = trial.suggest_float(\"alpha\", 0.0001, 1.0, log=True)\n",
    "                fit_intercept = trial.suggest_categorical(\"fit_intercept\", [True, False])\n",
    "                regressor = Lasso(\n",
    "                    alpha=alpha,\n",
    "                    fit_intercept=fit_intercept\n",
    "                )\n",
    "                mlflow.log_params({\"alpha\": alpha, \"fit_intercept\": fit_intercept})\n",
    "        \n",
    "            elif regressor_name == \"KNeighborsRegressor\":\n",
    "                n_neighbors = trial.suggest_int(\"n_neighbors\", 2, 30)\n",
    "                weights = trial.suggest_categorical(\"weights\", [\"uniform\", \"distance\"])\n",
    "                p = trial.suggest_int(\"p\", 1, 2)  \n",
    "                regressor = KNeighborsRegressor(\n",
    "                    n_neighbors=n_neighbors,\n",
    "                    weights=weights,\n",
    "                    p=p,\n",
    "                    n_jobs=-1\n",
    "                )\n",
    "                mlflow.log_params({\"n_neighbors\": n_neighbors, \"weights\": weights, \"p\": p})\n",
    "                \n",
    "            elif regressor_name == \"RandomForestRegressor\":\n",
    "                n_estimators = trial.suggest_int(\"n_estimators\", 50, 300)\n",
    "                max_depth = trial.suggest_int(\"max_depth\", 2, 20)\n",
    "                min_samples_split = trial.suggest_int(\"min_samples_split\", 2, 10)\n",
    "                max_features = trial.suggest_categorical(\"max_features\", [\"sqrt\", \"log2\", None])\n",
    "                regressor = RandomForestRegressor(\n",
    "                    n_estimators=n_estimators,\n",
    "                    max_depth=max_depth,\n",
    "                    min_samples_split=min_samples_split,\n",
    "                    max_features=max_features,\n",
    "                    n_jobs=-1\n",
    "                )\n",
    "                mlflow.log_params({\"n_estimators\": n_estimators, \"max_depth\": max_depth, \"min_samples_split\": min_samples_split, \"max_features\": max_features})\n",
    "        \n",
    "            elif regressor_name == \"AdaBoostRegressor\":\n",
    "                n_estimators = trial.suggest_int(\"n_estimators\", 50, 300)\n",
    "                learning_rate = trial.suggest_float(\"learning_rate\", 0.001, 2.0, log=True)\n",
    "                loss = trial.suggest_categorical(\"loss\", [\"linear\", \"square\", \"exponential\"])\n",
    "                regressor = AdaBoostRegressor(\n",
    "                    n_estimators=n_estimators,\n",
    "                    learning_rate=learning_rate,\n",
    "                    loss=loss\n",
    "                )\n",
    "                mlflow.log_params({\"n_estimators\": n_estimators, \"learning_rate\": learning_rate, \"loss\": loss})\n",
    "        \n",
    "            elif regressor_name == \"GradientBoostingRegressor\":\n",
    "                n_estimators = trial.suggest_int(\"n_estimators\", 50, 300)\n",
    "                subsample = trial.suggest_float(\"subsample\", 0.5, 1.0)\n",
    "                learning_rate = trial.suggest_float(\"learning_rate\", 0.001, 2.0, log=True)\n",
    "                min_samples_split = trial.suggest_int(\"min_samples_split\", 2, 10)\n",
    "                max_depth = trial.suggest_int(\"max_depth\", 2, 10)\n",
    "                max_features = trial.suggest_categorical(\"max_features\", [\"sqrt\", \"log2\", None])\n",
    "                regressor = GradientBoostingRegressor(\n",
    "                    n_estimators=n_estimators,\n",
    "                    subsample=subsample,\n",
    "                    learning_rate=learning_rate,\n",
    "                    min_samples_split=min_samples_split,\n",
    "                    max_depth=max_depth,\n",
    "                    max_features=max_features\n",
    "                )\n",
    "                mlflow.log_params({\"n_estimators\": n_estimators, \"subsample\": subsample, \"learning_rate\": learning_rate, \"min_samples_split\": min_samples_split, \"max_depth\": max_depth, \"max_features\": max_features})\n",
    "        \n",
    "            elif regressor_name == \"XGBRegressor\":\n",
    "                n_estimators = trial.suggest_int(\"n_estimators\", 50, 300)\n",
    "                learning_rate = trial.suggest_float(\"learning_rate\", 0.001, 0.3, log=True)\n",
    "                max_depth = trial.suggest_int(\"max_depth\", 2, 10)\n",
    "                subsample = trial.suggest_float(\"subsample\", 0.5, 1.0)\n",
    "                colsample_bytree = trial.suggest_float(\"colsample_bytree\", 0.5, 1.0)\n",
    "                regressor = XGBRegressor(\n",
    "                    n_estimators=n_estimators,\n",
    "                    learning_rate=learning_rate,\n",
    "                    max_depth=max_depth,\n",
    "                    subsample=subsample,\n",
    "                    colsample_bytree=colsample_bytree,\n",
    "                    n_jobs=-1\n",
    "                )\n",
    "                mlflow.log_params({\"n_estimators\": n_estimators, \"learning_rate\": learning_rate, \"max_depth\": max_depth, \"subsample\": subsample, \"colsample_bytree\": colsample_bytree})\n",
    "\n",
    "            mlflow.log_param(\"regressor\",regressor_name)\n",
    "        \n",
    "            target_transformer_name = trial.suggest_categorical(\n",
    "                \"target_transformer\",\n",
    "                [\"log\",\"cbrt\",\"sqrt\",\"same\"]\n",
    "            )\n",
    "            mlflow.log_param(\"target_transformer\",target_transformer_name)\n",
    "        \n",
    "            if target_transformer_name == \"log\":\n",
    "                transformer = FunctionTransformer(\n",
    "                    func = np.log,\n",
    "                    inverse_func = np.exp\n",
    "                )\n",
    "                \n",
    "            elif target_transformer_name == \"cbrt\":\n",
    "                transformer = FunctionTransformer(\n",
    "                    func = np.cbrt,\n",
    "                    inverse_func = lambda x:x**3\n",
    "                )\n",
    "        \n",
    "            elif target_transformer_name == \"sqrt\":\n",
    "                transformer = FunctionTransformer(\n",
    "                    func = np.sqrt,\n",
    "                    inverse_func = lambda x:x**2\n",
    "                )\n",
    "        \n",
    "            elif target_transformer_name == \"same\":\n",
    "                transformer = FunctionTransformer(\n",
    "                    func = lambda x:x,\n",
    "                    inverse_func = lambda x:x\n",
    "                )\n",
    "        \n",
    "            model_pipeline = Pipeline(steps=[\n",
    "                (\"model\", TransformedTargetRegressor(\n",
    "                    regressor=regressor,\n",
    "                    transformer=transformer\n",
    "                ))\n",
    "            ])\n",
    "        \n",
    "            mae = 0\n",
    "            rmse = 0\n",
    "            r2= 0\n",
    "            for i in range(3):\n",
    "                model_pipeline.fit(X_train_preprocessed, y_train)\n",
    "        \n",
    "                train_mae = mean_absolute_error(y_train,model_pipeline.predict(X_train_preprocessed))\n",
    "                val_mae = mean_absolute_error(y_val,model_pipeline.predict(X_val_preprocessed))\n",
    "                \n",
    "                val_r2_score = r2_score(y_val,model_pipeline.predict(X_val_preprocessed))\n",
    "                val_rmse = root_mean_squared_error(y_val,model_pipeline.predict(X_val_preprocessed))\n",
    "                \n",
    "                overfit_penalty = abs(val_mae-train_mae)\n",
    "                mae += val_mae + overfit_penalty\n",
    "                r2 += val_r2_score\n",
    "                rmse += val_rmse\n",
    "                \n",
    "            avg_mae = mae/3\n",
    "            avg_r2 = r2/3\n",
    "            avg_rmse = rmse/3\n",
    "        \n",
    "            mlflow.log_metric(\"avg_mae\",avg_mae)\n",
    "            mlflow.log_metric(\"avg_r2_score\",avg_r2)\n",
    "            mlflow.log_metric(\"avg_rmse\",avg_rmse)\n",
    "        \n",
    "            return avg_mae"
   ]
  },
  {
   "cell_type": "code",
   "execution_count": 56,
   "id": "23afba02-42f7-4da9-b058-8d86037ae431",
   "metadata": {},
   "outputs": [
    {
     "name": "stderr",
     "output_type": "stream",
     "text": [
      "[I 2025-08-16 01:04:13,495] A new study created in memory with name: no-name-ecf3d03b-4bc6-4b7f-94ed-ead428b7f8ba\n",
      "[I 2025-08-16 01:04:14,621] Trial 0 finished with value: 0.1985037869396957 and parameters: {'regressor': 'RidgeRegression', 'alpha': 0.00629170534393477, 'fit_intercept': True, 'target_transformer': 'log'}. Best is trial 0 with value: 0.1985037869396957.\n"
     ]
    },
    {
     "name": "stdout",
     "output_type": "stream",
     "text": [
      "🏃 View run calm-bird-866 at: http://127.0.0.1:5000/#/experiments/812027865869456740/runs/3dc53fbd70524acb837d25adaff645f0\n",
      "🧪 View experiment at: http://127.0.0.1:5000/#/experiments/812027865869456740\n"
     ]
    },
    {
     "name": "stderr",
     "output_type": "stream",
     "text": [
      "[I 2025-08-16 01:07:50,356] Trial 1 finished with value: 0.35530399987804256 and parameters: {'regressor': 'KNeighborsRegressor', 'n_neighbors': 9, 'weights': 'distance', 'p': 1, 'target_transformer': 'log'}. Best is trial 0 with value: 0.1985037869396957.\n"
     ]
    },
    {
     "name": "stdout",
     "output_type": "stream",
     "text": [
      "🏃 View run monumental-lark-159 at: http://127.0.0.1:5000/#/experiments/812027865869456740/runs/750e73d5b94f4f56b0e89d6e505bc1b2\n",
      "🧪 View experiment at: http://127.0.0.1:5000/#/experiments/812027865869456740\n"
     ]
    },
    {
     "name": "stderr",
     "output_type": "stream",
     "text": [
      "[I 2025-08-16 01:10:53,631] Trial 2 finished with value: 0.24155198207137665 and parameters: {'regressor': 'AdaBoostRegressor', 'n_estimators': 197, 'learning_rate': 0.062184307874534744, 'loss': 'exponential', 'target_transformer': 'same'}. Best is trial 0 with value: 0.1985037869396957.\n"
     ]
    },
    {
     "name": "stdout",
     "output_type": "stream",
     "text": [
      "🏃 View run overjoyed-turtle-945 at: http://127.0.0.1:5000/#/experiments/812027865869456740/runs/c5fb3ac4c827400a8f799c26ef069a0a\n",
      "🧪 View experiment at: http://127.0.0.1:5000/#/experiments/812027865869456740\n"
     ]
    },
    {
     "name": "stderr",
     "output_type": "stream",
     "text": [
      "[I 2025-08-16 01:11:10,503] Trial 3 finished with value: 0.206545236941205 and parameters: {'regressor': 'XGBRegressor', 'n_estimators': 263, 'learning_rate': 0.005486118605503856, 'max_depth': 8, 'subsample': 0.5189700376643671, 'colsample_bytree': 0.5659755494274942, 'target_transformer': 'same'}. Best is trial 0 with value: 0.1985037869396957.\n"
     ]
    },
    {
     "name": "stdout",
     "output_type": "stream",
     "text": [
      "🏃 View run suave-goose-966 at: http://127.0.0.1:5000/#/experiments/812027865869456740/runs/437d6a7eb6a24bb68e2816169e8c2af2\n",
      "🧪 View experiment at: http://127.0.0.1:5000/#/experiments/812027865869456740\n"
     ]
    },
    {
     "name": "stderr",
     "output_type": "stream",
     "text": [
      "[I 2025-08-16 01:11:30,234] Trial 4 finished with value: 0.18461720516597588 and parameters: {'regressor': 'RandomForestRegressor', 'n_estimators': 178, 'max_depth': 10, 'min_samples_split': 7, 'max_features': 'sqrt', 'target_transformer': 'same'}. Best is trial 4 with value: 0.18461720516597588.\n"
     ]
    },
    {
     "name": "stdout",
     "output_type": "stream",
     "text": [
      "🏃 View run valuable-vole-312 at: http://127.0.0.1:5000/#/experiments/812027865869456740/runs/13e5f36df94446698fe5002e7b84cde3\n",
      "🧪 View experiment at: http://127.0.0.1:5000/#/experiments/812027865869456740\n",
      "🏃 View run fortunate-mouse-788 at: http://127.0.0.1:5000/#/experiments/812027865869456740/runs/01591be2f96e4f67879adfd44accdaf1\n",
      "🧪 View experiment at: http://127.0.0.1:5000/#/experiments/812027865869456740\n"
     ]
    },
    {
     "name": "stderr",
     "output_type": "stream",
     "text": [
      "[I 2025-08-16 01:14:15,915] Trial 5 finished with value: 0.22781369928485473 and parameters: {'regressor': 'RandomForestRegressor', 'n_estimators': 279, 'max_depth': 18, 'min_samples_split': 2, 'max_features': None, 'target_transformer': 'cbrt'}. Best is trial 4 with value: 0.18461720516597588.\n",
      "[I 2025-08-16 01:17:42,279] Trial 6 finished with value: 0.19290322201852358 and parameters: {'regressor': 'KNeighborsRegressor', 'n_neighbors': 27, 'weights': 'uniform', 'p': 1, 'target_transformer': 'log'}. Best is trial 4 with value: 0.18461720516597588.\n"
     ]
    },
    {
     "name": "stdout",
     "output_type": "stream",
     "text": [
      "🏃 View run unruly-bird-520 at: http://127.0.0.1:5000/#/experiments/812027865869456740/runs/64dcc2ae38f7430eae5695d4f8be9e12\n",
      "🧪 View experiment at: http://127.0.0.1:5000/#/experiments/812027865869456740\n"
     ]
    },
    {
     "name": "stderr",
     "output_type": "stream",
     "text": [
      "[I 2025-08-16 01:17:43,384] Trial 7 finished with value: 0.22351811628228999 and parameters: {'regressor': 'LinearRegression', 'fit_intercept': True, 'target_transformer': 'same'}. Best is trial 4 with value: 0.18461720516597588.\n"
     ]
    },
    {
     "name": "stdout",
     "output_type": "stream",
     "text": [
      "🏃 View run burly-grub-432 at: http://127.0.0.1:5000/#/experiments/812027865869456740/runs/fe825f61e3a349c1b9ef4a5557197a9f\n",
      "🧪 View experiment at: http://127.0.0.1:5000/#/experiments/812027865869456740\n"
     ]
    },
    {
     "name": "stderr",
     "output_type": "stream",
     "text": [
      "[I 2025-08-16 01:17:44,630] Trial 8 finished with value: 0.19850423181171553 and parameters: {'regressor': 'LinearRegression', 'fit_intercept': True, 'target_transformer': 'log'}. Best is trial 4 with value: 0.18461720516597588.\n"
     ]
    },
    {
     "name": "stdout",
     "output_type": "stream",
     "text": [
      "🏃 View run masked-wolf-217 at: http://127.0.0.1:5000/#/experiments/812027865869456740/runs/6c8ab6d2ab524336a0afa22b4a2f4ada\n",
      "🧪 View experiment at: http://127.0.0.1:5000/#/experiments/812027865869456740\n"
     ]
    },
    {
     "name": "stderr",
     "output_type": "stream",
     "text": [
      "[I 2025-08-16 01:20:48,319] Trial 9 finished with value: 0.21294869763871913 and parameters: {'regressor': 'AdaBoostRegressor', 'n_estimators': 209, 'learning_rate': 0.8838737788963092, 'loss': 'linear', 'target_transformer': 'log'}. Best is trial 4 with value: 0.18461720516597588.\n"
     ]
    },
    {
     "name": "stdout",
     "output_type": "stream",
     "text": [
      "🏃 View run ambitious-skink-0 at: http://127.0.0.1:5000/#/experiments/812027865869456740/runs/87d713f3a7b1472eb01dedb7acfce054\n",
      "🧪 View experiment at: http://127.0.0.1:5000/#/experiments/812027865869456740\n"
     ]
    },
    {
     "name": "stderr",
     "output_type": "stream",
     "text": [
      "[I 2025-08-16 01:20:50,170] Trial 10 finished with value: 0.7361323079114149 and parameters: {'regressor': 'LassoRegression', 'alpha': 0.8239911562495004, 'fit_intercept': False, 'target_transformer': 'sqrt'}. Best is trial 4 with value: 0.18461720516597588.\n"
     ]
    },
    {
     "name": "stdout",
     "output_type": "stream",
     "text": [
      "🏃 View run upset-flea-925 at: http://127.0.0.1:5000/#/experiments/812027865869456740/runs/1194cdc479eb4a73af479a2a038b59e3\n",
      "🧪 View experiment at: http://127.0.0.1:5000/#/experiments/812027865869456740\n"
     ]
    },
    {
     "name": "stderr",
     "output_type": "stream",
     "text": [
      "[I 2025-08-16 01:24:31,303] Trial 11 finished with value: 0.19197083140009608 and parameters: {'regressor': 'KNeighborsRegressor', 'n_neighbors': 30, 'weights': 'uniform', 'p': 1, 'target_transformer': 'sqrt'}. Best is trial 4 with value: 0.18461720516597588.\n"
     ]
    },
    {
     "name": "stdout",
     "output_type": "stream",
     "text": [
      "🏃 View run dazzling-vole-964 at: http://127.0.0.1:5000/#/experiments/812027865869456740/runs/d488d28342654d169545b2283c733bb1\n",
      "🧪 View experiment at: http://127.0.0.1:5000/#/experiments/812027865869456740\n"
     ]
    },
    {
     "name": "stderr",
     "output_type": "stream",
     "text": [
      "[I 2025-08-16 01:24:36,753] Trial 12 finished with value: 0.22635284907620112 and parameters: {'regressor': 'RandomForestRegressor', 'n_estimators': 75, 'max_depth': 3, 'min_samples_split': 9, 'max_features': 'sqrt', 'target_transformer': 'sqrt'}. Best is trial 4 with value: 0.18461720516597588.\n"
     ]
    },
    {
     "name": "stdout",
     "output_type": "stream",
     "text": [
      "🏃 View run hilarious-snipe-693 at: http://127.0.0.1:5000/#/experiments/812027865869456740/runs/1fd9cbec61444c2cad3917cfec8c4ccd\n",
      "🧪 View experiment at: http://127.0.0.1:5000/#/experiments/812027865869456740\n"
     ]
    },
    {
     "name": "stderr",
     "output_type": "stream",
     "text": [
      "[I 2025-08-16 01:24:50,137] Trial 13 finished with value: 0.18909225995695808 and parameters: {'regressor': 'RandomForestRegressor', 'n_estimators': 95, 'max_depth': 14, 'min_samples_split': 7, 'max_features': 'sqrt', 'target_transformer': 'sqrt'}. Best is trial 4 with value: 0.18461720516597588.\n"
     ]
    },
    {
     "name": "stdout",
     "output_type": "stream",
     "text": [
      "🏃 View run bright-goat-229 at: http://127.0.0.1:5000/#/experiments/812027865869456740/runs/83b0b45a7b79474586decc16135980a1\n",
      "🧪 View experiment at: http://127.0.0.1:5000/#/experiments/812027865869456740\n"
     ]
    },
    {
     "name": "stderr",
     "output_type": "stream",
     "text": [
      "[I 2025-08-16 01:25:04,396] Trial 14 finished with value: 0.18864575031670502 and parameters: {'regressor': 'RandomForestRegressor', 'n_estimators': 99, 'max_depth': 14, 'min_samples_split': 7, 'max_features': 'sqrt', 'target_transformer': 'cbrt'}. Best is trial 4 with value: 0.18461720516597588.\n"
     ]
    },
    {
     "name": "stdout",
     "output_type": "stream",
     "text": [
      "🏃 View run adaptable-midge-774 at: http://127.0.0.1:5000/#/experiments/812027865869456740/runs/db3266a5919047f0b468294ed8e241bc\n",
      "🧪 View experiment at: http://127.0.0.1:5000/#/experiments/812027865869456740\n"
     ]
    },
    {
     "name": "stderr",
     "output_type": "stream",
     "text": [
      "[I 2025-08-16 01:26:13,402] Trial 15 finished with value: 0.32232157142782364 and parameters: {'regressor': 'GradientBoostingRegressor', 'n_estimators': 140, 'subsample': 0.9594876061175595, 'learning_rate': 0.001044930961027613, 'min_samples_split': 6, 'max_depth': 8, 'max_features': 'log2', 'target_transformer': 'cbrt'}. Best is trial 4 with value: 0.18461720516597588.\n"
     ]
    },
    {
     "name": "stdout",
     "output_type": "stream",
     "text": [
      "🏃 View run treasured-moth-426 at: http://127.0.0.1:5000/#/experiments/812027865869456740/runs/ea52d232e5304b4383d372e5b737a7f9\n",
      "🧪 View experiment at: http://127.0.0.1:5000/#/experiments/812027865869456740\n"
     ]
    },
    {
     "name": "stderr",
     "output_type": "stream",
     "text": [
      "[I 2025-08-16 01:26:35,716] Trial 16 finished with value: 0.18672035194648018 and parameters: {'regressor': 'RandomForestRegressor', 'n_estimators': 123, 'max_depth': 13, 'min_samples_split': 6, 'max_features': 'sqrt', 'target_transformer': 'cbrt'}. Best is trial 4 with value: 0.18461720516597588.\n"
     ]
    },
    {
     "name": "stdout",
     "output_type": "stream",
     "text": [
      "🏃 View run enchanting-gull-895 at: http://127.0.0.1:5000/#/experiments/812027865869456740/runs/d2ee457b47dc451c8da067b267ecebcd\n",
      "🧪 View experiment at: http://127.0.0.1:5000/#/experiments/812027865869456740\n"
     ]
    },
    {
     "name": "stderr",
     "output_type": "stream",
     "text": [
      "[I 2025-08-16 01:27:12,725] Trial 17 finished with value: 0.18584952675234004 and parameters: {'regressor': 'RandomForestRegressor', 'n_estimators': 152, 'max_depth': 11, 'min_samples_split': 5, 'max_features': 'sqrt', 'target_transformer': 'same'}. Best is trial 4 with value: 0.18461720516597588.\n"
     ]
    },
    {
     "name": "stdout",
     "output_type": "stream",
     "text": [
      "🏃 View run indecisive-fly-532 at: http://127.0.0.1:5000/#/experiments/812027865869456740/runs/1cac77044cc6443695527984c15fe20a\n",
      "🧪 View experiment at: http://127.0.0.1:5000/#/experiments/812027865869456740\n"
     ]
    },
    {
     "name": "stderr",
     "output_type": "stream",
     "text": [
      "[I 2025-08-16 01:27:13,905] Trial 18 finished with value: 0.22462445722431532 and parameters: {'regressor': 'RidgeRegression', 'alpha': 0.00011402802803680787, 'fit_intercept': False, 'target_transformer': 'same'}. Best is trial 4 with value: 0.18461720516597588.\n"
     ]
    },
    {
     "name": "stdout",
     "output_type": "stream",
     "text": [
      "🏃 View run enthused-smelt-580 at: http://127.0.0.1:5000/#/experiments/812027865869456740/runs/83e23044dc48492da73b36afe921c845\n",
      "🧪 View experiment at: http://127.0.0.1:5000/#/experiments/812027865869456740\n"
     ]
    },
    {
     "name": "stderr",
     "output_type": "stream",
     "text": [
      "[I 2025-08-16 01:28:24,658] Trial 19 finished with value: 46957.22635951274 and parameters: {'regressor': 'GradientBoostingRegressor', 'n_estimators': 163, 'subsample': 0.6925244959436923, 'learning_rate': 1.7328755917490608, 'min_samples_split': 4, 'max_depth': 9, 'max_features': 'sqrt', 'target_transformer': 'same'}. Best is trial 4 with value: 0.18461720516597588.\n"
     ]
    },
    {
     "name": "stdout",
     "output_type": "stream",
     "text": [
      "🏃 View run thundering-fly-357 at: http://127.0.0.1:5000/#/experiments/812027865869456740/runs/b30d5beede9b498f981e27d53b0d40de\n",
      "🧪 View experiment at: http://127.0.0.1:5000/#/experiments/812027865869456740\n"
     ]
    },
    {
     "name": "stderr",
     "output_type": "stream",
     "text": [
      "[I 2025-08-16 01:28:46,190] Trial 20 finished with value: 0.2087226353777137 and parameters: {'regressor': 'XGBRegressor', 'n_estimators': 233, 'learning_rate': 0.04690467690709333, 'max_depth': 9, 'subsample': 0.9979089391981443, 'colsample_bytree': 0.9959452839152496, 'target_transformer': 'same'}. Best is trial 4 with value: 0.18461720516597588.\n"
     ]
    },
    {
     "name": "stdout",
     "output_type": "stream",
     "text": [
      "🏃 View run youthful-fowl-199 at: http://127.0.0.1:5000/#/experiments/812027865869456740/runs/eb83f54092e64d73a2e557674eb89a0a\n",
      "🧪 View experiment at: http://127.0.0.1:5000/#/experiments/812027865869456740\n"
     ]
    },
    {
     "name": "stderr",
     "output_type": "stream",
     "text": [
      "[I 2025-08-16 01:29:14,268] Trial 21 finished with value: 0.18754008474239992 and parameters: {'regressor': 'RandomForestRegressor', 'n_estimators': 146, 'max_depth': 13, 'min_samples_split': 5, 'max_features': 'sqrt', 'target_transformer': 'cbrt'}. Best is trial 4 with value: 0.18461720516597588.\n"
     ]
    },
    {
     "name": "stdout",
     "output_type": "stream",
     "text": [
      "🏃 View run caring-calf-379 at: http://127.0.0.1:5000/#/experiments/812027865869456740/runs/d1a462fb74de471ba3a90c7db15484df\n",
      "🧪 View experiment at: http://127.0.0.1:5000/#/experiments/812027865869456740\n"
     ]
    },
    {
     "name": "stderr",
     "output_type": "stream",
     "text": [
      "[I 2025-08-16 01:29:38,211] Trial 22 finished with value: 0.18438913445203653 and parameters: {'regressor': 'RandomForestRegressor', 'n_estimators': 130, 'max_depth': 12, 'min_samples_split': 8, 'max_features': 'sqrt', 'target_transformer': 'same'}. Best is trial 22 with value: 0.18438913445203653.\n"
     ]
    },
    {
     "name": "stdout",
     "output_type": "stream",
     "text": [
      "🏃 View run upset-bird-290 at: http://127.0.0.1:5000/#/experiments/812027865869456740/runs/865f60a5cd8a4c78bbbda271f351a2bc\n",
      "🧪 View experiment at: http://127.0.0.1:5000/#/experiments/812027865869456740\n"
     ]
    },
    {
     "name": "stderr",
     "output_type": "stream",
     "text": [
      "[I 2025-08-16 01:30:06,041] Trial 23 finished with value: 0.18430599309553383 and parameters: {'regressor': 'RandomForestRegressor', 'n_estimators': 187, 'max_depth': 11, 'min_samples_split': 9, 'max_features': 'sqrt', 'target_transformer': 'same'}. Best is trial 23 with value: 0.18430599309553383.\n"
     ]
    },
    {
     "name": "stdout",
     "output_type": "stream",
     "text": [
      "🏃 View run capable-snipe-581 at: http://127.0.0.1:5000/#/experiments/812027865869456740/runs/c2d0eee168164809886f10d967466f29\n",
      "🧪 View experiment at: http://127.0.0.1:5000/#/experiments/812027865869456740\n"
     ]
    },
    {
     "name": "stderr",
     "output_type": "stream",
     "text": [
      "[I 2025-08-16 01:30:07,397] Trial 24 finished with value: 0.7361323079114149 and parameters: {'regressor': 'LassoRegression', 'alpha': 0.9228638189130027, 'fit_intercept': False, 'target_transformer': 'same'}. Best is trial 23 with value: 0.18430599309553383.\n"
     ]
    },
    {
     "name": "stdout",
     "output_type": "stream",
     "text": [
      "🏃 View run peaceful-stag-703 at: http://127.0.0.1:5000/#/experiments/812027865869456740/runs/9b8535d3a2df499ca2c469dc7f929fca\n",
      "🧪 View experiment at: http://127.0.0.1:5000/#/experiments/812027865869456740\n"
     ]
    },
    {
     "name": "stderr",
     "output_type": "stream",
     "text": [
      "[I 2025-08-16 01:30:24,868] Trial 25 finished with value: 0.1972292060179581 and parameters: {'regressor': 'RandomForestRegressor', 'n_estimators': 188, 'max_depth': 6, 'min_samples_split': 10, 'max_features': 'log2', 'target_transformer': 'same'}. Best is trial 23 with value: 0.18430599309553383.\n"
     ]
    },
    {
     "name": "stdout",
     "output_type": "stream",
     "text": [
      "🏃 View run sincere-ram-167 at: http://127.0.0.1:5000/#/experiments/812027865869456740/runs/795a8176153944eb92ec90a1abc7ef9c\n",
      "🧪 View experiment at: http://127.0.0.1:5000/#/experiments/812027865869456740\n"
     ]
    },
    {
     "name": "stderr",
     "output_type": "stream",
     "text": [
      "[I 2025-08-16 01:33:10,777] Trial 26 finished with value: 0.20674251336621716 and parameters: {'regressor': 'RandomForestRegressor', 'n_estimators': 224, 'max_depth': 17, 'min_samples_split': 8, 'max_features': None, 'target_transformer': 'same'}. Best is trial 23 with value: 0.18430599309553383.\n"
     ]
    },
    {
     "name": "stdout",
     "output_type": "stream",
     "text": [
      "🏃 View run unruly-owl-866 at: http://127.0.0.1:5000/#/experiments/812027865869456740/runs/5865a32a914044c6a87d183dcc22df0f\n",
      "🧪 View experiment at: http://127.0.0.1:5000/#/experiments/812027865869456740\n"
     ]
    },
    {
     "name": "stderr",
     "output_type": "stream",
     "text": [
      "[I 2025-08-16 01:33:39,201] Trial 27 finished with value: 0.18405254722313502 and parameters: {'regressor': 'RandomForestRegressor', 'n_estimators': 181, 'max_depth': 11, 'min_samples_split': 9, 'max_features': 'sqrt', 'target_transformer': 'same'}. Best is trial 27 with value: 0.18405254722313502.\n"
     ]
    },
    {
     "name": "stdout",
     "output_type": "stream",
     "text": [
      "🏃 View run magnificent-horse-69 at: http://127.0.0.1:5000/#/experiments/812027865869456740/runs/9a50914bd5284e2293243948e26fa097\n",
      "🧪 View experiment at: http://127.0.0.1:5000/#/experiments/812027865869456740\n"
     ]
    },
    {
     "name": "stderr",
     "output_type": "stream",
     "text": [
      "[I 2025-08-16 01:33:52,231] Trial 28 finished with value: 0.19205139901663992 and parameters: {'regressor': 'RandomForestRegressor', 'n_estimators': 54, 'max_depth': 16, 'min_samples_split': 10, 'max_features': 'sqrt', 'target_transformer': 'same'}. Best is trial 27 with value: 0.18405254722313502.\n"
     ]
    },
    {
     "name": "stdout",
     "output_type": "stream",
     "text": [
      "🏃 View run gentle-pig-883 at: http://127.0.0.1:5000/#/experiments/812027865869456740/runs/359a5c69b03d4db9a085eb6baf88ab15\n",
      "🧪 View experiment at: http://127.0.0.1:5000/#/experiments/812027865869456740\n"
     ]
    },
    {
     "name": "stderr",
     "output_type": "stream",
     "text": [
      "[I 2025-08-16 01:33:53,941] Trial 29 finished with value: 0.22403133303620462 and parameters: {'regressor': 'RidgeRegression', 'alpha': 9.90899627345108, 'fit_intercept': False, 'target_transformer': 'same'}. Best is trial 27 with value: 0.18405254722313502.\n"
     ]
    },
    {
     "name": "stdout",
     "output_type": "stream",
     "text": [
      "🏃 View run capable-lynx-139 at: http://127.0.0.1:5000/#/experiments/812027865869456740/runs/0326b8bb1ae04fffbc4fb91d40e2c3d3\n",
      "🧪 View experiment at: http://127.0.0.1:5000/#/experiments/812027865869456740\n"
     ]
    },
    {
     "name": "stderr",
     "output_type": "stream",
     "text": [
      "[I 2025-08-16 01:34:01,868] Trial 30 finished with value: 0.34045222891020216 and parameters: {'regressor': 'XGBRegressor', 'n_estimators': 122, 'learning_rate': 0.001106363799863458, 'max_depth': 5, 'subsample': 0.789321696870541, 'colsample_bytree': 0.8689757816045517, 'target_transformer': 'same'}. Best is trial 27 with value: 0.18405254722313502.\n"
     ]
    },
    {
     "name": "stdout",
     "output_type": "stream",
     "text": [
      "🏃 View run tasteful-panda-203 at: http://127.0.0.1:5000/#/experiments/812027865869456740/runs/c35e5accbcf1431199f31aaaf1310b13\n",
      "🧪 View experiment at: http://127.0.0.1:5000/#/experiments/812027865869456740\n"
     ]
    },
    {
     "name": "stderr",
     "output_type": "stream",
     "text": [
      "[I 2025-08-16 01:34:28,277] Trial 31 finished with value: 0.184593546730509 and parameters: {'regressor': 'RandomForestRegressor', 'n_estimators': 175, 'max_depth': 11, 'min_samples_split': 8, 'max_features': 'sqrt', 'target_transformer': 'same'}. Best is trial 27 with value: 0.18405254722313502.\n"
     ]
    },
    {
     "name": "stdout",
     "output_type": "stream",
     "text": [
      "🏃 View run judicious-crab-323 at: http://127.0.0.1:5000/#/experiments/812027865869456740/runs/99cdc630badd409286c66979b9ffcf60\n",
      "🧪 View experiment at: http://127.0.0.1:5000/#/experiments/812027865869456740\n"
     ]
    },
    {
     "name": "stderr",
     "output_type": "stream",
     "text": [
      "[I 2025-08-16 01:34:55,426] Trial 32 finished with value: 0.18455603727492545 and parameters: {'regressor': 'RandomForestRegressor', 'n_estimators': 169, 'max_depth': 12, 'min_samples_split': 9, 'max_features': 'sqrt', 'target_transformer': 'same'}. Best is trial 27 with value: 0.18405254722313502.\n"
     ]
    },
    {
     "name": "stdout",
     "output_type": "stream",
     "text": [
      "🏃 View run intrigued-grub-299 at: http://127.0.0.1:5000/#/experiments/812027865869456740/runs/5bc7f4a5aa2e4508a916161bfe8c7d60\n",
      "🧪 View experiment at: http://127.0.0.1:5000/#/experiments/812027865869456740\n"
     ]
    },
    {
     "name": "stderr",
     "output_type": "stream",
     "text": [
      "[I 2025-08-16 01:38:06,690] Trial 33 finished with value: 0.36342812554480625 and parameters: {'regressor': 'AdaBoostRegressor', 'n_estimators': 209, 'learning_rate': 0.23145341224995072, 'loss': 'square', 'target_transformer': 'same'}. Best is trial 27 with value: 0.18405254722313502.\n"
     ]
    },
    {
     "name": "stdout",
     "output_type": "stream",
     "text": [
      "🏃 View run painted-chimp-397 at: http://127.0.0.1:5000/#/experiments/812027865869456740/runs/950b3f69d20e43e5bbb0508ceaec4cef\n",
      "🧪 View experiment at: http://127.0.0.1:5000/#/experiments/812027865869456740\n"
     ]
    },
    {
     "name": "stderr",
     "output_type": "stream",
     "text": [
      "[I 2025-08-16 01:38:35,746] Trial 34 finished with value: 0.18515970138479512 and parameters: {'regressor': 'RandomForestRegressor', 'n_estimators': 129, 'max_depth': 12, 'min_samples_split': 9, 'max_features': 'sqrt', 'target_transformer': 'same'}. Best is trial 27 with value: 0.18405254722313502.\n"
     ]
    },
    {
     "name": "stdout",
     "output_type": "stream",
     "text": [
      "🏃 View run intelligent-doe-243 at: http://127.0.0.1:5000/#/experiments/812027865869456740/runs/44209e3aef48488c8d02d6290d387af7\n",
      "🧪 View experiment at: http://127.0.0.1:5000/#/experiments/812027865869456740\n"
     ]
    },
    {
     "name": "stderr",
     "output_type": "stream",
     "text": [
      "[I 2025-08-16 01:39:53,418] Trial 35 finished with value: 0.21610218379263899 and parameters: {'regressor': 'GradientBoostingRegressor', 'n_estimators': 164, 'subsample': 0.5031719288707661, 'learning_rate': 0.0065637589838922214, 'min_samples_split': 9, 'max_depth': 9, 'max_features': 'sqrt', 'target_transformer': 'same'}. Best is trial 27 with value: 0.18405254722313502.\n"
     ]
    },
    {
     "name": "stdout",
     "output_type": "stream",
     "text": [
      "🏃 View run brawny-boar-921 at: http://127.0.0.1:5000/#/experiments/812027865869456740/runs/a51f7e878f58477b876a3e87c88ea1a0\n",
      "🧪 View experiment at: http://127.0.0.1:5000/#/experiments/812027865869456740\n"
     ]
    },
    {
     "name": "stderr",
     "output_type": "stream",
     "text": [
      "[I 2025-08-16 01:42:57,557] Trial 36 finished with value: 0.21409864735713305 and parameters: {'regressor': 'RandomForestRegressor', 'n_estimators': 251, 'max_depth': 20, 'min_samples_split': 9, 'max_features': None, 'target_transformer': 'same'}. Best is trial 27 with value: 0.18405254722313502.\n"
     ]
    },
    {
     "name": "stdout",
     "output_type": "stream",
     "text": [
      "🏃 View run angry-mule-109 at: http://127.0.0.1:5000/#/experiments/812027865869456740/runs/8a0f17dd21774b9a80c880e9c5e20dc8\n",
      "🧪 View experiment at: http://127.0.0.1:5000/#/experiments/812027865869456740\n"
     ]
    },
    {
     "name": "stderr",
     "output_type": "stream",
     "text": [
      "[I 2025-08-16 01:42:59,862] Trial 37 finished with value: 0.19850423181171553 and parameters: {'regressor': 'LinearRegression', 'fit_intercept': True, 'target_transformer': 'log'}. Best is trial 27 with value: 0.18405254722313502.\n"
     ]
    },
    {
     "name": "stdout",
     "output_type": "stream",
     "text": [
      "🏃 View run luminous-crow-177 at: http://127.0.0.1:5000/#/experiments/812027865869456740/runs/a7d9c574ba404ac48ba2255c90346ea6\n",
      "🧪 View experiment at: http://127.0.0.1:5000/#/experiments/812027865869456740\n"
     ]
    },
    {
     "name": "stderr",
     "output_type": "stream",
     "text": [
      "[I 2025-08-16 01:44:24,993] Trial 38 finished with value: 0.39491180273988685 and parameters: {'regressor': 'KNeighborsRegressor', 'n_neighbors': 2, 'weights': 'distance', 'p': 2, 'target_transformer': 'same'}. Best is trial 27 with value: 0.18405254722313502.\n"
     ]
    },
    {
     "name": "stdout",
     "output_type": "stream",
     "text": [
      "🏃 View run industrious-mare-442 at: http://127.0.0.1:5000/#/experiments/812027865869456740/runs/7cdb5c8be0c3425589eddbeecd6bdb8e\n",
      "🧪 View experiment at: http://127.0.0.1:5000/#/experiments/812027865869456740\n"
     ]
    },
    {
     "name": "stderr",
     "output_type": "stream",
     "text": [
      "[I 2025-08-16 01:44:50,466] Trial 39 finished with value: 0.22430478164399167 and parameters: {'regressor': 'LassoRegression', 'alpha': 0.00012203883310340816, 'fit_intercept': False, 'target_transformer': 'same'}. Best is trial 27 with value: 0.18405254722313502.\n"
     ]
    },
    {
     "name": "stdout",
     "output_type": "stream",
     "text": [
      "🏃 View run delightful-fowl-604 at: http://127.0.0.1:5000/#/experiments/812027865869456740/runs/97cefe2be3a04a709a5b20804aadf4ba\n",
      "🧪 View experiment at: http://127.0.0.1:5000/#/experiments/812027865869456740\n"
     ]
    },
    {
     "name": "stderr",
     "output_type": "stream",
     "text": [
      "[I 2025-08-16 01:44:52,655] Trial 40 finished with value: 0.19850394858022594 and parameters: {'regressor': 'RidgeRegression', 'alpha': 0.004004679292297676, 'fit_intercept': True, 'target_transformer': 'log'}. Best is trial 27 with value: 0.18405254722313502.\n"
     ]
    },
    {
     "name": "stdout",
     "output_type": "stream",
     "text": [
      "🏃 View run bustling-pug-668 at: http://127.0.0.1:5000/#/experiments/812027865869456740/runs/79767d6ca29741fe997746e7c3ff4309\n",
      "🧪 View experiment at: http://127.0.0.1:5000/#/experiments/812027865869456740\n"
     ]
    },
    {
     "name": "stderr",
     "output_type": "stream",
     "text": [
      "[I 2025-08-16 01:45:20,422] Trial 41 finished with value: 0.1838669962079966 and parameters: {'regressor': 'RandomForestRegressor', 'n_estimators': 179, 'max_depth': 11, 'min_samples_split': 8, 'max_features': 'sqrt', 'target_transformer': 'same'}. Best is trial 41 with value: 0.1838669962079966.\n"
     ]
    },
    {
     "name": "stdout",
     "output_type": "stream",
     "text": [
      "🏃 View run judicious-shrike-750 at: http://127.0.0.1:5000/#/experiments/812027865869456740/runs/579f2ec89b7041b38e743159e6db9d87\n",
      "🧪 View experiment at: http://127.0.0.1:5000/#/experiments/812027865869456740\n"
     ]
    },
    {
     "name": "stderr",
     "output_type": "stream",
     "text": [
      "[I 2025-08-16 01:45:49,720] Trial 42 finished with value: 0.18523237758129432 and parameters: {'regressor': 'RandomForestRegressor', 'n_estimators': 180, 'max_depth': 12, 'min_samples_split': 8, 'max_features': 'sqrt', 'target_transformer': 'same'}. Best is trial 41 with value: 0.1838669962079966.\n"
     ]
    },
    {
     "name": "stdout",
     "output_type": "stream",
     "text": [
      "🏃 View run indecisive-lynx-347 at: http://127.0.0.1:5000/#/experiments/812027865869456740/runs/1d84725844de40f48a5783025c4dd9d5\n",
      "🧪 View experiment at: http://127.0.0.1:5000/#/experiments/812027865869456740\n"
     ]
    },
    {
     "name": "stderr",
     "output_type": "stream",
     "text": [
      "[I 2025-08-16 01:46:31,804] Trial 43 finished with value: 0.18795484389508785 and parameters: {'regressor': 'RandomForestRegressor', 'n_estimators': 203, 'max_depth': 15, 'min_samples_split': 10, 'max_features': 'sqrt', 'target_transformer': 'same'}. Best is trial 41 with value: 0.1838669962079966.\n"
     ]
    },
    {
     "name": "stdout",
     "output_type": "stream",
     "text": [
      "🏃 View run hilarious-donkey-567 at: http://127.0.0.1:5000/#/experiments/812027865869456740/runs/18889a0ac86945c3a3b7165c87852426\n",
      "🧪 View experiment at: http://127.0.0.1:5000/#/experiments/812027865869456740\n"
     ]
    },
    {
     "name": "stderr",
     "output_type": "stream",
     "text": [
      "[I 2025-08-16 01:48:05,147] Trial 44 finished with value: 0.2690925331060821 and parameters: {'regressor': 'AdaBoostRegressor', 'n_estimators': 163, 'learning_rate': 0.2829695306295555, 'loss': 'linear', 'target_transformer': 'same'}. Best is trial 41 with value: 0.1838669962079966.\n"
     ]
    },
    {
     "name": "stdout",
     "output_type": "stream",
     "text": [
      "🏃 View run likeable-conch-563 at: http://127.0.0.1:5000/#/experiments/812027865869456740/runs/e51ebea595f542ef9ef6959cfc9f2133\n",
      "🧪 View experiment at: http://127.0.0.1:5000/#/experiments/812027865869456740\n"
     ]
    },
    {
     "name": "stderr",
     "output_type": "stream",
     "text": [
      "[I 2025-08-16 01:48:31,455] Trial 45 finished with value: 0.18310933120543685 and parameters: {'regressor': 'RandomForestRegressor', 'n_estimators': 197, 'max_depth': 11, 'min_samples_split': 8, 'max_features': 'sqrt', 'target_transformer': 'sqrt'}. Best is trial 45 with value: 0.18310933120543685.\n"
     ]
    },
    {
     "name": "stdout",
     "output_type": "stream",
     "text": [
      "🏃 View run valuable-snake-776 at: http://127.0.0.1:5000/#/experiments/812027865869456740/runs/19223a554c4f4c9c89fb0b98ef09e024\n",
      "🧪 View experiment at: http://127.0.0.1:5000/#/experiments/812027865869456740\n"
     ]
    },
    {
     "name": "stderr",
     "output_type": "stream",
     "text": [
      "[I 2025-08-16 01:48:58,390] Trial 46 finished with value: 0.18303632863482922 and parameters: {'regressor': 'RandomForestRegressor', 'n_estimators': 192, 'max_depth': 11, 'min_samples_split': 8, 'max_features': 'log2', 'target_transformer': 'sqrt'}. Best is trial 46 with value: 0.18303632863482922.\n"
     ]
    },
    {
     "name": "stdout",
     "output_type": "stream",
     "text": [
      "🏃 View run polite-bug-280 at: http://127.0.0.1:5000/#/experiments/812027865869456740/runs/f7b34cc1b152405b9ef16814b44a6cd7\n",
      "🧪 View experiment at: http://127.0.0.1:5000/#/experiments/812027865869456740\n"
     ]
    },
    {
     "name": "stderr",
     "output_type": "stream",
     "text": [
      "[I 2025-08-16 01:50:15,952] Trial 47 finished with value: 0.1960095063927093 and parameters: {'regressor': 'KNeighborsRegressor', 'n_neighbors': 17, 'weights': 'uniform', 'p': 2, 'target_transformer': 'sqrt'}. Best is trial 46 with value: 0.18303632863482922.\n"
     ]
    },
    {
     "name": "stdout",
     "output_type": "stream",
     "text": [
      "🏃 View run angry-shrew-795 at: http://127.0.0.1:5000/#/experiments/812027865869456740/runs/bc847ea487aa479aa5ce2fe80f0df049\n",
      "🧪 View experiment at: http://127.0.0.1:5000/#/experiments/812027865869456740\n"
     ]
    },
    {
     "name": "stderr",
     "output_type": "stream",
     "text": [
      "[I 2025-08-16 01:50:17,136] Trial 48 finished with value: 0.20486652154412102 and parameters: {'regressor': 'LinearRegression', 'fit_intercept': False, 'target_transformer': 'sqrt'}. Best is trial 46 with value: 0.18303632863482922.\n"
     ]
    },
    {
     "name": "stdout",
     "output_type": "stream",
     "text": [
      "🏃 View run secretive-fox-719 at: http://127.0.0.1:5000/#/experiments/812027865869456740/runs/d0c30088324945c4a2a1445097014eef\n",
      "🧪 View experiment at: http://127.0.0.1:5000/#/experiments/812027865869456740\n"
     ]
    },
    {
     "name": "stderr",
     "output_type": "stream",
     "text": [
      "[I 2025-08-16 01:50:41,532] Trial 49 finished with value: 0.18288001124528316 and parameters: {'regressor': 'RandomForestRegressor', 'n_estimators': 191, 'max_depth': 10, 'min_samples_split': 8, 'max_features': 'log2', 'target_transformer': 'sqrt'}. Best is trial 49 with value: 0.18288001124528316.\n"
     ]
    },
    {
     "name": "stdout",
     "output_type": "stream",
     "text": [
      "🏃 View run defiant-mole-958 at: http://127.0.0.1:5000/#/experiments/812027865869456740/runs/7bcc16f7e72149e0a33b42396fa39042\n",
      "🧪 View experiment at: http://127.0.0.1:5000/#/experiments/812027865869456740\n"
     ]
    },
    {
     "name": "stderr",
     "output_type": "stream",
     "text": [
      "[I 2025-08-16 01:51:06,796] Trial 50 finished with value: 0.20407874636573234 and parameters: {'regressor': 'XGBRegressor', 'n_estimators': 231, 'learning_rate': 0.006505527684626865, 'max_depth': 9, 'subsample': 0.8044964935202257, 'colsample_bytree': 0.5198052367068988, 'target_transformer': 'sqrt'}. Best is trial 49 with value: 0.18288001124528316.\n"
     ]
    },
    {
     "name": "stdout",
     "output_type": "stream",
     "text": [
      "🏃 View run fearless-dolphin-940 at: http://127.0.0.1:5000/#/experiments/812027865869456740/runs/7466230865df4803bee0839b4e0b3da7\n",
      "🧪 View experiment at: http://127.0.0.1:5000/#/experiments/812027865869456740\n"
     ]
    },
    {
     "name": "stderr",
     "output_type": "stream",
     "text": [
      "[I 2025-08-16 01:51:35,863] Trial 51 finished with value: 0.18276641718477896 and parameters: {'regressor': 'RandomForestRegressor', 'n_estimators': 193, 'max_depth': 11, 'min_samples_split': 8, 'max_features': 'log2', 'target_transformer': 'sqrt'}. Best is trial 51 with value: 0.18276641718477896.\n"
     ]
    },
    {
     "name": "stdout",
     "output_type": "stream",
     "text": [
      "🏃 View run marvelous-elk-480 at: http://127.0.0.1:5000/#/experiments/812027865869456740/runs/19b39d00ab5343acb1723dc49a8f3594\n",
      "🧪 View experiment at: http://127.0.0.1:5000/#/experiments/812027865869456740\n"
     ]
    },
    {
     "name": "stderr",
     "output_type": "stream",
     "text": [
      "[I 2025-08-16 01:52:03,284] Trial 52 finished with value: 0.18334116371636242 and parameters: {'regressor': 'RandomForestRegressor', 'n_estimators': 200, 'max_depth': 10, 'min_samples_split': 8, 'max_features': 'log2', 'target_transformer': 'sqrt'}. Best is trial 51 with value: 0.18276641718477896.\n"
     ]
    },
    {
     "name": "stdout",
     "output_type": "stream",
     "text": [
      "🏃 View run serious-ram-484 at: http://127.0.0.1:5000/#/experiments/812027865869456740/runs/64918a70e7624a1da66caa08ca4be6de\n",
      "🧪 View experiment at: http://127.0.0.1:5000/#/experiments/812027865869456740\n"
     ]
    },
    {
     "name": "stderr",
     "output_type": "stream",
     "text": [
      "[I 2025-08-16 01:52:25,582] Trial 53 finished with value: 0.19060200561593446 and parameters: {'regressor': 'RandomForestRegressor', 'n_estimators': 215, 'max_depth': 7, 'min_samples_split': 7, 'max_features': 'log2', 'target_transformer': 'sqrt'}. Best is trial 51 with value: 0.18276641718477896.\n"
     ]
    },
    {
     "name": "stdout",
     "output_type": "stream",
     "text": [
      "🏃 View run powerful-hog-304 at: http://127.0.0.1:5000/#/experiments/812027865869456740/runs/7903e17ed97e41d4be0ac0b1ecc9e8ca\n",
      "🧪 View experiment at: http://127.0.0.1:5000/#/experiments/812027865869456740\n"
     ]
    },
    {
     "name": "stderr",
     "output_type": "stream",
     "text": [
      "[I 2025-08-16 01:52:52,174] Trial 54 finished with value: 0.18327431513787065 and parameters: {'regressor': 'RandomForestRegressor', 'n_estimators': 197, 'max_depth': 10, 'min_samples_split': 8, 'max_features': 'log2', 'target_transformer': 'sqrt'}. Best is trial 51 with value: 0.18276641718477896.\n"
     ]
    },
    {
     "name": "stdout",
     "output_type": "stream",
     "text": [
      "🏃 View run aged-rat-156 at: http://127.0.0.1:5000/#/experiments/812027865869456740/runs/e94c1f3f923b40639aa8ec103a20ac72\n",
      "🧪 View experiment at: http://127.0.0.1:5000/#/experiments/812027865869456740\n"
     ]
    },
    {
     "name": "stderr",
     "output_type": "stream",
     "text": [
      "[I 2025-08-16 01:53:19,109] Trial 55 finished with value: 0.18290330077321768 and parameters: {'regressor': 'RandomForestRegressor', 'n_estimators': 200, 'max_depth': 10, 'min_samples_split': 8, 'max_features': 'log2', 'target_transformer': 'sqrt'}. Best is trial 51 with value: 0.18276641718477896.\n"
     ]
    },
    {
     "name": "stdout",
     "output_type": "stream",
     "text": [
      "🏃 View run skittish-eel-10 at: http://127.0.0.1:5000/#/experiments/812027865869456740/runs/922d252eca4b41dfaba7fbb25b2dc333\n",
      "🧪 View experiment at: http://127.0.0.1:5000/#/experiments/812027865869456740\n"
     ]
    },
    {
     "name": "stderr",
     "output_type": "stream",
     "text": [
      "[I 2025-08-16 01:53:45,697] Trial 56 finished with value: 0.18304629509978487 and parameters: {'regressor': 'RandomForestRegressor', 'n_estimators': 196, 'max_depth': 10, 'min_samples_split': 7, 'max_features': 'log2', 'target_transformer': 'sqrt'}. Best is trial 51 with value: 0.18276641718477896.\n"
     ]
    },
    {
     "name": "stdout",
     "output_type": "stream",
     "text": [
      "🏃 View run bustling-robin-154 at: http://127.0.0.1:5000/#/experiments/812027865869456740/runs/1a0c5793f0fd4f6db9aafd8bbf272591\n",
      "🧪 View experiment at: http://127.0.0.1:5000/#/experiments/812027865869456740\n"
     ]
    },
    {
     "name": "stderr",
     "output_type": "stream",
     "text": [
      "[I 2025-08-16 01:54:22,834] Trial 57 finished with value: 0.17762561605974067 and parameters: {'regressor': 'GradientBoostingRegressor', 'n_estimators': 241, 'subsample': 0.6569917610554465, 'learning_rate': 0.20471694529606177, 'min_samples_split': 7, 'max_depth': 2, 'max_features': 'log2', 'target_transformer': 'sqrt'}. Best is trial 57 with value: 0.17762561605974067.\n"
     ]
    },
    {
     "name": "stdout",
     "output_type": "stream",
     "text": [
      "🏃 View run spiffy-jay-741 at: http://127.0.0.1:5000/#/experiments/812027865869456740/runs/339cc050cb4b4e499a9c6e99d835179c\n",
      "🧪 View experiment at: http://127.0.0.1:5000/#/experiments/812027865869456740\n"
     ]
    },
    {
     "name": "stderr",
     "output_type": "stream",
     "text": [
      "[I 2025-08-16 01:54:56,534] Trial 58 finished with value: 0.17885089922302513 and parameters: {'regressor': 'GradientBoostingRegressor', 'n_estimators': 222, 'subsample': 0.6512947483608985, 'learning_rate': 0.23886805417126972, 'min_samples_split': 7, 'max_depth': 2, 'max_features': 'log2', 'target_transformer': 'sqrt'}. Best is trial 57 with value: 0.17762561605974067.\n"
     ]
    },
    {
     "name": "stdout",
     "output_type": "stream",
     "text": [
      "🏃 View run gifted-fawn-74 at: http://127.0.0.1:5000/#/experiments/812027865869456740/runs/1dce605a7dce4fdeb71ce8cd86acc442\n",
      "🧪 View experiment at: http://127.0.0.1:5000/#/experiments/812027865869456740\n"
     ]
    },
    {
     "name": "stderr",
     "output_type": "stream",
     "text": [
      "[I 2025-08-16 01:55:34,804] Trial 59 finished with value: 0.17860268623157727 and parameters: {'regressor': 'GradientBoostingRegressor', 'n_estimators': 248, 'subsample': 0.6460367873126693, 'learning_rate': 0.18920184426248626, 'min_samples_split': 7, 'max_depth': 2, 'max_features': 'log2', 'target_transformer': 'sqrt'}. Best is trial 57 with value: 0.17762561605974067.\n"
     ]
    },
    {
     "name": "stdout",
     "output_type": "stream",
     "text": [
      "🏃 View run whimsical-horse-213 at: http://127.0.0.1:5000/#/experiments/812027865869456740/runs/c865e974d4ae46418c690c4adcd86b25\n",
      "🧪 View experiment at: http://127.0.0.1:5000/#/experiments/812027865869456740\n"
     ]
    },
    {
     "name": "stderr",
     "output_type": "stream",
     "text": [
      "[I 2025-08-16 01:56:19,773] Trial 60 finished with value: 0.18069698946690063 and parameters: {'regressor': 'GradientBoostingRegressor', 'n_estimators': 289, 'subsample': 0.6436167397787702, 'learning_rate': 0.17581904903573933, 'min_samples_split': 7, 'max_depth': 2, 'max_features': 'log2', 'target_transformer': 'sqrt'}. Best is trial 57 with value: 0.17762561605974067.\n"
     ]
    },
    {
     "name": "stdout",
     "output_type": "stream",
     "text": [
      "🏃 View run welcoming-chimp-651 at: http://127.0.0.1:5000/#/experiments/812027865869456740/runs/dbe2038bdf4b4f96843541ffe8f30aa3\n",
      "🧪 View experiment at: http://127.0.0.1:5000/#/experiments/812027865869456740\n"
     ]
    },
    {
     "name": "stderr",
     "output_type": "stream",
     "text": [
      "[I 2025-08-16 01:57:01,963] Trial 61 finished with value: 0.17778732478246737 and parameters: {'regressor': 'GradientBoostingRegressor', 'n_estimators': 269, 'subsample': 0.6508395921193999, 'learning_rate': 0.18527038605498794, 'min_samples_split': 7, 'max_depth': 2, 'max_features': 'log2', 'target_transformer': 'sqrt'}. Best is trial 57 with value: 0.17762561605974067.\n"
     ]
    },
    {
     "name": "stdout",
     "output_type": "stream",
     "text": [
      "🏃 View run whimsical-lark-824 at: http://127.0.0.1:5000/#/experiments/812027865869456740/runs/8aac68ac9f704fdb8dcce1255b334dd9\n",
      "🧪 View experiment at: http://127.0.0.1:5000/#/experiments/812027865869456740\n"
     ]
    },
    {
     "name": "stderr",
     "output_type": "stream",
     "text": [
      "[I 2025-08-16 01:57:46,922] Trial 62 finished with value: 0.17806871913898836 and parameters: {'regressor': 'GradientBoostingRegressor', 'n_estimators': 297, 'subsample': 0.6468706789263041, 'learning_rate': 0.1630836969195007, 'min_samples_split': 7, 'max_depth': 2, 'max_features': 'log2', 'target_transformer': 'sqrt'}. Best is trial 57 with value: 0.17762561605974067.\n"
     ]
    },
    {
     "name": "stdout",
     "output_type": "stream",
     "text": [
      "🏃 View run gaudy-horse-188 at: http://127.0.0.1:5000/#/experiments/812027865869456740/runs/55bddf43421d415f9be97831cdc8cb95\n",
      "🧪 View experiment at: http://127.0.0.1:5000/#/experiments/812027865869456740\n"
     ]
    },
    {
     "name": "stderr",
     "output_type": "stream",
     "text": [
      "[I 2025-08-16 01:58:35,465] Trial 63 finished with value: 0.17810932221364226 and parameters: {'regressor': 'GradientBoostingRegressor', 'n_estimators': 298, 'subsample': 0.6477652411509723, 'learning_rate': 0.20113277826866574, 'min_samples_split': 7, 'max_depth': 2, 'max_features': 'log2', 'target_transformer': 'sqrt'}. Best is trial 57 with value: 0.17762561605974067.\n"
     ]
    },
    {
     "name": "stdout",
     "output_type": "stream",
     "text": [
      "🏃 View run smiling-asp-724 at: http://127.0.0.1:5000/#/experiments/812027865869456740/runs/dc1603416d3e456194c337933058d30a\n",
      "🧪 View experiment at: http://127.0.0.1:5000/#/experiments/812027865869456740\n"
     ]
    },
    {
     "name": "stderr",
     "output_type": "stream",
     "text": [
      "[I 2025-08-16 01:59:21,326] Trial 64 finished with value: 0.17904648780542365 and parameters: {'regressor': 'GradientBoostingRegressor', 'n_estimators': 289, 'subsample': 0.6483597782133307, 'learning_rate': 0.19364457420244954, 'min_samples_split': 7, 'max_depth': 2, 'max_features': 'log2', 'target_transformer': 'sqrt'}. Best is trial 57 with value: 0.17762561605974067.\n"
     ]
    },
    {
     "name": "stdout",
     "output_type": "stream",
     "text": [
      "🏃 View run able-boar-40 at: http://127.0.0.1:5000/#/experiments/812027865869456740/runs/9f8a4ce50b954ac2b0e81dbd56220d90\n",
      "🧪 View experiment at: http://127.0.0.1:5000/#/experiments/812027865869456740\n"
     ]
    },
    {
     "name": "stderr",
     "output_type": "stream",
     "text": [
      "[I 2025-08-16 02:00:04,195] Trial 65 finished with value: 0.1796440393106045 and parameters: {'regressor': 'GradientBoostingRegressor', 'n_estimators': 269, 'subsample': 0.6432724724864981, 'learning_rate': 0.15987138585075086, 'min_samples_split': 6, 'max_depth': 2, 'max_features': 'log2', 'target_transformer': 'sqrt'}. Best is trial 57 with value: 0.17762561605974067.\n"
     ]
    },
    {
     "name": "stdout",
     "output_type": "stream",
     "text": [
      "🏃 View run sassy-cat-168 at: http://127.0.0.1:5000/#/experiments/812027865869456740/runs/454891618afd45c6a9d7556ffeb375b2\n",
      "🧪 View experiment at: http://127.0.0.1:5000/#/experiments/812027865869456740\n"
     ]
    },
    {
     "name": "stderr",
     "output_type": "stream",
     "text": [
      "[I 2025-08-16 02:01:04,804] Trial 66 finished with value: 0.18512284133918191 and parameters: {'regressor': 'GradientBoostingRegressor', 'n_estimators': 300, 'subsample': 0.6399252764113902, 'learning_rate': 0.38404899459255065, 'min_samples_split': 7, 'max_depth': 3, 'max_features': 'log2', 'target_transformer': 'sqrt'}. Best is trial 57 with value: 0.17762561605974067.\n"
     ]
    },
    {
     "name": "stdout",
     "output_type": "stream",
     "text": [
      "🏃 View run clean-perch-622 at: http://127.0.0.1:5000/#/experiments/812027865869456740/runs/21da000094d745b2a447964739849df8\n",
      "🧪 View experiment at: http://127.0.0.1:5000/#/experiments/812027865869456740\n"
     ]
    },
    {
     "name": "stderr",
     "output_type": "stream",
     "text": [
      "[I 2025-08-16 02:01:55,771] Trial 67 finished with value: 0.17518768573323054 and parameters: {'regressor': 'GradientBoostingRegressor', 'n_estimators': 251, 'subsample': 0.6382767675820679, 'learning_rate': 0.10214121258011617, 'min_samples_split': 6, 'max_depth': 3, 'max_features': 'log2', 'target_transformer': 'sqrt'}. Best is trial 67 with value: 0.17518768573323054.\n"
     ]
    },
    {
     "name": "stdout",
     "output_type": "stream",
     "text": [
      "🏃 View run zealous-swan-423 at: http://127.0.0.1:5000/#/experiments/812027865869456740/runs/a9f96f4e2d9842cf8cc040cb86397700\n",
      "🧪 View experiment at: http://127.0.0.1:5000/#/experiments/812027865869456740\n"
     ]
    },
    {
     "name": "stderr",
     "output_type": "stream",
     "text": [
      "[I 2025-08-16 02:02:45,864] Trial 68 finished with value: 0.17643904194828033 and parameters: {'regressor': 'GradientBoostingRegressor', 'n_estimators': 248, 'subsample': 0.5926503147932246, 'learning_rate': 0.07997723922413288, 'min_samples_split': 6, 'max_depth': 3, 'max_features': 'log2', 'target_transformer': 'sqrt'}. Best is trial 67 with value: 0.17518768573323054.\n"
     ]
    },
    {
     "name": "stdout",
     "output_type": "stream",
     "text": [
      "🏃 View run dashing-newt-647 at: http://127.0.0.1:5000/#/experiments/812027865869456740/runs/53368dc1bb824ab38153916fad3a2f13\n",
      "🧪 View experiment at: http://127.0.0.1:5000/#/experiments/812027865869456740\n"
     ]
    },
    {
     "name": "stderr",
     "output_type": "stream",
     "text": [
      "[I 2025-08-16 02:03:37,977] Trial 69 finished with value: 0.17631238546891162 and parameters: {'regressor': 'GradientBoostingRegressor', 'n_estimators': 254, 'subsample': 0.5851741024109964, 'learning_rate': 0.0813316096933794, 'min_samples_split': 5, 'max_depth': 3, 'max_features': 'log2', 'target_transformer': 'sqrt'}. Best is trial 67 with value: 0.17518768573323054.\n"
     ]
    },
    {
     "name": "stdout",
     "output_type": "stream",
     "text": [
      "🏃 View run dapper-mule-769 at: http://127.0.0.1:5000/#/experiments/812027865869456740/runs/3cf9a6fb7f3d4278b7915b8e593f9d36\n",
      "🧪 View experiment at: http://127.0.0.1:5000/#/experiments/812027865869456740\n"
     ]
    },
    {
     "name": "stderr",
     "output_type": "stream",
     "text": [
      "[I 2025-08-16 02:04:31,473] Trial 70 finished with value: 0.17565696235283254 and parameters: {'regressor': 'GradientBoostingRegressor', 'n_estimators': 270, 'subsample': 0.5579006401535234, 'learning_rate': 0.07484440845317286, 'min_samples_split': 5, 'max_depth': 3, 'max_features': 'log2', 'target_transformer': 'cbrt'}. Best is trial 67 with value: 0.17518768573323054.\n"
     ]
    },
    {
     "name": "stdout",
     "output_type": "stream",
     "text": [
      "🏃 View run nervous-goat-429 at: http://127.0.0.1:5000/#/experiments/812027865869456740/runs/c34b8ed7104e447aaa10f8736fe23772\n",
      "🧪 View experiment at: http://127.0.0.1:5000/#/experiments/812027865869456740\n"
     ]
    },
    {
     "name": "stderr",
     "output_type": "stream",
     "text": [
      "[I 2025-08-16 02:05:23,836] Trial 71 finished with value: 0.1753853168086215 and parameters: {'regressor': 'GradientBoostingRegressor', 'n_estimators': 270, 'subsample': 0.5738103586283151, 'learning_rate': 0.07887094585353452, 'min_samples_split': 5, 'max_depth': 3, 'max_features': 'log2', 'target_transformer': 'cbrt'}. Best is trial 67 with value: 0.17518768573323054.\n"
     ]
    },
    {
     "name": "stdout",
     "output_type": "stream",
     "text": [
      "🏃 View run nervous-duck-686 at: http://127.0.0.1:5000/#/experiments/812027865869456740/runs/919a65bb3dc14a9a982719db6841eef7\n",
      "🧪 View experiment at: http://127.0.0.1:5000/#/experiments/812027865869456740\n"
     ]
    },
    {
     "name": "stderr",
     "output_type": "stream",
     "text": [
      "[I 2025-08-16 02:06:16,026] Trial 72 finished with value: 0.1758856890166329 and parameters: {'regressor': 'GradientBoostingRegressor', 'n_estimators': 262, 'subsample': 0.5709494019649736, 'learning_rate': 0.08474366271780415, 'min_samples_split': 5, 'max_depth': 3, 'max_features': 'log2', 'target_transformer': 'cbrt'}. Best is trial 67 with value: 0.17518768573323054.\n"
     ]
    },
    {
     "name": "stdout",
     "output_type": "stream",
     "text": [
      "🏃 View run exultant-skunk-615 at: http://127.0.0.1:5000/#/experiments/812027865869456740/runs/8914e070454745f8acdd23f0a7b73581\n",
      "🧪 View experiment at: http://127.0.0.1:5000/#/experiments/812027865869456740\n"
     ]
    },
    {
     "name": "stderr",
     "output_type": "stream",
     "text": [
      "[I 2025-08-16 02:07:12,222] Trial 73 finished with value: 0.1756251942973619 and parameters: {'regressor': 'GradientBoostingRegressor', 'n_estimators': 265, 'subsample': 0.5643857936490732, 'learning_rate': 0.07726092858511362, 'min_samples_split': 5, 'max_depth': 3, 'max_features': 'log2', 'target_transformer': 'cbrt'}. Best is trial 67 with value: 0.17518768573323054.\n"
     ]
    },
    {
     "name": "stdout",
     "output_type": "stream",
     "text": [
      "🏃 View run wistful-sheep-570 at: http://127.0.0.1:5000/#/experiments/812027865869456740/runs/cd3ca40320b2495f98ffe9f6fb9c58f5\n",
      "🧪 View experiment at: http://127.0.0.1:5000/#/experiments/812027865869456740\n"
     ]
    },
    {
     "name": "stderr",
     "output_type": "stream",
     "text": [
      "[I 2025-08-16 02:07:54,340] Trial 74 finished with value: 0.17699914468751224 and parameters: {'regressor': 'GradientBoostingRegressor', 'n_estimators': 255, 'subsample': 0.5707418502539361, 'learning_rate': 0.08252155885781032, 'min_samples_split': 5, 'max_depth': 3, 'max_features': 'log2', 'target_transformer': 'cbrt'}. Best is trial 67 with value: 0.17518768573323054.\n"
     ]
    },
    {
     "name": "stdout",
     "output_type": "stream",
     "text": [
      "🏃 View run learned-worm-463 at: http://127.0.0.1:5000/#/experiments/812027865869456740/runs/7c94f7c745b9428bb4d6860ce0a16b23\n",
      "🧪 View experiment at: http://127.0.0.1:5000/#/experiments/812027865869456740\n"
     ]
    },
    {
     "name": "stderr",
     "output_type": "stream",
     "text": [
      "[I 2025-08-16 02:08:39,746] Trial 75 finished with value: 0.17614366376169519 and parameters: {'regressor': 'GradientBoostingRegressor', 'n_estimators': 261, 'subsample': 0.5657770684246135, 'learning_rate': 0.07371135647184669, 'min_samples_split': 5, 'max_depth': 3, 'max_features': 'log2', 'target_transformer': 'cbrt'}. Best is trial 67 with value: 0.17518768573323054.\n"
     ]
    },
    {
     "name": "stdout",
     "output_type": "stream",
     "text": [
      "🏃 View run amazing-goat-903 at: http://127.0.0.1:5000/#/experiments/812027865869456740/runs/95669a2d454144c7b0f7183009e21e7b\n",
      "🧪 View experiment at: http://127.0.0.1:5000/#/experiments/812027865869456740\n"
     ]
    },
    {
     "name": "stderr",
     "output_type": "stream",
     "text": [
      "[I 2025-08-16 02:09:26,499] Trial 76 finished with value: 0.18344060373141335 and parameters: {'regressor': 'GradientBoostingRegressor', 'n_estimators': 261, 'subsample': 0.5716586023880506, 'learning_rate': 0.02648975723506036, 'min_samples_split': 4, 'max_depth': 3, 'max_features': 'log2', 'target_transformer': 'cbrt'}. Best is trial 67 with value: 0.17518768573323054.\n"
     ]
    },
    {
     "name": "stdout",
     "output_type": "stream",
     "text": [
      "🏃 View run loud-dove-531 at: http://127.0.0.1:5000/#/experiments/812027865869456740/runs/b8c61990297d499db64242cf78ef8e33\n",
      "🧪 View experiment at: http://127.0.0.1:5000/#/experiments/812027865869456740\n"
     ]
    },
    {
     "name": "stderr",
     "output_type": "stream",
     "text": [
      "[I 2025-08-16 02:12:12,241] Trial 77 finished with value: 0.18461260723636488 and parameters: {'regressor': 'GradientBoostingRegressor', 'n_estimators': 276, 'subsample': 0.5701772299945919, 'learning_rate': 0.0854247808407575, 'min_samples_split': 5, 'max_depth': 4, 'max_features': None, 'target_transformer': 'cbrt'}. Best is trial 67 with value: 0.17518768573323054.\n"
     ]
    },
    {
     "name": "stdout",
     "output_type": "stream",
     "text": [
      "🏃 View run handsome-cat-194 at: http://127.0.0.1:5000/#/experiments/812027865869456740/runs/7b5f8496d52e4dc886157e05cd57d657\n",
      "🧪 View experiment at: http://127.0.0.1:5000/#/experiments/812027865869456740\n"
     ]
    },
    {
     "name": "stderr",
     "output_type": "stream",
     "text": [
      "[I 2025-08-16 02:13:14,142] Trial 78 finished with value: 0.17566127169569568 and parameters: {'regressor': 'GradientBoostingRegressor', 'n_estimators': 276, 'subsample': 0.5793492407445225, 'learning_rate': 0.031573231056732334, 'min_samples_split': 4, 'max_depth': 4, 'max_features': 'log2', 'target_transformer': 'cbrt'}. Best is trial 67 with value: 0.17518768573323054.\n"
     ]
    },
    {
     "name": "stdout",
     "output_type": "stream",
     "text": [
      "🏃 View run masked-ram-120 at: http://127.0.0.1:5000/#/experiments/812027865869456740/runs/72d309dab107462c86c26cc48eea04bc\n",
      "🧪 View experiment at: http://127.0.0.1:5000/#/experiments/812027865869456740\n"
     ]
    },
    {
     "name": "stderr",
     "output_type": "stream",
     "text": [
      "[I 2025-08-16 02:14:14,398] Trial 79 finished with value: 0.17875761629317444 and parameters: {'regressor': 'GradientBoostingRegressor', 'n_estimators': 280, 'subsample': 0.5424435198594917, 'learning_rate': 0.021357523767772384, 'min_samples_split': 4, 'max_depth': 4, 'max_features': 'log2', 'target_transformer': 'cbrt'}. Best is trial 67 with value: 0.17518768573323054.\n"
     ]
    },
    {
     "name": "stdout",
     "output_type": "stream",
     "text": [
      "🏃 View run mysterious-skink-91 at: http://127.0.0.1:5000/#/experiments/812027865869456740/runs/2e0d10a67681498b8bf0a8e475f1c7c7\n",
      "🧪 View experiment at: http://127.0.0.1:5000/#/experiments/812027865869456740\n"
     ]
    },
    {
     "name": "stderr",
     "output_type": "stream",
     "text": [
      "[I 2025-08-16 02:15:15,229] Trial 80 finished with value: 0.17598097939598492 and parameters: {'regressor': 'GradientBoostingRegressor', 'n_estimators': 264, 'subsample': 0.5973672881820791, 'learning_rate': 0.03172522366644742, 'min_samples_split': 3, 'max_depth': 4, 'max_features': 'log2', 'target_transformer': 'cbrt'}. Best is trial 67 with value: 0.17518768573323054.\n"
     ]
    },
    {
     "name": "stdout",
     "output_type": "stream",
     "text": [
      "🏃 View run popular-auk-706 at: http://127.0.0.1:5000/#/experiments/812027865869456740/runs/2ed197795fd0436680e3f853685b94bf\n",
      "🧪 View experiment at: http://127.0.0.1:5000/#/experiments/812027865869456740\n"
     ]
    },
    {
     "name": "stderr",
     "output_type": "stream",
     "text": [
      "[I 2025-08-16 02:16:14,377] Trial 81 finished with value: 0.1759306172556422 and parameters: {'regressor': 'GradientBoostingRegressor', 'n_estimators': 261, 'subsample': 0.5917665152072358, 'learning_rate': 0.031639515536354496, 'min_samples_split': 3, 'max_depth': 4, 'max_features': 'log2', 'target_transformer': 'cbrt'}. Best is trial 67 with value: 0.17518768573323054.\n"
     ]
    },
    {
     "name": "stdout",
     "output_type": "stream",
     "text": [
      "🏃 View run gregarious-skunk-505 at: http://127.0.0.1:5000/#/experiments/812027865869456740/runs/5c1dfde56e624eb587cf4c9fdf034b40\n",
      "🧪 View experiment at: http://127.0.0.1:5000/#/experiments/812027865869456740\n"
     ]
    },
    {
     "name": "stderr",
     "output_type": "stream",
     "text": [
      "[I 2025-08-16 02:17:17,233] Trial 82 finished with value: 0.17560951634215813 and parameters: {'regressor': 'GradientBoostingRegressor', 'n_estimators': 264, 'subsample': 0.6010379851351045, 'learning_rate': 0.03290832167062867, 'min_samples_split': 3, 'max_depth': 4, 'max_features': 'log2', 'target_transformer': 'cbrt'}. Best is trial 67 with value: 0.17518768573323054.\n"
     ]
    },
    {
     "name": "stdout",
     "output_type": "stream",
     "text": [
      "🏃 View run sincere-wren-5 at: http://127.0.0.1:5000/#/experiments/812027865869456740/runs/23caca607ec7453e90f3c80a43987ceb\n",
      "🧪 View experiment at: http://127.0.0.1:5000/#/experiments/812027865869456740\n"
     ]
    },
    {
     "name": "stderr",
     "output_type": "stream",
     "text": [
      "[I 2025-08-16 02:18:22,538] Trial 83 finished with value: 0.17520294150135632 and parameters: {'regressor': 'GradientBoostingRegressor', 'n_estimators': 279, 'subsample': 0.6031080278743468, 'learning_rate': 0.03271234068864466, 'min_samples_split': 3, 'max_depth': 4, 'max_features': 'log2', 'target_transformer': 'cbrt'}. Best is trial 67 with value: 0.17518768573323054.\n"
     ]
    },
    {
     "name": "stdout",
     "output_type": "stream",
     "text": [
      "🏃 View run abundant-mink-439 at: http://127.0.0.1:5000/#/experiments/812027865869456740/runs/2d9d4677602e4df48c0ebbca5ab67773\n",
      "🧪 View experiment at: http://127.0.0.1:5000/#/experiments/812027865869456740\n"
     ]
    },
    {
     "name": "stderr",
     "output_type": "stream",
     "text": [
      "[I 2025-08-16 02:19:31,163] Trial 84 finished with value: 0.1814279332001328 and parameters: {'regressor': 'GradientBoostingRegressor', 'n_estimators': 279, 'subsample': 0.6017132980054996, 'learning_rate': 0.01664631325390202, 'min_samples_split': 3, 'max_depth': 4, 'max_features': 'log2', 'target_transformer': 'cbrt'}. Best is trial 67 with value: 0.17518768573323054.\n"
     ]
    },
    {
     "name": "stdout",
     "output_type": "stream",
     "text": [
      "🏃 View run enthused-duck-268 at: http://127.0.0.1:5000/#/experiments/812027865869456740/runs/263c2f846de54c79aa93fca718d78e6a\n",
      "🧪 View experiment at: http://127.0.0.1:5000/#/experiments/812027865869456740\n"
     ]
    },
    {
     "name": "stderr",
     "output_type": "stream",
     "text": [
      "[I 2025-08-16 02:19:34,334] Trial 85 finished with value: 0.2041266618064078 and parameters: {'regressor': 'LassoRegression', 'alpha': 0.0011648271371262715, 'fit_intercept': True, 'target_transformer': 'cbrt'}. Best is trial 67 with value: 0.17518768573323054.\n"
     ]
    },
    {
     "name": "stdout",
     "output_type": "stream",
     "text": [
      "🏃 View run colorful-wolf-972 at: http://127.0.0.1:5000/#/experiments/812027865869456740/runs/5fa3d3bde1464a49846653b3cd1b1c24\n",
      "🧪 View experiment at: http://127.0.0.1:5000/#/experiments/812027865869456740\n"
     ]
    },
    {
     "name": "stderr",
     "output_type": "stream",
     "text": [
      "[I 2025-08-16 02:20:49,958] Trial 86 finished with value: 0.17363717471086904 and parameters: {'regressor': 'GradientBoostingRegressor', 'n_estimators': 286, 'subsample': 0.5359629968000036, 'learning_rate': 0.04585903921106919, 'min_samples_split': 3, 'max_depth': 5, 'max_features': 'log2', 'target_transformer': 'cbrt'}. Best is trial 86 with value: 0.17363717471086904.\n"
     ]
    },
    {
     "name": "stdout",
     "output_type": "stream",
     "text": [
      "🏃 View run upbeat-squirrel-233 at: http://127.0.0.1:5000/#/experiments/812027865869456740/runs/1fdc8d6ad4244d74a2f903714cc8b55e\n",
      "🧪 View experiment at: http://127.0.0.1:5000/#/experiments/812027865869456740\n"
     ]
    },
    {
     "name": "stderr",
     "output_type": "stream",
     "text": [
      "[I 2025-08-16 02:24:25,340] Trial 87 finished with value: 0.18080830680525126 and parameters: {'regressor': 'GradientBoostingRegressor', 'n_estimators': 288, 'subsample': 0.5369724930446214, 'learning_rate': 0.04905665515012711, 'min_samples_split': 2, 'max_depth': 5, 'max_features': None, 'target_transformer': 'cbrt'}. Best is trial 86 with value: 0.17363717471086904.\n"
     ]
    },
    {
     "name": "stdout",
     "output_type": "stream",
     "text": [
      "🏃 View run adventurous-rat-538 at: http://127.0.0.1:5000/#/experiments/812027865869456740/runs/3610b090815044c2b7fe6a78eec9def5\n",
      "🧪 View experiment at: http://127.0.0.1:5000/#/experiments/812027865869456740\n"
     ]
    },
    {
     "name": "stderr",
     "output_type": "stream",
     "text": [
      "[I 2025-08-16 02:24:26,533] Trial 88 finished with value: 0.20074585755388785 and parameters: {'regressor': 'RidgeRegression', 'alpha': 0.08551004781065727, 'fit_intercept': True, 'target_transformer': 'cbrt'}. Best is trial 86 with value: 0.17363717471086904.\n"
     ]
    },
    {
     "name": "stdout",
     "output_type": "stream",
     "text": [
      "🏃 View run delightful-slug-232 at: http://127.0.0.1:5000/#/experiments/812027865869456740/runs/8daeaada240a4278aa73226059f2f41c\n",
      "🧪 View experiment at: http://127.0.0.1:5000/#/experiments/812027865869456740\n"
     ]
    },
    {
     "name": "stderr",
     "output_type": "stream",
     "text": [
      "[I 2025-08-16 02:29:10,399] Trial 89 finished with value: 0.21850840562986482 and parameters: {'regressor': 'AdaBoostRegressor', 'n_estimators': 272, 'learning_rate': 0.05224238074132753, 'loss': 'square', 'target_transformer': 'cbrt'}. Best is trial 86 with value: 0.17363717471086904.\n"
     ]
    },
    {
     "name": "stdout",
     "output_type": "stream",
     "text": [
      "🏃 View run gregarious-pig-111 at: http://127.0.0.1:5000/#/experiments/812027865869456740/runs/17cd8c0e19e947a9b58a76837311ce65\n",
      "🧪 View experiment at: http://127.0.0.1:5000/#/experiments/812027865869456740\n"
     ]
    },
    {
     "name": "stderr",
     "output_type": "stream",
     "text": [
      "[I 2025-08-16 02:30:19,472] Trial 90 finished with value: 0.18024141891062687 and parameters: {'regressor': 'GradientBoostingRegressor', 'n_estimators': 241, 'subsample': 0.5400147739458546, 'learning_rate': 0.014751212519479398, 'min_samples_split': 4, 'max_depth': 5, 'max_features': 'log2', 'target_transformer': 'cbrt'}. Best is trial 86 with value: 0.17363717471086904.\n"
     ]
    },
    {
     "name": "stdout",
     "output_type": "stream",
     "text": [
      "🏃 View run wistful-bee-865 at: http://127.0.0.1:5000/#/experiments/812027865869456740/runs/b3430059bdde408c8738ee6391662c53\n",
      "🧪 View experiment at: http://127.0.0.1:5000/#/experiments/812027865869456740\n"
     ]
    },
    {
     "name": "stderr",
     "output_type": "stream",
     "text": [
      "[I 2025-08-16 02:31:31,347] Trial 91 finished with value: 0.1749187693434375 and parameters: {'regressor': 'GradientBoostingRegressor', 'n_estimators': 285, 'subsample': 0.6088179809899689, 'learning_rate': 0.037450626949218024, 'min_samples_split': 3, 'max_depth': 4, 'max_features': 'log2', 'target_transformer': 'cbrt'}. Best is trial 86 with value: 0.17363717471086904.\n"
     ]
    },
    {
     "name": "stdout",
     "output_type": "stream",
     "text": [
      "🏃 View run powerful-donkey-850 at: http://127.0.0.1:5000/#/experiments/812027865869456740/runs/656984239c744539bed986b5d9696c76\n",
      "🧪 View experiment at: http://127.0.0.1:5000/#/experiments/812027865869456740\n"
     ]
    },
    {
     "name": "stderr",
     "output_type": "stream",
     "text": [
      "[I 2025-08-16 02:32:30,995] Trial 92 finished with value: 0.17370988534488838 and parameters: {'regressor': 'GradientBoostingRegressor', 'n_estimators': 284, 'subsample': 0.5331801785206092, 'learning_rate': 0.03861129859140313, 'min_samples_split': 3, 'max_depth': 4, 'max_features': 'log2', 'target_transformer': 'cbrt'}. Best is trial 86 with value: 0.17363717471086904.\n"
     ]
    },
    {
     "name": "stdout",
     "output_type": "stream",
     "text": [
      "🏃 View run wise-shrike-59 at: http://127.0.0.1:5000/#/experiments/812027865869456740/runs/fe17c52b5717426585c18a0e22a981a8\n",
      "🧪 View experiment at: http://127.0.0.1:5000/#/experiments/812027865869456740\n"
     ]
    },
    {
     "name": "stderr",
     "output_type": "stream",
     "text": [
      "[I 2025-08-16 02:33:29,750] Trial 93 finished with value: 0.17416628996792757 and parameters: {'regressor': 'GradientBoostingRegressor', 'n_estimators': 285, 'subsample': 0.5225223316063524, 'learning_rate': 0.038107037376851366, 'min_samples_split': 3, 'max_depth': 4, 'max_features': 'log2', 'target_transformer': 'cbrt'}. Best is trial 86 with value: 0.17363717471086904.\n"
     ]
    },
    {
     "name": "stdout",
     "output_type": "stream",
     "text": [
      "🏃 View run traveling-frog-210 at: http://127.0.0.1:5000/#/experiments/812027865869456740/runs/a2c80747d732475d945dad3246dfa9c1\n",
      "🧪 View experiment at: http://127.0.0.1:5000/#/experiments/812027865869456740\n"
     ]
    },
    {
     "name": "stderr",
     "output_type": "stream",
     "text": [
      "[I 2025-08-16 02:33:31,358] Trial 94 finished with value: 0.22929661754654065 and parameters: {'regressor': 'LinearRegression', 'fit_intercept': False, 'target_transformer': 'cbrt'}. Best is trial 86 with value: 0.17363717471086904.\n"
     ]
    },
    {
     "name": "stdout",
     "output_type": "stream",
     "text": [
      "🏃 View run popular-sheep-293 at: http://127.0.0.1:5000/#/experiments/812027865869456740/runs/5c7d497b9b4947f1b919b1ac2037d211\n",
      "🧪 View experiment at: http://127.0.0.1:5000/#/experiments/812027865869456740\n"
     ]
    },
    {
     "name": "stderr",
     "output_type": "stream",
     "text": [
      "[I 2025-08-16 02:34:46,963] Trial 95 finished with value: 0.363783444049856 and parameters: {'regressor': 'KNeighborsRegressor', 'n_neighbors': 20, 'weights': 'distance', 'p': 2, 'target_transformer': 'cbrt'}. Best is trial 86 with value: 0.17363717471086904.\n"
     ]
    },
    {
     "name": "stdout",
     "output_type": "stream",
     "text": [
      "🏃 View run resilient-robin-164 at: http://127.0.0.1:5000/#/experiments/812027865869456740/runs/609ab740282b40c19db43eea9ca5c350\n",
      "🧪 View experiment at: http://127.0.0.1:5000/#/experiments/812027865869456740\n"
     ]
    },
    {
     "name": "stderr",
     "output_type": "stream",
     "text": [
      "[I 2025-08-16 02:34:59,734] Trial 96 finished with value: 0.17807034572015903 and parameters: {'regressor': 'XGBRegressor', 'n_estimators': 284, 'learning_rate': 0.04120564113463462, 'max_depth': 5, 'subsample': 0.5197603192258188, 'colsample_bytree': 0.7169129109029861, 'target_transformer': 'cbrt'}. Best is trial 86 with value: 0.17363717471086904.\n"
     ]
    },
    {
     "name": "stdout",
     "output_type": "stream",
     "text": [
      "🏃 View run merciful-dolphin-350 at: http://127.0.0.1:5000/#/experiments/812027865869456740/runs/b21fd776ca8c44fdb544a5a990f5720c\n",
      "🧪 View experiment at: http://127.0.0.1:5000/#/experiments/812027865869456740\n"
     ]
    },
    {
     "name": "stderr",
     "output_type": "stream",
     "text": [
      "[I 2025-08-16 02:36:03,718] Trial 97 finished with value: 0.1762496349461482 and parameters: {'regressor': 'GradientBoostingRegressor', 'n_estimators': 290, 'subsample': 0.5001061263930376, 'learning_rate': 0.11851481714546168, 'min_samples_split': 2, 'max_depth': 4, 'max_features': 'log2', 'target_transformer': 'cbrt'}. Best is trial 86 with value: 0.17363717471086904.\n"
     ]
    },
    {
     "name": "stdout",
     "output_type": "stream",
     "text": [
      "🏃 View run debonair-shad-253 at: http://127.0.0.1:5000/#/experiments/812027865869456740/runs/06dcae0a694f447ca783ecdfe7a9446b\n",
      "🧪 View experiment at: http://127.0.0.1:5000/#/experiments/812027865869456740\n"
     ]
    },
    {
     "name": "stderr",
     "output_type": "stream",
     "text": [
      "[I 2025-08-16 02:37:27,827] Trial 98 finished with value: 0.1754093937645682 and parameters: {'regressor': 'GradientBoostingRegressor', 'n_estimators': 282, 'subsample': 0.5368724659388656, 'learning_rate': 0.04550738874487387, 'min_samples_split': 3, 'max_depth': 6, 'max_features': 'log2', 'target_transformer': 'cbrt'}. Best is trial 86 with value: 0.17363717471086904.\n"
     ]
    },
    {
     "name": "stdout",
     "output_type": "stream",
     "text": [
      "🏃 View run mercurial-grouse-51 at: http://127.0.0.1:5000/#/experiments/812027865869456740/runs/41280be5d2934bbd8d62d294d3d1b6fa\n",
      "🧪 View experiment at: http://127.0.0.1:5000/#/experiments/812027865869456740\n"
     ]
    },
    {
     "name": "stderr",
     "output_type": "stream",
     "text": [
      "[I 2025-08-16 02:38:58,279] Trial 99 finished with value: 0.1727625047735808 and parameters: {'regressor': 'GradientBoostingRegressor', 'n_estimators': 284, 'subsample': 0.6165568631219859, 'learning_rate': 0.041888636625121864, 'min_samples_split': 3, 'max_depth': 6, 'max_features': 'log2', 'target_transformer': 'log'}. Best is trial 99 with value: 0.1727625047735808.\n"
     ]
    },
    {
     "name": "stdout",
     "output_type": "stream",
     "text": [
      "🏃 View run able-worm-431 at: http://127.0.0.1:5000/#/experiments/812027865869456740/runs/54ab1c63321b4c18a2c18fc63b6f9939\n",
      "🧪 View experiment at: http://127.0.0.1:5000/#/experiments/812027865869456740\n"
     ]
    },
    {
     "name": "stderr",
     "output_type": "stream",
     "text": [
      "[I 2025-08-16 02:40:28,554] Trial 100 finished with value: 0.1740480309981137 and parameters: {'regressor': 'GradientBoostingRegressor', 'n_estimators': 283, 'subsample': 0.6161253513178943, 'learning_rate': 0.039253762786735924, 'min_samples_split': 3, 'max_depth': 6, 'max_features': 'log2', 'target_transformer': 'cbrt'}. Best is trial 99 with value: 0.1727625047735808.\n"
     ]
    },
    {
     "name": "stdout",
     "output_type": "stream",
     "text": [
      "🏃 View run delightful-steed-622 at: http://127.0.0.1:5000/#/experiments/812027865869456740/runs/f96b6efd71c343f1b90a9936305d2a6a\n",
      "🧪 View experiment at: http://127.0.0.1:5000/#/experiments/812027865869456740\n"
     ]
    },
    {
     "name": "stderr",
     "output_type": "stream",
     "text": [
      "[I 2025-08-16 02:41:58,723] Trial 101 finished with value: 0.17289706819111136 and parameters: {'regressor': 'GradientBoostingRegressor', 'n_estimators': 293, 'subsample': 0.6106329206401914, 'learning_rate': 0.0411698051496124, 'min_samples_split': 3, 'max_depth': 6, 'max_features': 'log2', 'target_transformer': 'log'}. Best is trial 99 with value: 0.1727625047735808.\n"
     ]
    },
    {
     "name": "stdout",
     "output_type": "stream",
     "text": [
      "🏃 View run suave-snake-360 at: http://127.0.0.1:5000/#/experiments/812027865869456740/runs/e3d0e4cc073c41528f8bb7e6d23a7b01\n",
      "🧪 View experiment at: http://127.0.0.1:5000/#/experiments/812027865869456740\n"
     ]
    },
    {
     "name": "stderr",
     "output_type": "stream",
     "text": [
      "[I 2025-08-16 02:43:24,092] Trial 102 finished with value: 0.1743867675776031 and parameters: {'regressor': 'GradientBoostingRegressor', 'n_estimators': 294, 'subsample': 0.520307847772708, 'learning_rate': 0.05046241364694504, 'min_samples_split': 3, 'max_depth': 6, 'max_features': 'log2', 'target_transformer': 'log'}. Best is trial 99 with value: 0.1727625047735808.\n"
     ]
    },
    {
     "name": "stdout",
     "output_type": "stream",
     "text": [
      "🏃 View run clumsy-conch-487 at: http://127.0.0.1:5000/#/experiments/812027865869456740/runs/e41ac67ae1674a6e82bba3cb0b23cf6d\n",
      "🧪 View experiment at: http://127.0.0.1:5000/#/experiments/812027865869456740\n"
     ]
    },
    {
     "name": "stderr",
     "output_type": "stream",
     "text": [
      "[I 2025-08-16 02:44:57,503] Trial 103 finished with value: 0.1729343705849318 and parameters: {'regressor': 'GradientBoostingRegressor', 'n_estimators': 294, 'subsample': 0.6125034824339296, 'learning_rate': 0.01963477721836941, 'min_samples_split': 3, 'max_depth': 6, 'max_features': 'log2', 'target_transformer': 'log'}. Best is trial 99 with value: 0.1727625047735808.\n"
     ]
    },
    {
     "name": "stdout",
     "output_type": "stream",
     "text": [
      "🏃 View run suave-cod-567 at: http://127.0.0.1:5000/#/experiments/812027865869456740/runs/8da06f5421be489796018c7b2bec4a09\n",
      "🧪 View experiment at: http://127.0.0.1:5000/#/experiments/812027865869456740\n"
     ]
    },
    {
     "name": "stderr",
     "output_type": "stream",
     "text": [
      "[I 2025-08-16 02:46:37,445] Trial 104 finished with value: 0.17359746783108299 and parameters: {'regressor': 'GradientBoostingRegressor', 'n_estimators': 293, 'subsample': 0.7128698512151234, 'learning_rate': 0.021005717285787446, 'min_samples_split': 3, 'max_depth': 6, 'max_features': 'log2', 'target_transformer': 'log'}. Best is trial 99 with value: 0.1727625047735808.\n"
     ]
    },
    {
     "name": "stdout",
     "output_type": "stream",
     "text": [
      "🏃 View run omniscient-dog-337 at: http://127.0.0.1:5000/#/experiments/812027865869456740/runs/69bf2aa9a71a4503a17d129f71292c3b\n",
      "🧪 View experiment at: http://127.0.0.1:5000/#/experiments/812027865869456740\n"
     ]
    },
    {
     "name": "stderr",
     "output_type": "stream",
     "text": [
      "[I 2025-08-16 02:48:19,394] Trial 105 finished with value: 0.17667342546905793 and parameters: {'regressor': 'GradientBoostingRegressor', 'n_estimators': 294, 'subsample': 0.6922585988945625, 'learning_rate': 0.014068613150606988, 'min_samples_split': 2, 'max_depth': 6, 'max_features': 'log2', 'target_transformer': 'log'}. Best is trial 99 with value: 0.1727625047735808.\n"
     ]
    },
    {
     "name": "stdout",
     "output_type": "stream",
     "text": [
      "🏃 View run unruly-panda-516 at: http://127.0.0.1:5000/#/experiments/812027865869456740/runs/86d3b65aee084e819699f790394750fb\n",
      "🧪 View experiment at: http://127.0.0.1:5000/#/experiments/812027865869456740\n"
     ]
    },
    {
     "name": "stderr",
     "output_type": "stream",
     "text": [
      "[I 2025-08-16 02:48:23,053] Trial 106 finished with value: 0.22924503240672486 and parameters: {'regressor': 'LassoRegression', 'alpha': 0.038157876921300876, 'fit_intercept': False, 'target_transformer': 'log'}. Best is trial 99 with value: 0.1727625047735808.\n"
     ]
    },
    {
     "name": "stdout",
     "output_type": "stream",
     "text": [
      "🏃 View run unruly-snail-691 at: http://127.0.0.1:5000/#/experiments/812027865869456740/runs/3fd3ea6d6c074954959505dc210a4829\n",
      "🧪 View experiment at: http://127.0.0.1:5000/#/experiments/812027865869456740\n"
     ]
    },
    {
     "name": "stderr",
     "output_type": "stream",
     "text": [
      "[I 2025-08-16 02:54:50,106] Trial 107 finished with value: 0.177648609895269 and parameters: {'regressor': 'GradientBoostingRegressor', 'n_estimators': 294, 'subsample': 0.7511231401434652, 'learning_rate': 0.009659102400735559, 'min_samples_split': 3, 'max_depth': 7, 'max_features': None, 'target_transformer': 'log'}. Best is trial 99 with value: 0.1727625047735808.\n"
     ]
    },
    {
     "name": "stdout",
     "output_type": "stream",
     "text": [
      "🏃 View run delicate-bug-930 at: http://127.0.0.1:5000/#/experiments/812027865869456740/runs/d6d5356f43bd4b428bfcfc3935cfa154\n",
      "🧪 View experiment at: http://127.0.0.1:5000/#/experiments/812027865869456740\n"
     ]
    },
    {
     "name": "stderr",
     "output_type": "stream",
     "text": [
      "[I 2025-08-16 02:54:51,806] Trial 108 finished with value: 0.19848430418761967 and parameters: {'regressor': 'RidgeRegression', 'alpha': 0.2919815766922954, 'fit_intercept': True, 'target_transformer': 'log'}. Best is trial 99 with value: 0.1727625047735808.\n"
     ]
    },
    {
     "name": "stdout",
     "output_type": "stream",
     "text": [
      "🏃 View run unleashed-lamb-808 at: http://127.0.0.1:5000/#/experiments/812027865869456740/runs/ae91a1160368433fb0d8eecf4e1ab89c\n",
      "🧪 View experiment at: http://127.0.0.1:5000/#/experiments/812027865869456740\n"
     ]
    },
    {
     "name": "stderr",
     "output_type": "stream",
     "text": [
      "[I 2025-08-16 03:00:05,319] Trial 109 finished with value: 0.21048237845831744 and parameters: {'regressor': 'AdaBoostRegressor', 'n_estimators': 300, 'learning_rate': 0.020602898005968887, 'loss': 'exponential', 'target_transformer': 'log'}. Best is trial 99 with value: 0.1727625047735808.\n"
     ]
    },
    {
     "name": "stdout",
     "output_type": "stream",
     "text": [
      "🏃 View run fearless-yak-954 at: http://127.0.0.1:5000/#/experiments/812027865869456740/runs/cd72d8e3feaa49e8b12693fef090ce18\n",
      "🧪 View experiment at: http://127.0.0.1:5000/#/experiments/812027865869456740\n"
     ]
    },
    {
     "name": "stderr",
     "output_type": "stream",
     "text": [
      "[I 2025-08-16 03:01:52,712] Trial 110 finished with value: 0.18091282343968526 and parameters: {'regressor': 'GradientBoostingRegressor', 'n_estimators': 289, 'subsample': 0.6212102567367491, 'learning_rate': 0.055208302429866025, 'min_samples_split': 3, 'max_depth': 7, 'max_features': 'log2', 'target_transformer': 'log'}. Best is trial 99 with value: 0.1727625047735808.\n"
     ]
    },
    {
     "name": "stdout",
     "output_type": "stream",
     "text": [
      "🏃 View run awesome-skunk-574 at: http://127.0.0.1:5000/#/experiments/812027865869456740/runs/314d622f61bb4e57a63c87ab58b01a54\n",
      "🧪 View experiment at: http://127.0.0.1:5000/#/experiments/812027865869456740\n"
     ]
    },
    {
     "name": "stderr",
     "output_type": "stream",
     "text": [
      "[I 2025-08-16 03:03:33,218] Trial 111 finished with value: 0.17108495337792665 and parameters: {'regressor': 'GradientBoostingRegressor', 'n_estimators': 284, 'subsample': 0.6875027427271567, 'learning_rate': 0.0388530213860598, 'min_samples_split': 3, 'max_depth': 6, 'max_features': 'log2', 'target_transformer': 'log'}. Best is trial 111 with value: 0.17108495337792665.\n"
     ]
    },
    {
     "name": "stdout",
     "output_type": "stream",
     "text": [
      "🏃 View run whimsical-hound-352 at: http://127.0.0.1:5000/#/experiments/812027865869456740/runs/5520c9ed49ea4757b93b772ba366c97f\n",
      "🧪 View experiment at: http://127.0.0.1:5000/#/experiments/812027865869456740\n"
     ]
    },
    {
     "name": "stderr",
     "output_type": "stream",
     "text": [
      "[I 2025-08-16 03:05:11,774] Trial 112 finished with value: 0.17265235609064963 and parameters: {'regressor': 'GradientBoostingRegressor', 'n_estimators': 287, 'subsample': 0.6843761613916566, 'learning_rate': 0.022592118893290058, 'min_samples_split': 3, 'max_depth': 6, 'max_features': 'log2', 'target_transformer': 'log'}. Best is trial 111 with value: 0.17108495337792665.\n"
     ]
    },
    {
     "name": "stdout",
     "output_type": "stream",
     "text": [
      "🏃 View run upbeat-dolphin-102 at: http://127.0.0.1:5000/#/experiments/812027865869456740/runs/fea8dae5be994935937812d23296ec07\n",
      "🧪 View experiment at: http://127.0.0.1:5000/#/experiments/812027865869456740\n"
     ]
    },
    {
     "name": "stderr",
     "output_type": "stream",
     "text": [
      "[I 2025-08-16 03:06:47,846] Trial 113 finished with value: 0.17247393895473825 and parameters: {'regressor': 'GradientBoostingRegressor', 'n_estimators': 285, 'subsample': 0.6902360077100452, 'learning_rate': 0.022708475748735253, 'min_samples_split': 3, 'max_depth': 6, 'max_features': 'log2', 'target_transformer': 'log'}. Best is trial 111 with value: 0.17108495337792665.\n"
     ]
    },
    {
     "name": "stdout",
     "output_type": "stream",
     "text": [
      "🏃 View run big-seal-64 at: http://127.0.0.1:5000/#/experiments/812027865869456740/runs/9742f33ebc0740d48941e2da9c5a9c43\n",
      "🧪 View experiment at: http://127.0.0.1:5000/#/experiments/812027865869456740\n"
     ]
    },
    {
     "name": "stderr",
     "output_type": "stream",
     "text": [
      "[I 2025-08-16 03:08:28,175] Trial 114 finished with value: 0.17201719690784037 and parameters: {'regressor': 'GradientBoostingRegressor', 'n_estimators': 293, 'subsample': 0.6968201932795268, 'learning_rate': 0.02214383415522534, 'min_samples_split': 2, 'max_depth': 6, 'max_features': 'log2', 'target_transformer': 'log'}. Best is trial 111 with value: 0.17108495337792665.\n"
     ]
    },
    {
     "name": "stdout",
     "output_type": "stream",
     "text": [
      "🏃 View run selective-whale-284 at: http://127.0.0.1:5000/#/experiments/812027865869456740/runs/7e6a558030a44f49bf37c60bb83cb209\n",
      "🧪 View experiment at: http://127.0.0.1:5000/#/experiments/812027865869456740\n"
     ]
    },
    {
     "name": "stderr",
     "output_type": "stream",
     "text": [
      "[I 2025-08-16 03:08:29,456] Trial 115 finished with value: 0.2046372036619649 and parameters: {'regressor': 'LinearRegression', 'fit_intercept': False, 'target_transformer': 'log'}. Best is trial 111 with value: 0.17108495337792665.\n"
     ]
    },
    {
     "name": "stdout",
     "output_type": "stream",
     "text": [
      "🏃 View run sneaky-dolphin-303 at: http://127.0.0.1:5000/#/experiments/812027865869456740/runs/0e2041b6e5e84351bd401b257e947ccf\n",
      "🧪 View experiment at: http://127.0.0.1:5000/#/experiments/812027865869456740\n"
     ]
    },
    {
     "name": "stderr",
     "output_type": "stream",
     "text": [
      "[I 2025-08-16 03:10:08,787] Trial 116 finished with value: 0.17335308149216078 and parameters: {'regressor': 'GradientBoostingRegressor', 'n_estimators': 284, 'subsample': 0.6920752509328073, 'learning_rate': 0.02070553976898309, 'min_samples_split': 2, 'max_depth': 6, 'max_features': 'log2', 'target_transformer': 'log'}. Best is trial 111 with value: 0.17108495337792665.\n"
     ]
    },
    {
     "name": "stdout",
     "output_type": "stream",
     "text": [
      "🏃 View run debonair-bass-175 at: http://127.0.0.1:5000/#/experiments/812027865869456740/runs/a5eaea59cfce4087a67c2b0c09ea7f01\n",
      "🧪 View experiment at: http://127.0.0.1:5000/#/experiments/812027865869456740\n"
     ]
    },
    {
     "name": "stderr",
     "output_type": "stream",
     "text": [
      "[I 2025-08-16 03:10:21,597] Trial 117 finished with value: 0.17765946373702898 and parameters: {'regressor': 'XGBRegressor', 'n_estimators': 275, 'learning_rate': 0.024041724172433276, 'max_depth': 6, 'subsample': 0.6842362782306116, 'colsample_bytree': 0.7073857239910878, 'target_transformer': 'log'}. Best is trial 111 with value: 0.17108495337792665.\n"
     ]
    },
    {
     "name": "stdout",
     "output_type": "stream",
     "text": [
      "🏃 View run gregarious-snail-124 at: http://127.0.0.1:5000/#/experiments/812027865869456740/runs/b5766e0dbf044592b30965a507e2aa13\n",
      "🧪 View experiment at: http://127.0.0.1:5000/#/experiments/812027865869456740\n"
     ]
    },
    {
     "name": "stderr",
     "output_type": "stream",
     "text": [
      "[I 2025-08-16 03:13:52,501] Trial 118 finished with value: 0.3558246890646873 and parameters: {'regressor': 'KNeighborsRegressor', 'n_neighbors': 8, 'weights': 'distance', 'p': 1, 'target_transformer': 'log'}. Best is trial 111 with value: 0.17108495337792665.\n"
     ]
    },
    {
     "name": "stdout",
     "output_type": "stream",
     "text": [
      "🏃 View run delicate-finch-572 at: http://127.0.0.1:5000/#/experiments/812027865869456740/runs/770bdb8348834e93b70f24d269f15d5d\n",
      "🧪 View experiment at: http://127.0.0.1:5000/#/experiments/812027865869456740\n"
     ]
    },
    {
     "name": "stderr",
     "output_type": "stream",
     "text": [
      "[I 2025-08-16 03:15:37,857] Trial 119 finished with value: 0.17523730111101363 and parameters: {'regressor': 'GradientBoostingRegressor', 'n_estimators': 294, 'subsample': 0.71867536700462, 'learning_rate': 0.015879437730595202, 'min_samples_split': 2, 'max_depth': 6, 'max_features': 'log2', 'target_transformer': 'log'}. Best is trial 111 with value: 0.17108495337792665.\n"
     ]
    },
    {
     "name": "stdout",
     "output_type": "stream",
     "text": [
      "🏃 View run sedate-lynx-190 at: http://127.0.0.1:5000/#/experiments/812027865869456740/runs/f66be4f43b31408aa70feed7daffee32\n",
      "🧪 View experiment at: http://127.0.0.1:5000/#/experiments/812027865869456740\n",
      "🏃 View run No group aggregate imputer at: http://127.0.0.1:5000/#/experiments/812027865869456740/runs/9af58e5ef8c6456fa88e04cfe574febe\n",
      "🧪 View experiment at: http://127.0.0.1:5000/#/experiments/812027865869456740\n"
     ]
    }
   ],
   "source": [
    "mlflow.set_tracking_uri('http://127.0.0.1:5000')\n",
    "mlflow.set_experiment(\"House Price Prediction\")\n",
    "\n",
    "with mlflow.start_run(run_name = \"No group aggregate imputer\") as run:\n",
    "    study = optuna.create_study(direction=\"minimize\")\n",
    "    study.optimize(objective, n_trials= 120)\n",
    "\n",
    "    mlflow.log_params(study.best_params)\n",
    "    mlflow.log_metric(\"best_value\",study.best_value) "
   ]
  },
  {
   "cell_type": "markdown",
   "id": "eb745874-aaa0-4de1-9af1-2c952b826386",
   "metadata": {},
   "source": [
    "## Best Model after Experimentaion Tracking\n",
    "\n",
    "- Group Aggregate Imputer instead of Simple Imputer in `furnishing`,`num_floors` and `balcony`.\n",
    "- Dropping correlated features\n",
    "- Feature Selection bringing no of columns down to `18`.\n",
    "- The model params are  \n",
    "| regressor   | target_transformer | subsample   | n_estimators | max_depth | learning_rate | colsample_bytree |\r\n",
    "|-------------|--------------------|-------------|--------------|-----------|---------------|------------------|\r\n",
    "| XGBRegressor| log                | 0.9776623167| 189          | 3         | 0.1459533351  | 0.8668934622     |\r\n",
    "   |"
   ]
  },
  {
   "cell_type": "markdown",
   "id": "d58629d7-6e03-4c53-a80f-2ca4c6e32166",
   "metadata": {},
   "source": [
    "## 6. Final Evaluation on Test Model"
   ]
  },
  {
   "cell_type": "code",
   "execution_count": 96,
   "id": "861741e0-9347-431a-98ae-222f4c4e8ae9",
   "metadata": {},
   "outputs": [
    {
     "data": {
      "text/html": [
       "<div>\n",
       "<style scoped>\n",
       "    .dataframe tbody tr th:only-of-type {\n",
       "        vertical-align: middle;\n",
       "    }\n",
       "\n",
       "    .dataframe tbody tr th {\n",
       "        vertical-align: top;\n",
       "    }\n",
       "\n",
       "    .dataframe thead th {\n",
       "        text-align: right;\n",
       "    }\n",
       "</style>\n",
       "<table border=\"1\" class=\"dataframe\">\n",
       "  <thead>\n",
       "    <tr style=\"text-align: right;\">\n",
       "      <th></th>\n",
       "      <th>mae</th>\n",
       "      <th>r2_score</th>\n",
       "      <th>rmse</th>\n",
       "    </tr>\n",
       "    <tr>\n",
       "      <th>data</th>\n",
       "      <th></th>\n",
       "      <th></th>\n",
       "      <th></th>\n",
       "    </tr>\n",
       "  </thead>\n",
       "  <tbody>\n",
       "    <tr>\n",
       "      <th>train</th>\n",
       "      <td>0.166844</td>\n",
       "      <td>0.780897</td>\n",
       "      <td>0.262478</td>\n",
       "    </tr>\n",
       "    <tr>\n",
       "      <th>val</th>\n",
       "      <td>0.171843</td>\n",
       "      <td>0.759893</td>\n",
       "      <td>0.279042</td>\n",
       "    </tr>\n",
       "    <tr>\n",
       "      <th>test</th>\n",
       "      <td>0.175137</td>\n",
       "      <td>0.761845</td>\n",
       "      <td>0.271955</td>\n",
       "    </tr>\n",
       "  </tbody>\n",
       "</table>\n",
       "</div>"
      ],
      "text/plain": [
       "            mae  r2_score      rmse\n",
       "data                               \n",
       "train  0.166844  0.780897  0.262478\n",
       "val    0.171843  0.759893  0.279042\n",
       "test   0.175137  0.761845  0.271955"
      ]
     },
     "execution_count": 96,
     "metadata": {},
     "output_type": "execute_result"
    }
   ],
   "source": [
    "regressor = XGBRegressor(\n",
    "    n_estimators = 189,\n",
    "    max_depth = 3,\n",
    "    learning_rate = 0.1459533351,\n",
    "    subsample = 0.9776623167,\n",
    "    colsample_bytree = 0.8668934622\n",
    ")\n",
    "\n",
    "transformer = FunctionTransformer(\n",
    "                    func = np.log,\n",
    "                    inverse_func = np.exp\n",
    "                )\n",
    "\n",
    "model_pipeline = Pipeline(steps=[\n",
    "                (\"model\", TransformedTargetRegressor(\n",
    "                    regressor=regressor,\n",
    "                    transformer=transformer\n",
    "                ))\n",
    "            ])\n",
    "\n",
    "model_pipeline.fit(X_train_preprocessed,y_train)\n",
    "y_train_pred = model_pipeline.predict(X_train_preprocessed)\n",
    "y_val_pred = model_pipeline.predict(X_val_preprocessed)\n",
    "y_test_pred = model_pipeline.predict(X_test_preprocessed)\n",
    "\n",
    "train_mae = mean_absolute_error(y_train,y_train_pred)\n",
    "val_mae = mean_absolute_error(y_val,y_val_pred)\n",
    "test_mae = mean_absolute_error(y_test,y_test_pred)\n",
    "\n",
    "train_r2 = r2_score(y_train,y_train_pred)\n",
    "val_r2 = r2_score(y_val,y_val_pred)\n",
    "test_r2 = r2_score(y_test,y_test_pred)\n",
    "\n",
    "train_rmse = root_mean_squared_error(y_train,y_train_pred)\n",
    "val_rmse = root_mean_squared_error(y_val,y_val_pred)\n",
    "test_rmse = root_mean_squared_error(y_test,y_test_pred)\n",
    "\n",
    "results_df = pd.DataFrame({\n",
    "                            \"data\": [\"train\",\"val\",\"test\"],\n",
    "                            \"mae\": [train_mae,val_mae,test_mae],\n",
    "                            \"r2_score\": [train_r2,val_r2,test_r2],\n",
    "                            \"rmse\": [train_rmse,val_rmse,test_rmse]\n",
    "}).set_index(\"data\")\n",
    "\n",
    "results_df"
   ]
  }
 ],
 "metadata": {
  "kernelspec": {
   "display_name": "Python 3 (ipykernel)",
   "language": "python",
   "name": "python3"
  },
  "language_info": {
   "codemirror_mode": {
    "name": "ipython",
    "version": 3
   },
   "file_extension": ".py",
   "mimetype": "text/x-python",
   "name": "python",
   "nbconvert_exporter": "python",
   "pygments_lexer": "ipython3",
   "version": "3.12.4"
  },
  "widgets": {
   "application/vnd.jupyter.widget-state+json": {
    "state": {},
    "version_major": 2,
    "version_minor": 0
   }
  }
 },
 "nbformat": 4,
 "nbformat_minor": 5
}
